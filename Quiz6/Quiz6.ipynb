{
  "nbformat": 4,
  "nbformat_minor": 0,
  "metadata": {
    "colab": {
      "name": "Quiz6.ipynb",
      "provenance": [],
      "collapsed_sections": []
    },
    "kernelspec": {
      "name": "python3",
      "display_name": "Python 3"
    }
  },
  "cells": [
    {
      "cell_type": "markdown",
      "metadata": {
        "id": "eXGFrbrk6RFn",
        "colab_type": "text"
      },
      "source": [
        "List comprehension นำทุกตัวใน list ไปคูณด้วยสองลบด้วยหนึ่ง\n",
        "\n",
        "\n",
        "\n"
      ]
    },
    {
      "cell_type": "code",
      "metadata": {
        "id": "eKTk9P_-5evM",
        "colab_type": "code",
        "colab": {}
      },
      "source": [
        "lst1=[1,2,3,4,5]\n",
        "lst2=[1,2,3,4,5,6,7,8,9,10,11,12,13]"
      ],
      "execution_count": 0,
      "outputs": []
    },
    {
      "cell_type": "code",
      "metadata": {
        "id": "kN-1lz336jo2",
        "colab_type": "code",
        "colab": {
          "base_uri": "https://localhost:8080/",
          "height": 34
        },
        "outputId": "9130c59b-554a-40af-de79-6f7702aec327"
      },
      "source": [
        "lsta = [i*2-1 for i in lst1 ]\n",
        "print(lsta)"
      ],
      "execution_count": 2,
      "outputs": [
        {
          "output_type": "stream",
          "text": [
            "[1, 3, 5, 7, 9]\n"
          ],
          "name": "stdout"
        }
      ]
    },
    {
      "cell_type": "markdown",
      "metadata": {
        "colab_type": "text",
        "id": "_syP2Mc67I3b"
      },
      "source": [
        "List comprehension นำทุกตัวใน list ที่หารด้วยสามไม่ลงตัว แล้วนำตัวนั้นไปยกกำลังสาม\n",
        "\n",
        "\n"
      ]
    },
    {
      "cell_type": "code",
      "metadata": {
        "id": "TEV2kCi_7Qh-",
        "colab_type": "code",
        "colab": {
          "base_uri": "https://localhost:8080/",
          "height": 34
        },
        "outputId": "715ff4fd-0487-43ce-ef18-0a6de60946cc"
      },
      "source": [
        "lstb=[i**3 for i in lst2 if i%3 !=0]\n",
        "print(lstb)"
      ],
      "execution_count": 3,
      "outputs": [
        {
          "output_type": "stream",
          "text": [
            "[1, 8, 64, 125, 343, 512, 1000, 1331, 2197]\n"
          ],
          "name": "stdout"
        }
      ]
    }
  ]
}