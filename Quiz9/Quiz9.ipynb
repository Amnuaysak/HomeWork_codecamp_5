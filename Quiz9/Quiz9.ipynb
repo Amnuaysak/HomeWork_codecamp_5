{
  "nbformat": 4,
  "nbformat_minor": 0,
  "metadata": {
    "colab": {
      "name": "Quiz9.ipynb",
      "provenance": []
    },
    "kernelspec": {
      "name": "python3",
      "display_name": "Python 3"
    }
  },
  "cells": [
    {
      "cell_type": "markdown",
      "metadata": {
        "id": "pYSsgvZURYu8",
        "colab_type": "text"
      },
      "source": [
        "Reduce เพื่อหาผลลัพธ์ของเลขยกกำลังสอง"
      ]
    },
    {
      "cell_type": "code",
      "metadata": {
        "id": "cEqaJpjLPFLU",
        "colab_type": "code",
        "colab": {}
      },
      "source": [
        "from functools import reduce\n",
        "lst1=[5,2,1,3,2]\n",
        "lst2=[1,2,3,4,5,6,7,8,9,10]\n"
      ],
      "execution_count": 0,
      "outputs": []
    },
    {
      "cell_type": "code",
      "metadata": {
        "id": "qMyr_p4RdvFP",
        "colab_type": "code",
        "colab": {
          "base_uri": "https://localhost:8080/",
          "height": 34
        },
        "outputId": "35fe4457-c389-4793-e59d-c14707e90e00"
      },
      "source": [
        "yokSongA=reduce((lambda x,y:x**y),lst1)\n",
        "print(yokSongA)"
      ],
      "execution_count": 9,
      "outputs": [
        {
          "output_type": "stream",
          "text": [
            "244140625\n"
          ],
          "name": "stdout"
        }
      ]
    },
    {
      "cell_type": "markdown",
      "metadata": {
        "id": "KjgS8eGkouB_",
        "colab_type": "text"
      },
      "source": [
        "Reduce เพื่อหาผลลัพธ์ของเลขคูณ"
      ]
    },
    {
      "cell_type": "code",
      "metadata": {
        "id": "-qt5Jo6Co04o",
        "colab_type": "code",
        "colab": {
          "base_uri": "https://localhost:8080/",
          "height": 34
        },
        "outputId": "3758c5f5-ca6c-4f10-cfb6-9916c8400f2c"
      },
      "source": [
        "kun=reduce((lambda x,y:x*y),lst2)\n",
        "print(kun)"
      ],
      "execution_count": 10,
      "outputs": [
        {
          "output_type": "stream",
          "text": [
            "3628800\n"
          ],
          "name": "stdout"
        }
      ]
    }
  ]
}