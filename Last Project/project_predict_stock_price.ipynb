{
  "nbformat": 4,
  "nbformat_minor": 0,
  "metadata": {
    "accelerator": "GPU",
    "colab": {
      "name": "project_predict_stock_price.ipynb",
      "provenance": [],
      "collapsed_sections": []
    },
    "kernelspec": {
      "display_name": "Python 3",
      "name": "python3"
    }
  },
  "cells": [
    {
      "cell_type": "code",
      "metadata": {
        "id": "jmd1X92N7Ks1"
      },
      "source": [
        "import numpy as np\n",
        "import pandas as pd\n",
        "import matplotlib.pyplot as plt"
      ],
      "execution_count": 1,
      "outputs": []
    },
    {
      "cell_type": "code",
      "metadata": {
        "id": "l4TmFPaJlEWB"
      },
      "source": [
        "import time"
      ],
      "execution_count": 2,
      "outputs": []
    },
    {
      "cell_type": "markdown",
      "metadata": {
        "id": "hmJVEZfBqEbo"
      },
      "source": [
        "#Web Scraping ดึงข้อมูลจาก หุ้น 6 ตัว (scc,cpall,advanc,kbank,ptt,aot) และ set index เพื่อสร้างโมเดลที่ใช้ราคาหุ้นเป็น feature เพื่อทำนาย set index"
      ]
    },
    {
      "cell_type": "code",
      "metadata": {
        "id": "i3g56YvQeiVi"
      },
      "source": [
        "import bs4 as bs\n",
        "import urllib.request"
      ],
      "execution_count": 3,
      "outputs": []
    },
    {
      "cell_type": "code",
      "metadata": {
        "id": "HTgmbrWXgqOG"
      },
      "source": [
        "def pull_info_from_Settrade(stockName):\n",
        "  data = stockName\n",
        "  data = []\n",
        "  for i in range (8):\n",
        "    url = f'https://www.settrade.com/C04_02_stock_historical_p1.jsp?txtSymbol={stockName}&selectPage=2&max=15&offset={i*15}'\n",
        "    source = urllib.request.urlopen(url).read()\n",
        "    soup = bs.BeautifulSoup(source,'lxml')\n",
        "    table = soup.table\n",
        "    table_rows = table.find_all('tr')\n",
        "    for tr in table_rows:\n",
        "      td = tr.find_all('td')\n",
        "      row = [i.text for i in td]\n",
        "    #print(row)\n",
        "      data.append(row)\n",
        "  return data"
      ],
      "execution_count": 4,
      "outputs": []
    },
    {
      "cell_type": "code",
      "metadata": {
        "id": "NaMcgX5kb7dp"
      },
      "source": [
        "def pull_info_from_web(urlName):\n",
        "  url = urlName\n",
        "  source = urllib.request.urlopen(url).read()\n",
        "  soup = bs.BeautifulSoup(source,'lxml')\n",
        "  table = soup.table\n",
        "  table_rows = table.find_all('tr')\n",
        "  for tr in table_rows:\n",
        "    td = tr.find_all('td')\n",
        "    row = [i.text for i in td]\n",
        "  return row"
      ],
      "execution_count": 5,
      "outputs": []
    },
    {
      "cell_type": "code",
      "metadata": {
        "id": "EhGWtHsOe_0-"
      },
      "source": [
        "urlName = 'https://www.investing.com/commodities/gold-historical-data'"
      ],
      "execution_count": 6,
      "outputs": []
    },
    {
      "cell_type": "code",
      "metadata": {
        "id": "fCBXfLTru6xY",
        "outputId": "f8ba0534-c39a-4aa2-e359-439d011fe536",
        "colab": {
          "base_uri": "https://localhost:8080/"
        }
      },
      "source": [
        "t0 = time.time()\n",
        "#stock_list = ['scc','cpall','advanc','kbank','ptt','aot']\n",
        "scc = pull_info_from_Settrade('scc')\n",
        "cpall = pull_info_from_Settrade('cpall')\n",
        "advanc = pull_info_from_Settrade('advanc')\n",
        "kbank = pull_info_from_Settrade('kbank')\n",
        "ptt = pull_info_from_Settrade('ptt')\n",
        "aot = pull_info_from_Settrade('aot')\n",
        "print(time.time() - t0)"
      ],
      "execution_count": 7,
      "outputs": [
        {
          "output_type": "stream",
          "text": [
            "76.47639632225037\n"
          ],
          "name": "stdout"
        }
      ]
    },
    {
      "cell_type": "code",
      "metadata": {
        "id": "mUj3prO12nBh"
      },
      "source": [
        "def createDataFrame(data):\n",
        "  df = pd.DataFrame(data,columns=['date','open','high','low','avg_price','close','change','%change','volume(x1000)','value(MB)','setIndex','%change'])\n",
        "  df = df.mask(df.eq('None')).dropna() \n",
        "  #df['date'] = pd.to_datetime(df.date,format='%Y%m%d')\n",
        "  df = df.set_index('date')\n",
        "\n",
        "  for i in range (11):\n",
        "    df.iloc[:,i] = df.iloc[:,i].str.replace('[^\\d\\.]','').astype('float')\n",
        "  df = df.apply(pd.to_numeric)\n",
        "\n",
        "  return df\n",
        "\n",
        "def trim_X(df):\n",
        "  df = df.iloc[:,[4]]\n",
        "  return df\n",
        "\n",
        "def trim_y(df):\n",
        "  df = df.iloc[:,[9]]\n",
        "  return df\n",
        "\n",
        "def createandTrimX(data):\n",
        "  df = createDataFrame(data)\n",
        "  X = trim_X(df)\n",
        "  return X\n",
        "\n",
        "def createandTrimy(data):\n",
        "  df = createDataFrame(data)\n",
        "  y = trim_y(df)\n",
        "  return y\n"
      ],
      "execution_count": 8,
      "outputs": []
    },
    {
      "cell_type": "code",
      "metadata": {
        "id": "LqCTXTgZ17d7"
      },
      "source": [
        "df_scc = createandTrimX(scc)\n",
        "y = createandTrimy(scc)\n",
        "df_cpall = createandTrimX(cpall)\n",
        "df_advanc = createandTrimX(advanc)\n",
        "df_kbank = createandTrimX(kbank)\n",
        "df_ptt = createandTrimX(ptt)\n",
        "df_aot = createandTrimX(aot)"
      ],
      "execution_count": 9,
      "outputs": []
    },
    {
      "cell_type": "code",
      "metadata": {
        "id": "nsegABNW6c3N"
      },
      "source": [
        "df_scc.rename(columns={'close':'scc'},inplace=True)\n",
        "df_cpall.rename(columns={'close':'cpall'},inplace=True)\n",
        "df_advanc.rename(columns={'close':'advanc'},inplace=True)\n",
        "df_kbank.rename(columns={'close':'kbank'},inplace=True)\n",
        "df_ptt.rename(columns={'close':'ptt'},inplace=True)\n",
        "df_aot.rename(columns={'close':'aot'},inplace=True)"
      ],
      "execution_count": 10,
      "outputs": []
    },
    {
      "cell_type": "code",
      "metadata": {
        "id": "hm-ea2kr8Y5N"
      },
      "source": [
        "listofStock = [df_scc,df_cpall,df_advanc,df_kbank,df_ptt,df_aot]\n",
        "X = pd.concat(listofStock, axis=1, sort=False)"
      ],
      "execution_count": 11,
      "outputs": []
    },
    {
      "cell_type": "code",
      "metadata": {
        "id": "Y27hEi0B9LV3",
        "outputId": "50e00d05-4d67-42e7-aa25-3236d50d8e70",
        "colab": {
          "base_uri": "https://localhost:8080/",
          "height": 431
        }
      },
      "source": [
        "X"
      ],
      "execution_count": 12,
      "outputs": [
        {
          "output_type": "execute_result",
          "data": {
            "text/html": [
              "<div>\n",
              "<style scoped>\n",
              "    .dataframe tbody tr th:only-of-type {\n",
              "        vertical-align: middle;\n",
              "    }\n",
              "\n",
              "    .dataframe tbody tr th {\n",
              "        vertical-align: top;\n",
              "    }\n",
              "\n",
              "    .dataframe thead th {\n",
              "        text-align: right;\n",
              "    }\n",
              "</style>\n",
              "<table border=\"1\" class=\"dataframe\">\n",
              "  <thead>\n",
              "    <tr style=\"text-align: right;\">\n",
              "      <th></th>\n",
              "      <th>scc</th>\n",
              "      <th>cpall</th>\n",
              "      <th>advanc</th>\n",
              "      <th>kbank</th>\n",
              "      <th>ptt</th>\n",
              "      <th>aot</th>\n",
              "    </tr>\n",
              "    <tr>\n",
              "      <th>date</th>\n",
              "      <th></th>\n",
              "      <th></th>\n",
              "      <th></th>\n",
              "      <th></th>\n",
              "      <th></th>\n",
              "      <th></th>\n",
              "    </tr>\n",
              "  </thead>\n",
              "  <tbody>\n",
              "    <tr>\n",
              "      <th>10/11/20</th>\n",
              "      <td>367.0</td>\n",
              "      <td>63.00</td>\n",
              "      <td>181.5</td>\n",
              "      <td>94.25</td>\n",
              "      <td>38.25</td>\n",
              "      <td>67.75</td>\n",
              "    </tr>\n",
              "    <tr>\n",
              "      <th>09/11/20</th>\n",
              "      <td>361.0</td>\n",
              "      <td>60.25</td>\n",
              "      <td>179.0</td>\n",
              "      <td>80.50</td>\n",
              "      <td>34.75</td>\n",
              "      <td>57.25</td>\n",
              "    </tr>\n",
              "    <tr>\n",
              "      <th>06/11/20</th>\n",
              "      <td>350.0</td>\n",
              "      <td>59.25</td>\n",
              "      <td>174.0</td>\n",
              "      <td>80.25</td>\n",
              "      <td>34.00</td>\n",
              "      <td>55.75</td>\n",
              "    </tr>\n",
              "    <tr>\n",
              "      <th>05/11/20</th>\n",
              "      <td>350.0</td>\n",
              "      <td>59.00</td>\n",
              "      <td>179.0</td>\n",
              "      <td>78.50</td>\n",
              "      <td>34.00</td>\n",
              "      <td>56.75</td>\n",
              "    </tr>\n",
              "    <tr>\n",
              "      <th>04/11/20</th>\n",
              "      <td>341.0</td>\n",
              "      <td>55.25</td>\n",
              "      <td>172.0</td>\n",
              "      <td>76.75</td>\n",
              "      <td>32.50</td>\n",
              "      <td>54.50</td>\n",
              "    </tr>\n",
              "    <tr>\n",
              "      <th>...</th>\n",
              "      <td>...</td>\n",
              "      <td>...</td>\n",
              "      <td>...</td>\n",
              "      <td>...</td>\n",
              "      <td>...</td>\n",
              "      <td>...</td>\n",
              "    </tr>\n",
              "    <tr>\n",
              "      <th>20/05/20</th>\n",
              "      <td>347.0</td>\n",
              "      <td>70.00</td>\n",
              "      <td>191.5</td>\n",
              "      <td>88.00</td>\n",
              "      <td>36.75</td>\n",
              "      <td>59.50</td>\n",
              "    </tr>\n",
              "    <tr>\n",
              "      <th>19/05/20</th>\n",
              "      <td>345.0</td>\n",
              "      <td>69.75</td>\n",
              "      <td>189.5</td>\n",
              "      <td>87.00</td>\n",
              "      <td>36.50</td>\n",
              "      <td>60.00</td>\n",
              "    </tr>\n",
              "    <tr>\n",
              "      <th>18/05/20</th>\n",
              "      <td>339.0</td>\n",
              "      <td>69.75</td>\n",
              "      <td>188.5</td>\n",
              "      <td>82.25</td>\n",
              "      <td>36.00</td>\n",
              "      <td>58.50</td>\n",
              "    </tr>\n",
              "    <tr>\n",
              "      <th>15/05/20</th>\n",
              "      <td>336.0</td>\n",
              "      <td>69.50</td>\n",
              "      <td>189.0</td>\n",
              "      <td>82.75</td>\n",
              "      <td>35.50</td>\n",
              "      <td>59.00</td>\n",
              "    </tr>\n",
              "    <tr>\n",
              "      <th>14/05/20</th>\n",
              "      <td>341.0</td>\n",
              "      <td>70.25</td>\n",
              "      <td>190.0</td>\n",
              "      <td>84.25</td>\n",
              "      <td>35.50</td>\n",
              "      <td>59.75</td>\n",
              "    </tr>\n",
              "  </tbody>\n",
              "</table>\n",
              "<p>120 rows × 6 columns</p>\n",
              "</div>"
            ],
            "text/plain": [
              "            scc  cpall  advanc  kbank    ptt    aot\n",
              "date                                               \n",
              "10/11/20  367.0  63.00   181.5  94.25  38.25  67.75\n",
              "09/11/20  361.0  60.25   179.0  80.50  34.75  57.25\n",
              "06/11/20  350.0  59.25   174.0  80.25  34.00  55.75\n",
              "05/11/20  350.0  59.00   179.0  78.50  34.00  56.75\n",
              "04/11/20  341.0  55.25   172.0  76.75  32.50  54.50\n",
              "...         ...    ...     ...    ...    ...    ...\n",
              "20/05/20  347.0  70.00   191.5  88.00  36.75  59.50\n",
              "19/05/20  345.0  69.75   189.5  87.00  36.50  60.00\n",
              "18/05/20  339.0  69.75   188.5  82.25  36.00  58.50\n",
              "15/05/20  336.0  69.50   189.0  82.75  35.50  59.00\n",
              "14/05/20  341.0  70.25   190.0  84.25  35.50  59.75\n",
              "\n",
              "[120 rows x 6 columns]"
            ]
          },
          "metadata": {
            "tags": []
          },
          "execution_count": 12
        }
      ]
    },
    {
      "cell_type": "code",
      "metadata": {
        "id": "NQZd-0t2o-m9",
        "outputId": "aec45c7e-f981-4d25-e2d7-e1368ecf2fee",
        "colab": {
          "base_uri": "https://localhost:8080/"
        }
      },
      "source": [
        "X.shape[1]"
      ],
      "execution_count": 13,
      "outputs": [
        {
          "output_type": "execute_result",
          "data": {
            "text/plain": [
              "6"
            ]
          },
          "metadata": {
            "tags": []
          },
          "execution_count": 13
        }
      ]
    },
    {
      "cell_type": "code",
      "metadata": {
        "id": "YedJCvxNxYZi",
        "outputId": "049001d4-a205-4b6e-897a-a51bf6ba809b",
        "colab": {
          "base_uri": "https://localhost:8080/",
          "height": 621
        }
      },
      "source": [
        "plt.figure(figsize=(20, 10));\n",
        "\n",
        "plt.plot(X.iloc[:,0].values, color='red', label='scc')\n",
        "plt.plot(X.iloc[:,1].values, color='green', label='cpall')\n",
        "plt.plot(X.iloc[:,2].values, color='blue', label='advanc')\n",
        "plt.plot(X.iloc[:,3].values, color='black', label='kbank')\n",
        "plt.plot(X.iloc[:,4].values, color='yellow', label='ptt')\n",
        "plt.plot(X.iloc[:,5].values, color='m', label='aot')\n",
        "plt.title('stock price')\n",
        "plt.xlabel('time [days]')\n",
        "plt.ylabel('price Baht')\n",
        "plt.xticks(rotation=0)\n",
        "plt.legend(loc='best')\n",
        "plt.show()"
      ],
      "execution_count": 14,
      "outputs": [
        {
          "output_type": "display_data",
          "data": {
            "image/png": "[encoded data removed]",
            "text/plain": [
              "<Figure size 1440x720 with 1 Axes>"
            ]
          },
          "metadata": {
            "tags": [],
            "needs_background": "light"
          }
        }
      ]
    },
    {
      "cell_type": "code",
      "metadata": {
        "id": "eHvZKXYuWL8C",
        "outputId": "764049f7-51de-4c5b-aa0c-70f9ff18c1a3",
        "colab": {
          "base_uri": "https://localhost:8080/",
          "height": 621
        }
      },
      "source": [
        "plt.figure(figsize=(20, 10));\n",
        "plt.plot(y.values, color='black', label='set index')\n",
        "plt.title('set index')\n",
        "plt.xlabel('time ,days')\n",
        "plt.ylabel('set index')\n",
        "plt.legend(loc='best');"
      ],
      "execution_count": 15,
      "outputs": [
        {
          "output_type": "display_data",
          "data": {
            "image/png": "[encoded data removed]",
            "text/plain": [
              "<Figure size 1440x720 with 1 Axes>"
            ]
          },
          "metadata": {
            "tags": [],
            "needs_background": "light"
          }
        }
      ]
    },
    {
      "cell_type": "code",
      "metadata": {
        "id": "ftKBC1hgtFJ-"
      },
      "source": [
        "X_train = X.iloc[:X.shape[0]-20,:].values\n",
        "X_test = X.iloc[X.shape[0]-20:,:].values\n",
        "y_train = y.iloc[:y.shape[0]-20,:].values\n",
        "y_test = y.iloc[y.shape[0]-20:,:].values"
      ],
      "execution_count": 16,
      "outputs": []
    },
    {
      "cell_type": "code",
      "metadata": {
        "id": "qq7GEWBg6ia5",
        "outputId": "5884164a-8193-4d82-9d35-5a2877a0aa79",
        "colab": {
          "base_uri": "https://localhost:8080/"
        }
      },
      "source": [
        "X_train.shape"
      ],
      "execution_count": 17,
      "outputs": [
        {
          "output_type": "execute_result",
          "data": {
            "text/plain": [
              "(100, 6)"
            ]
          },
          "metadata": {
            "tags": []
          },
          "execution_count": 17
        }
      ]
    },
    {
      "cell_type": "code",
      "metadata": {
        "id": "ULQyZv8m6nXL",
        "outputId": "bfb2af9a-7e90-4932-ed55-272de52b5621",
        "colab": {
          "base_uri": "https://localhost:8080/"
        }
      },
      "source": [
        "X_test.shape"
      ],
      "execution_count": 18,
      "outputs": [
        {
          "output_type": "execute_result",
          "data": {
            "text/plain": [
              "(20, 6)"
            ]
          },
          "metadata": {
            "tags": []
          },
          "execution_count": 18
        }
      ]
    },
    {
      "cell_type": "code",
      "metadata": {
        "id": "0uCM1GF4Qwuj",
        "outputId": "b12f16d4-a0ec-4c94-850b-eba64a3933d9",
        "colab": {
          "base_uri": "https://localhost:8080/"
        }
      },
      "source": [
        "y_train.shape"
      ],
      "execution_count": 19,
      "outputs": [
        {
          "output_type": "execute_result",
          "data": {
            "text/plain": [
              "(100, 1)"
            ]
          },
          "metadata": {
            "tags": []
          },
          "execution_count": 19
        }
      ]
    },
    {
      "cell_type": "markdown",
      "metadata": {
        "id": "Vv8WVezKO1-1"
      },
      "source": [
        "## model สำหรับทำนาย set index ด้วยราคาหุ้น 6 ตัว"
      ]
    },
    {
      "cell_type": "code",
      "metadata": {
        "id": "g0PKXSubFiNZ"
      },
      "source": [
        "import keras\n",
        "\n",
        "from keras.models import Sequential\n",
        "from keras.layers import Dense\n",
        "from keras.layers import LSTM\n",
        "from keras.layers import Dropout\n",
        "from keras.layers import *\n",
        "from sklearn.preprocessing import MinMaxScaler\n",
        "from sklearn.metrics import mean_squared_error\n",
        "from sklearn.metrics import mean_absolute_error\n",
        "from sklearn.model_selection import train_test_split\n",
        "from keras.callbacks import EarlyStopping"
      ],
      "execution_count": 20,
      "outputs": []
    },
    {
      "cell_type": "code",
      "metadata": {
        "id": "X3lTO3T2IGcY"
      },
      "source": [
        "# Feature Scaling\n",
        "sc = MinMaxScaler(feature_range = (0, 1))\n",
        "X_train = sc.fit_transform(X_train)\n",
        "X_test = sc.fit_transform(X_test)\n",
        "\n",
        "X_train, y_train = np.array(X_train), np.array(y_train)\n",
        "X_train = np.reshape(X_train, (X_train.shape[0], X_train.shape[1], 1))\n",
        "\n",
        "X_test, y_test = np.array(X_test), np.array(y_test)\n",
        "X_test = np.reshape(X_test, (X_test.shape[0], X_test.shape[1], 1))"
      ],
      "execution_count": 21,
      "outputs": []
    },
    {
      "cell_type": "code",
      "metadata": {
        "id": "pW5zPmZxv0xc",
        "outputId": "f13a63b9-57b0-4952-fa77-b93e48345468",
        "colab": {
          "base_uri": "https://localhost:8080/"
        }
      },
      "source": [
        "X_train.shape"
      ],
      "execution_count": 22,
      "outputs": [
        {
          "output_type": "execute_result",
          "data": {
            "text/plain": [
              "(100, 6, 1)"
            ]
          },
          "metadata": {
            "tags": []
          },
          "execution_count": 22
        }
      ]
    },
    {
      "cell_type": "code",
      "metadata": {
        "id": "lFzwoWMIw291",
        "outputId": "4295e62e-0cd2-40fb-e647-bedc96f99b74",
        "colab": {
          "base_uri": "https://localhost:8080/"
        }
      },
      "source": [
        "y_train.shape"
      ],
      "execution_count": 23,
      "outputs": [
        {
          "output_type": "execute_result",
          "data": {
            "text/plain": [
              "(100, 1)"
            ]
          },
          "metadata": {
            "tags": []
          },
          "execution_count": 23
        }
      ]
    },
    {
      "cell_type": "code",
      "metadata": {
        "id": "E6Vxd9-13d9B",
        "outputId": "96d5c427-7082-44ec-8d13-e1dbd610bd90",
        "colab": {
          "base_uri": "https://localhost:8080/"
        }
      },
      "source": [
        "model = Sequential()\n",
        "model.add(LSTM(units = 1024, return_sequences = True, input_shape = (X_train.shape[1], 1)))\n",
        "model.add(Dropout(0.2))\n",
        "model.add(LSTM(units = 1024, return_sequences = True))\n",
        "model.add(Dropout(0.2))\n",
        "model.add(LSTM(units = 1024, return_sequences = True))\n",
        "model.add(Dropout(0.2))\n",
        "model.add(LSTM(units = 1024))\n",
        "model.add(Dropout(0.2))\n",
        "model.add(Dense(units = 1))\n",
        "\n",
        "\n",
        "model.compile(optimizer = 'adam', loss = 'mean_squared_error')\n",
        "\n",
        "\n",
        "history = model.fit(X_train, y_train, epochs = 350, batch_size = 8,validation_data=(X_test,y_test))"
      ],
      "execution_count": 24,
      "outputs": [
        {
          "output_type": "stream",
          "text": [
            "Epoch 1/350\n",
            "13/13 [==============================] - 1s 112ms/step - loss: 1621178.2500 - val_loss: 1699668.2500\n",
            "Epoch 2/350\n",
            "13/13 [==============================] - 0s 24ms/step - loss: 1557915.5000 - val_loss: 1665304.7500\n",
            "Epoch 3/350\n",
            "13/13 [==============================] - 0s 24ms/step - loss: 1524691.3750 - val_loss: 1631060.8750\n",
            "Epoch 4/350\n",
            "13/13 [==============================] - 0s 24ms/step - loss: 1492212.7500 - val_loss: 1597536.2500\n",
            "Epoch 5/350\n",
            "13/13 [==============================] - 0s 24ms/step - loss: 1460872.1250 - val_loss: 1564861.0000\n",
            "Epoch 6/350\n",
            "13/13 [==============================] - 0s 24ms/step - loss: 1429465.6250 - val_loss: 1532890.6250\n",
            "Epoch 7/350\n",
            "13/13 [==============================] - 0s 24ms/step - loss: 1398764.5000 - val_loss: 1501563.0000\n",
            "Epoch 8/350\n",
            "13/13 [==============================] - 0s 24ms/step - loss: 1368110.2500 - val_loss: 1470786.7500\n",
            "Epoch 9/350\n",
            "13/13 [==============================] - 0s 24ms/step - loss: 1339423.8750 - val_loss: 1440665.3750\n",
            "Epoch 10/350\n",
            "13/13 [==============================] - 0s 24ms/step - loss: 1311592.7500 - val_loss: 1411103.6250\n",
            "Epoch 11/350\n",
            "13/13 [==============================] - 0s 24ms/step - loss: 1282261.6250 - val_loss: 1381941.6250\n",
            "Epoch 12/350\n",
            "13/13 [==============================] - 0s 24ms/step - loss: 1255557.1250 - val_loss: 1353417.3750\n",
            "Epoch 13/350\n",
            "13/13 [==============================] - 0s 24ms/step - loss: 1229089.2500 - val_loss: 1325352.6250\n",
            "Epoch 14/350\n",
            "13/13 [==============================] - 0s 24ms/step - loss: 1201467.0000 - val_loss: 1297741.3750\n",
            "Epoch 15/350\n",
            "13/13 [==============================] - 0s 24ms/step - loss: 1176790.3750 - val_loss: 1270619.0000\n",
            "Epoch 16/350\n",
            "13/13 [==============================] - 0s 24ms/step - loss: 1149028.3750 - val_loss: 1243963.3750\n",
            "Epoch 17/350\n",
            "13/13 [==============================] - 0s 24ms/step - loss: 1123602.7500 - val_loss: 1217705.8750\n",
            "Epoch 18/350\n",
            "13/13 [==============================] - 0s 24ms/step - loss: 1102244.2500 - val_loss: 1191961.2500\n",
            "Epoch 19/350\n",
            "13/13 [==============================] - 0s 24ms/step - loss: 1074744.0000 - val_loss: 1166584.7500\n",
            "Epoch 20/350\n",
            "13/13 [==============================] - 0s 24ms/step - loss: 1049311.0000 - val_loss: 1141506.6250\n",
            "Epoch 21/350\n",
            "13/13 [==============================] - 0s 24ms/step - loss: 1027711.7500 - val_loss: 1116868.8750\n",
            "Epoch 22/350\n",
            "13/13 [==============================] - 0s 24ms/step - loss: 1004636.3125 - val_loss: 1092747.5000\n",
            "Epoch 23/350\n",
            "13/13 [==============================] - 0s 24ms/step - loss: 981820.9375 - val_loss: 1068954.0000\n",
            "Epoch 24/350\n",
            "13/13 [==============================] - 0s 24ms/step - loss: 958357.7500 - val_loss: 1045664.8125\n",
            "Epoch 25/350\n",
            "13/13 [==============================] - 0s 24ms/step - loss: 936755.9375 - val_loss: 1022754.0000\n",
            "Epoch 26/350\n",
            "13/13 [==============================] - 0s 24ms/step - loss: 913584.0000 - val_loss: 1000204.6250\n",
            "Epoch 27/350\n",
            "13/13 [==============================] - 0s 24ms/step - loss: 893332.8125 - val_loss: 978098.8750\n",
            "Epoch 28/350\n",
            "13/13 [==============================] - 0s 24ms/step - loss: 872414.6250 - val_loss: 956401.8750\n",
            "Epoch 29/350\n",
            "13/13 [==============================] - 0s 24ms/step - loss: 852339.6875 - val_loss: 935000.1250\n",
            "Epoch 30/350\n",
            "13/13 [==============================] - 0s 24ms/step - loss: 833777.6875 - val_loss: 913993.3750\n",
            "Epoch 31/350\n",
            "13/13 [==============================] - 0s 24ms/step - loss: 813022.3750 - val_loss: 893369.8125\n",
            "Epoch 32/350\n",
            "13/13 [==============================] - 0s 24ms/step - loss: 794993.5000 - val_loss: 873144.3125\n",
            "Epoch 33/350\n",
            "13/13 [==============================] - 0s 24ms/step - loss: 774204.0625 - val_loss: 853254.8750\n",
            "Epoch 34/350\n",
            "13/13 [==============================] - 0s 24ms/step - loss: 756450.8750 - val_loss: 833740.1250\n",
            "Epoch 35/350\n",
            "13/13 [==============================] - 0s 24ms/step - loss: 734263.4375 - val_loss: 814509.6875\n",
            "Epoch 36/350\n",
            "13/13 [==============================] - 0s 24ms/step - loss: 720483.7500 - val_loss: 795636.8750\n",
            "Epoch 37/350\n",
            "13/13 [==============================] - 0s 24ms/step - loss: 702563.4375 - val_loss: 777154.1250\n",
            "Epoch 38/350\n",
            "13/13 [==============================] - 0s 24ms/step - loss: 683953.0625 - val_loss: 759081.1875\n",
            "Epoch 39/350\n",
            "13/13 [==============================] - 0s 25ms/step - loss: 668217.5000 - val_loss: 741258.6875\n",
            "Epoch 40/350\n",
            "13/13 [==============================] - 0s 24ms/step - loss: 649822.0000 - val_loss: 723783.5000\n",
            "Epoch 41/350\n",
            "13/13 [==============================] - 0s 24ms/step - loss: 636391.7500 - val_loss: 706616.5625\n",
            "Epoch 42/350\n",
            "13/13 [==============================] - 0s 24ms/step - loss: 618466.5000 - val_loss: 689800.1250\n",
            "Epoch 43/350\n",
            "13/13 [==============================] - 0s 25ms/step - loss: 601441.0000 - val_loss: 673306.7500\n",
            "Epoch 44/350\n",
            "13/13 [==============================] - 0s 24ms/step - loss: 586304.2500 - val_loss: 657078.6875\n",
            "Epoch 45/350\n",
            "13/13 [==============================] - 0s 24ms/step - loss: 572794.0625 - val_loss: 641188.6875\n",
            "Epoch 46/350\n",
            "13/13 [==============================] - 0s 24ms/step - loss: 557366.0000 - val_loss: 625645.8125\n",
            "Epoch 47/350\n",
            "13/13 [==============================] - 0s 24ms/step - loss: 542061.5000 - val_loss: 610358.5625\n",
            "Epoch 48/350\n",
            "13/13 [==============================] - 0s 24ms/step - loss: 530492.0625 - val_loss: 595321.5000\n",
            "Epoch 49/350\n",
            "13/13 [==============================] - 0s 24ms/step - loss: 515132.1562 - val_loss: 580676.3750\n",
            "Epoch 50/350\n",
            "13/13 [==============================] - 0s 24ms/step - loss: 500918.1250 - val_loss: 566218.6250\n",
            "Epoch 51/350\n",
            "13/13 [==============================] - 0s 24ms/step - loss: 486919.1562 - val_loss: 552138.9375\n",
            "Epoch 52/350\n",
            "13/13 [==============================] - 0s 24ms/step - loss: 476031.8750 - val_loss: 538284.5000\n",
            "Epoch 53/350\n",
            "13/13 [==============================] - 0s 24ms/step - loss: 463128.9062 - val_loss: 524714.6875\n",
            "Epoch 54/350\n",
            "13/13 [==============================] - 0s 24ms/step - loss: 450168.9062 - val_loss: 511461.4062\n",
            "Epoch 55/350\n",
            "13/13 [==============================] - 0s 24ms/step - loss: 438040.6250 - val_loss: 498425.9375\n",
            "Epoch 56/350\n",
            "13/13 [==============================] - 0s 24ms/step - loss: 427003.2812 - val_loss: 485660.1875\n",
            "Epoch 57/350\n",
            "13/13 [==============================] - 0s 24ms/step - loss: 411246.8125 - val_loss: 473093.1875\n",
            "Epoch 58/350\n",
            "13/13 [==============================] - 0s 24ms/step - loss: 402043.4375 - val_loss: 460835.5000\n",
            "Epoch 59/350\n",
            "13/13 [==============================] - 0s 24ms/step - loss: 392795.1875 - val_loss: 448812.0000\n",
            "Epoch 60/350\n",
            "13/13 [==============================] - 0s 24ms/step - loss: 381681.7500 - val_loss: 437013.5625\n",
            "Epoch 61/350\n",
            "13/13 [==============================] - 0s 24ms/step - loss: 368355.5938 - val_loss: 425487.3125\n",
            "Epoch 62/350\n",
            "13/13 [==============================] - 0s 24ms/step - loss: 359355.5938 - val_loss: 414184.1875\n",
            "Epoch 63/350\n",
            "13/13 [==============================] - 0s 24ms/step - loss: 349568.0000 - val_loss: 403154.2812\n",
            "Epoch 64/350\n",
            "13/13 [==============================] - 0s 24ms/step - loss: 337389.6875 - val_loss: 392345.6875\n",
            "Epoch 65/350\n",
            "13/13 [==============================] - 0s 24ms/step - loss: 327948.3750 - val_loss: 381806.0938\n",
            "Epoch 66/350\n",
            "13/13 [==============================] - 0s 24ms/step - loss: 318467.0312 - val_loss: 371483.8125\n",
            "Epoch 67/350\n",
            "13/13 [==============================] - 0s 24ms/step - loss: 310653.8750 - val_loss: 361393.8438\n",
            "Epoch 68/350\n",
            "13/13 [==============================] - 0s 24ms/step - loss: 302307.5312 - val_loss: 351490.3438\n",
            "Epoch 69/350\n",
            "13/13 [==============================] - 0s 24ms/step - loss: 290501.1250 - val_loss: 341847.2812\n",
            "Epoch 70/350\n",
            "13/13 [==============================] - 0s 24ms/step - loss: 282188.6562 - val_loss: 332429.4062\n",
            "Epoch 71/350\n",
            "13/13 [==============================] - 0s 24ms/step - loss: 272794.4062 - val_loss: 323248.5938\n",
            "Epoch 72/350\n",
            "13/13 [==============================] - 0s 24ms/step - loss: 264027.0000 - val_loss: 314280.8750\n",
            "Epoch 73/350\n",
            "13/13 [==============================] - 0s 24ms/step - loss: 255928.1562 - val_loss: 305507.3438\n",
            "Epoch 74/350\n",
            "13/13 [==============================] - 0s 24ms/step - loss: 247977.3750 - val_loss: 296947.7500\n",
            "Epoch 75/350\n",
            "13/13 [==============================] - 0s 24ms/step - loss: 243703.1562 - val_loss: 288591.8125\n",
            "Epoch 76/350\n",
            "13/13 [==============================] - 0s 24ms/step - loss: 233882.9219 - val_loss: 280431.0312\n",
            "Epoch 77/350\n",
            "13/13 [==============================] - 0s 24ms/step - loss: 227649.9531 - val_loss: 272431.6875\n",
            "Epoch 78/350\n",
            "13/13 [==============================] - 0s 24ms/step - loss: 219798.0781 - val_loss: 264603.9375\n",
            "Epoch 79/350\n",
            "13/13 [==============================] - 0s 24ms/step - loss: 214732.0625 - val_loss: 256961.3438\n",
            "Epoch 80/350\n",
            "13/13 [==============================] - 0s 24ms/step - loss: 205225.7656 - val_loss: 249555.5000\n",
            "Epoch 81/350\n",
            "13/13 [==============================] - 0s 24ms/step - loss: 199275.0000 - val_loss: 242312.0469\n",
            "Epoch 82/350\n",
            "13/13 [==============================] - 0s 25ms/step - loss: 194014.0469 - val_loss: 235206.7031\n",
            "Epoch 83/350\n",
            "13/13 [==============================] - 0s 24ms/step - loss: 186213.9531 - val_loss: 228271.7500\n",
            "Epoch 84/350\n",
            "13/13 [==============================] - 0s 24ms/step - loss: 180763.7656 - val_loss: 221574.9688\n",
            "Epoch 85/350\n",
            "13/13 [==============================] - 0s 24ms/step - loss: 176744.1875 - val_loss: 215011.2188\n",
            "Epoch 86/350\n",
            "13/13 [==============================] - 0s 24ms/step - loss: 169846.5000 - val_loss: 208614.0469\n",
            "Epoch 87/350\n",
            "13/13 [==============================] - 0s 24ms/step - loss: 165284.6719 - val_loss: 202352.0938\n",
            "Epoch 88/350\n",
            "13/13 [==============================] - 0s 24ms/step - loss: 157942.9062 - val_loss: 196286.1719\n",
            "Epoch 89/350\n",
            "13/13 [==============================] - 0s 24ms/step - loss: 154407.4375 - val_loss: 190348.4062\n",
            "Epoch 90/350\n",
            "13/13 [==============================] - 0s 25ms/step - loss: 147069.6719 - val_loss: 184597.5938\n",
            "Epoch 91/350\n",
            "13/13 [==============================] - 0s 25ms/step - loss: 143336.7344 - val_loss: 178962.7188\n",
            "Epoch 92/350\n",
            "13/13 [==============================] - 0s 25ms/step - loss: 137703.0469 - val_loss: 173513.2188\n",
            "Epoch 93/350\n",
            "13/13 [==============================] - 0s 25ms/step - loss: 133363.2969 - val_loss: 168153.4688\n",
            "Epoch 94/350\n",
            "13/13 [==============================] - 0s 25ms/step - loss: 129528.7031 - val_loss: 162961.3438\n",
            "Epoch 95/350\n",
            "13/13 [==============================] - 0s 24ms/step - loss: 123033.3203 - val_loss: 157933.1094\n",
            "Epoch 96/350\n",
            "13/13 [==============================] - 0s 24ms/step - loss: 119813.3281 - val_loss: 153016.0000\n",
            "Epoch 97/350\n",
            "13/13 [==============================] - 0s 25ms/step - loss: 115829.8828 - val_loss: 148228.7344\n",
            "Epoch 98/350\n",
            "13/13 [==============================] - 0s 24ms/step - loss: 111963.3828 - val_loss: 143575.9531\n",
            "Epoch 99/350\n",
            "13/13 [==============================] - 0s 24ms/step - loss: 107637.0391 - val_loss: 139053.1875\n",
            "Epoch 100/350\n",
            "13/13 [==============================] - 0s 25ms/step - loss: 102862.5703 - val_loss: 134712.8438\n",
            "Epoch 101/350\n",
            "13/13 [==============================] - 0s 25ms/step - loss: 100848.9531 - val_loss: 130462.4844\n",
            "Epoch 102/350\n",
            "13/13 [==============================] - 0s 24ms/step - loss: 95970.3672 - val_loss: 126296.6719\n",
            "Epoch 103/350\n",
            "13/13 [==============================] - 0s 25ms/step - loss: 91530.9766 - val_loss: 122259.1484\n",
            "Epoch 104/350\n",
            "13/13 [==============================] - 0s 25ms/step - loss: 89605.4375 - val_loss: 118377.6016\n",
            "Epoch 105/350\n",
            "13/13 [==============================] - 0s 25ms/step - loss: 85006.2500 - val_loss: 114582.7734\n",
            "Epoch 106/350\n",
            "13/13 [==============================] - 0s 24ms/step - loss: 82293.4531 - val_loss: 110884.8594\n",
            "Epoch 107/350\n",
            "13/13 [==============================] - 0s 24ms/step - loss: 78920.1406 - val_loss: 107270.8594\n",
            "Epoch 108/350\n",
            "13/13 [==============================] - 0s 24ms/step - loss: 77768.7891 - val_loss: 103802.6875\n",
            "Epoch 109/350\n",
            "13/13 [==============================] - 0s 24ms/step - loss: 72092.9688 - val_loss: 100426.8672\n",
            "Epoch 110/350\n",
            "13/13 [==============================] - 0s 25ms/step - loss: 70891.6094 - val_loss: 97133.3438\n",
            "Epoch 111/350\n",
            "13/13 [==============================] - 0s 24ms/step - loss: 67132.8750 - val_loss: 93983.8594\n",
            "Epoch 112/350\n",
            "13/13 [==============================] - 0s 25ms/step - loss: 66182.0625 - val_loss: 90900.1953\n",
            "Epoch 113/350\n",
            "13/13 [==============================] - 0s 24ms/step - loss: 63275.1992 - val_loss: 87890.8906\n",
            "Epoch 114/350\n",
            "13/13 [==============================] - 0s 24ms/step - loss: 60713.8594 - val_loss: 84992.3750\n",
            "Epoch 115/350\n",
            "13/13 [==============================] - 0s 25ms/step - loss: 59044.8281 - val_loss: 82188.7969\n",
            "Epoch 116/350\n",
            "13/13 [==============================] - 0s 24ms/step - loss: 56756.5938 - val_loss: 79427.1875\n",
            "Epoch 117/350\n",
            "13/13 [==============================] - 0s 25ms/step - loss: 54219.2344 - val_loss: 76766.2344\n",
            "Epoch 118/350\n",
            "13/13 [==============================] - 0s 24ms/step - loss: 52440.6133 - val_loss: 74164.7266\n",
            "Epoch 119/350\n",
            "13/13 [==============================] - 0s 24ms/step - loss: 49694.2812 - val_loss: 71668.3203\n",
            "Epoch 120/350\n",
            "13/13 [==============================] - 0s 24ms/step - loss: 47452.0664 - val_loss: 69281.3359\n",
            "Epoch 121/350\n",
            "13/13 [==============================] - 0s 24ms/step - loss: 44725.1836 - val_loss: 66917.2500\n",
            "Epoch 122/350\n",
            "13/13 [==============================] - 0s 24ms/step - loss: 44277.4844 - val_loss: 64689.6875\n",
            "Epoch 123/350\n",
            "13/13 [==============================] - 0s 24ms/step - loss: 41971.7539 - val_loss: 62511.6484\n",
            "Epoch 124/350\n",
            "13/13 [==============================] - 0s 24ms/step - loss: 40737.0977 - val_loss: 60391.1680\n",
            "Epoch 125/350\n",
            "13/13 [==============================] - 0s 24ms/step - loss: 38455.5430 - val_loss: 58370.2812\n",
            "Epoch 126/350\n",
            "13/13 [==============================] - 0s 24ms/step - loss: 36242.6211 - val_loss: 56415.3047\n",
            "Epoch 127/350\n",
            "13/13 [==============================] - 0s 24ms/step - loss: 35150.3242 - val_loss: 54521.6680\n",
            "Epoch 128/350\n",
            "13/13 [==============================] - 0s 25ms/step - loss: 35208.6133 - val_loss: 52666.0742\n",
            "Epoch 129/350\n",
            "13/13 [==============================] - 0s 24ms/step - loss: 32550.3379 - val_loss: 50897.4375\n",
            "Epoch 130/350\n",
            "13/13 [==============================] - 0s 24ms/step - loss: 31499.2559 - val_loss: 49175.8203\n",
            "Epoch 131/350\n",
            "13/13 [==============================] - 0s 24ms/step - loss: 30128.5000 - val_loss: 47491.2734\n",
            "Epoch 132/350\n",
            "13/13 [==============================] - 0s 25ms/step - loss: 28996.3320 - val_loss: 45874.1367\n",
            "Epoch 133/350\n",
            "13/13 [==============================] - 0s 24ms/step - loss: 27458.4707 - val_loss: 44321.3984\n",
            "Epoch 134/350\n",
            "13/13 [==============================] - 0s 24ms/step - loss: 25805.3281 - val_loss: 42832.3320\n",
            "Epoch 135/350\n",
            "13/13 [==============================] - 0s 24ms/step - loss: 25736.6758 - val_loss: 41391.7930\n",
            "Epoch 136/350\n",
            "13/13 [==============================] - 0s 24ms/step - loss: 23725.5547 - val_loss: 39994.4883\n",
            "Epoch 137/350\n",
            "13/13 [==============================] - 0s 25ms/step - loss: 23163.5332 - val_loss: 38663.4219\n",
            "Epoch 138/350\n",
            "13/13 [==============================] - 0s 24ms/step - loss: 21900.1445 - val_loss: 37354.9414\n",
            "Epoch 139/350\n",
            "13/13 [==============================] - 0s 24ms/step - loss: 20927.7793 - val_loss: 36122.7695\n",
            "Epoch 140/350\n",
            "13/13 [==============================] - 0s 25ms/step - loss: 20143.4707 - val_loss: 34914.0352\n",
            "Epoch 141/350\n",
            "13/13 [==============================] - 0s 24ms/step - loss: 19832.9941 - val_loss: 33737.2227\n",
            "Epoch 142/350\n",
            "13/13 [==============================] - 0s 24ms/step - loss: 19443.4805 - val_loss: 32592.2441\n",
            "Epoch 143/350\n",
            "13/13 [==============================] - 0s 25ms/step - loss: 17987.6113 - val_loss: 31484.1094\n",
            "Epoch 144/350\n",
            "13/13 [==============================] - 0s 25ms/step - loss: 16351.0771 - val_loss: 30465.3691\n",
            "Epoch 145/350\n",
            "13/13 [==============================] - 0s 25ms/step - loss: 16407.9746 - val_loss: 29456.0938\n",
            "Epoch 146/350\n",
            "13/13 [==============================] - 0s 24ms/step - loss: 16123.8076 - val_loss: 28495.7188\n",
            "Epoch 147/350\n",
            "13/13 [==============================] - 0s 24ms/step - loss: 15518.4375 - val_loss: 27554.1465\n",
            "Epoch 148/350\n",
            "13/13 [==============================] - 0s 24ms/step - loss: 14207.4541 - val_loss: 26637.3867\n",
            "Epoch 149/350\n",
            "13/13 [==============================] - 0s 24ms/step - loss: 14407.8945 - val_loss: 25760.1445\n",
            "Epoch 150/350\n",
            "13/13 [==============================] - 0s 24ms/step - loss: 13510.3613 - val_loss: 24922.4160\n",
            "Epoch 151/350\n",
            "13/13 [==============================] - 0s 24ms/step - loss: 12760.5439 - val_loss: 24115.5273\n",
            "Epoch 152/350\n",
            "13/13 [==============================] - 0s 25ms/step - loss: 12069.9922 - val_loss: 23346.5957\n",
            "Epoch 153/350\n",
            "13/13 [==============================] - 0s 24ms/step - loss: 10925.0947 - val_loss: 22623.6191\n",
            "Epoch 154/350\n",
            "13/13 [==============================] - 0s 24ms/step - loss: 11244.1816 - val_loss: 21941.8398\n",
            "Epoch 155/350\n",
            "13/13 [==============================] - 0s 25ms/step - loss: 10382.0371 - val_loss: 21253.3457\n",
            "Epoch 156/350\n",
            "13/13 [==============================] - 0s 24ms/step - loss: 9777.8574 - val_loss: 20604.9668\n",
            "Epoch 157/350\n",
            "13/13 [==============================] - 0s 24ms/step - loss: 10609.7471 - val_loss: 19945.8945\n",
            "Epoch 158/350\n",
            "13/13 [==============================] - 0s 25ms/step - loss: 9765.0908 - val_loss: 19336.9512\n",
            "Epoch 159/350\n",
            "13/13 [==============================] - 0s 25ms/step - loss: 8684.5234 - val_loss: 18759.8066\n",
            "Epoch 160/350\n",
            "13/13 [==============================] - 0s 24ms/step - loss: 8123.9526 - val_loss: 18228.4336\n",
            "Epoch 161/350\n",
            "13/13 [==============================] - 0s 25ms/step - loss: 8386.7959 - val_loss: 17702.0742\n",
            "Epoch 162/350\n",
            "13/13 [==============================] - 0s 24ms/step - loss: 8332.2158 - val_loss: 17169.0938\n",
            "Epoch 163/350\n",
            "13/13 [==============================] - 0s 24ms/step - loss: 8117.2607 - val_loss: 16637.6699\n",
            "Epoch 164/350\n",
            "13/13 [==============================] - 0s 24ms/step - loss: 7482.3477 - val_loss: 16153.8926\n",
            "Epoch 165/350\n",
            "13/13 [==============================] - 0s 24ms/step - loss: 7056.7515 - val_loss: 15693.2637\n",
            "Epoch 166/350\n",
            "13/13 [==============================] - 0s 24ms/step - loss: 6803.2402 - val_loss: 15259.2871\n",
            "Epoch 167/350\n",
            "13/13 [==============================] - 0s 25ms/step - loss: 7246.3564 - val_loss: 14831.3203\n",
            "Epoch 168/350\n",
            "13/13 [==============================] - 0s 24ms/step - loss: 7373.8657 - val_loss: 14399.4346\n",
            "Epoch 169/350\n",
            "13/13 [==============================] - 0s 24ms/step - loss: 5856.9961 - val_loss: 14020.4043\n",
            "Epoch 170/350\n",
            "13/13 [==============================] - 0s 24ms/step - loss: 6124.2104 - val_loss: 13647.6543\n",
            "Epoch 171/350\n",
            "13/13 [==============================] - 0s 25ms/step - loss: 6383.6963 - val_loss: 13281.1465\n",
            "Epoch 172/350\n",
            "13/13 [==============================] - 0s 24ms/step - loss: 5356.2363 - val_loss: 12917.8887\n",
            "Epoch 173/350\n",
            "13/13 [==============================] - 0s 25ms/step - loss: 5741.7676 - val_loss: 12578.4795\n",
            "Epoch 174/350\n",
            "13/13 [==============================] - 0s 25ms/step - loss: 5655.7158 - val_loss: 12250.4033\n",
            "Epoch 175/350\n",
            "13/13 [==============================] - 0s 24ms/step - loss: 5455.4155 - val_loss: 11953.4434\n",
            "Epoch 176/350\n",
            "13/13 [==============================] - 0s 25ms/step - loss: 4668.1157 - val_loss: 11663.9541\n",
            "Epoch 177/350\n",
            "13/13 [==============================] - 0s 25ms/step - loss: 5195.4717 - val_loss: 11394.2139\n",
            "Epoch 178/350\n",
            "13/13 [==============================] - 0s 24ms/step - loss: 4915.2651 - val_loss: 11121.3457\n",
            "Epoch 179/350\n",
            "13/13 [==============================] - 0s 25ms/step - loss: 4725.4214 - val_loss: 10862.9023\n",
            "Epoch 180/350\n",
            "13/13 [==============================] - 0s 25ms/step - loss: 4260.8779 - val_loss: 10617.9902\n",
            "Epoch 181/350\n",
            "13/13 [==============================] - 0s 25ms/step - loss: 4678.5889 - val_loss: 10384.9121\n",
            "Epoch 182/350\n",
            "13/13 [==============================] - 0s 24ms/step - loss: 4620.9668 - val_loss: 10169.5400\n",
            "Epoch 183/350\n",
            "13/13 [==============================] - 0s 25ms/step - loss: 4374.2598 - val_loss: 9957.3779\n",
            "Epoch 184/350\n",
            "13/13 [==============================] - 0s 24ms/step - loss: 4190.7793 - val_loss: 9751.4355\n",
            "Epoch 185/350\n",
            "13/13 [==============================] - 0s 25ms/step - loss: 4277.9092 - val_loss: 9563.1143\n",
            "Epoch 186/350\n",
            "13/13 [==============================] - 0s 25ms/step - loss: 4151.9028 - val_loss: 9364.8828\n",
            "Epoch 187/350\n",
            "13/13 [==============================] - 0s 25ms/step - loss: 4510.6934 - val_loss: 9169.9746\n",
            "Epoch 188/350\n",
            "13/13 [==============================] - 0s 25ms/step - loss: 4402.2676 - val_loss: 8979.5264\n",
            "Epoch 189/350\n",
            "13/13 [==============================] - 0s 24ms/step - loss: 3709.1082 - val_loss: 8809.0342\n",
            "Epoch 190/350\n",
            "13/13 [==============================] - 0s 25ms/step - loss: 3878.1421 - val_loss: 8636.4092\n",
            "Epoch 191/350\n",
            "13/13 [==============================] - 0s 25ms/step - loss: 3788.5757 - val_loss: 8456.4668\n",
            "Epoch 192/350\n",
            "13/13 [==============================] - 0s 24ms/step - loss: 3688.7400 - val_loss: 8317.6299\n",
            "Epoch 193/350\n",
            "13/13 [==============================] - 0s 25ms/step - loss: 4137.1235 - val_loss: 8174.7275\n",
            "Epoch 194/350\n",
            "13/13 [==============================] - 0s 24ms/step - loss: 3490.5066 - val_loss: 8037.5596\n",
            "Epoch 195/350\n",
            "13/13 [==============================] - 0s 25ms/step - loss: 3356.4675 - val_loss: 7918.7725\n",
            "Epoch 196/350\n",
            "13/13 [==============================] - 0s 25ms/step - loss: 3513.8857 - val_loss: 7787.5640\n",
            "Epoch 197/350\n",
            "13/13 [==============================] - 0s 25ms/step - loss: 3380.6973 - val_loss: 7675.8193\n",
            "Epoch 198/350\n",
            "13/13 [==============================] - 0s 24ms/step - loss: 3150.2112 - val_loss: 7564.2944\n",
            "Epoch 199/350\n",
            "13/13 [==============================] - 0s 24ms/step - loss: 3105.9856 - val_loss: 7467.5728\n",
            "Epoch 200/350\n",
            "13/13 [==============================] - 0s 25ms/step - loss: 3630.4092 - val_loss: 7334.1108\n",
            "Epoch 201/350\n",
            "13/13 [==============================] - 0s 25ms/step - loss: 3348.6455 - val_loss: 7231.7539\n",
            "Epoch 202/350\n",
            "13/13 [==============================] - 0s 25ms/step - loss: 4007.4238 - val_loss: 7129.4976\n",
            "Epoch 203/350\n",
            "13/13 [==============================] - 0s 25ms/step - loss: 3098.8481 - val_loss: 7033.9727\n",
            "Epoch 204/350\n",
            "13/13 [==============================] - 0s 25ms/step - loss: 3209.6641 - val_loss: 6947.0728\n",
            "Epoch 205/350\n",
            "13/13 [==============================] - 0s 25ms/step - loss: 3462.1833 - val_loss: 6845.4126\n",
            "Epoch 206/350\n",
            "13/13 [==============================] - 0s 24ms/step - loss: 3509.4851 - val_loss: 6765.8179\n",
            "Epoch 207/350\n",
            "13/13 [==============================] - 0s 24ms/step - loss: 3114.4165 - val_loss: 6696.3735\n",
            "Epoch 208/350\n",
            "13/13 [==============================] - 0s 24ms/step - loss: 3152.1990 - val_loss: 6626.3359\n",
            "Epoch 209/350\n",
            "13/13 [==============================] - 0s 24ms/step - loss: 3125.1611 - val_loss: 6573.6250\n",
            "Epoch 210/350\n",
            "13/13 [==============================] - 0s 24ms/step - loss: 3048.5791 - val_loss: 6509.0044\n",
            "Epoch 211/350\n",
            "13/13 [==============================] - 0s 24ms/step - loss: 3236.3406 - val_loss: 6447.9697\n",
            "Epoch 212/350\n",
            "13/13 [==============================] - 0s 24ms/step - loss: 3374.7578 - val_loss: 6390.9102\n",
            "Epoch 213/350\n",
            "13/13 [==============================] - 0s 24ms/step - loss: 3304.8235 - val_loss: 6318.4512\n",
            "Epoch 214/350\n",
            "13/13 [==============================] - 0s 24ms/step - loss: 3329.6965 - val_loss: 6246.8408\n",
            "Epoch 215/350\n",
            "13/13 [==============================] - 0s 24ms/step - loss: 3372.3357 - val_loss: 6195.4946\n",
            "Epoch 216/350\n",
            "13/13 [==============================] - 0s 24ms/step - loss: 2895.0081 - val_loss: 6133.5127\n",
            "Epoch 217/350\n",
            "13/13 [==============================] - 0s 24ms/step - loss: 3106.3560 - val_loss: 6092.8438\n",
            "Epoch 218/350\n",
            "13/13 [==============================] - 0s 25ms/step - loss: 3162.8147 - val_loss: 6057.6172\n",
            "Epoch 219/350\n",
            "13/13 [==============================] - 0s 25ms/step - loss: 3130.9624 - val_loss: 5988.7095\n",
            "Epoch 220/350\n",
            "13/13 [==============================] - 0s 24ms/step - loss: 3246.3604 - val_loss: 5934.7764\n",
            "Epoch 221/350\n",
            "13/13 [==============================] - 0s 25ms/step - loss: 2890.1868 - val_loss: 5893.1304\n",
            "Epoch 222/350\n",
            "13/13 [==============================] - 0s 24ms/step - loss: 3298.2686 - val_loss: 5857.9053\n",
            "Epoch 223/350\n",
            "13/13 [==============================] - 0s 24ms/step - loss: 3011.2910 - val_loss: 5817.6685\n",
            "Epoch 224/350\n",
            "13/13 [==============================] - 0s 24ms/step - loss: 3192.9507 - val_loss: 5783.5659\n",
            "Epoch 225/350\n",
            "13/13 [==============================] - 0s 24ms/step - loss: 3067.1755 - val_loss: 5735.6709\n",
            "Epoch 226/350\n",
            "13/13 [==============================] - 0s 24ms/step - loss: 3286.0706 - val_loss: 5703.7705\n",
            "Epoch 227/350\n",
            "13/13 [==============================] - 0s 24ms/step - loss: 2759.9360 - val_loss: 5661.2544\n",
            "Epoch 228/350\n",
            "13/13 [==============================] - 0s 24ms/step - loss: 3287.6274 - val_loss: 5619.8623\n",
            "Epoch 229/350\n",
            "13/13 [==============================] - 0s 24ms/step - loss: 3142.9407 - val_loss: 5604.6367\n",
            "Epoch 230/350\n",
            "13/13 [==============================] - 0s 24ms/step - loss: 2908.3503 - val_loss: 5569.7998\n",
            "Epoch 231/350\n",
            "13/13 [==============================] - 0s 24ms/step - loss: 2889.8232 - val_loss: 5554.5068\n",
            "Epoch 232/350\n",
            "13/13 [==============================] - 0s 25ms/step - loss: 2946.3887 - val_loss: 5544.5649\n",
            "Epoch 233/350\n",
            "13/13 [==============================] - 0s 24ms/step - loss: 3368.0879 - val_loss: 5523.0586\n",
            "Epoch 234/350\n",
            "13/13 [==============================] - 0s 24ms/step - loss: 2895.0562 - val_loss: 5502.2593\n",
            "Epoch 235/350\n",
            "13/13 [==============================] - 0s 24ms/step - loss: 3010.2354 - val_loss: 5461.8877\n",
            "Epoch 236/350\n",
            "13/13 [==============================] - 0s 25ms/step - loss: 2944.5688 - val_loss: 5426.8428\n",
            "Epoch 237/350\n",
            "13/13 [==============================] - 0s 24ms/step - loss: 3016.0081 - val_loss: 5400.2148\n",
            "Epoch 238/350\n",
            "13/13 [==============================] - 0s 25ms/step - loss: 2763.1975 - val_loss: 5377.7456\n",
            "Epoch 239/350\n",
            "13/13 [==============================] - 0s 24ms/step - loss: 2944.3491 - val_loss: 5359.1582\n",
            "Epoch 240/350\n",
            "13/13 [==============================] - 0s 25ms/step - loss: 2903.8757 - val_loss: 5347.4189\n",
            "Epoch 241/350\n",
            "13/13 [==============================] - 0s 24ms/step - loss: 3187.3528 - val_loss: 5326.4238\n",
            "Epoch 242/350\n",
            "13/13 [==============================] - 0s 24ms/step - loss: 2818.9695 - val_loss: 5307.6133\n",
            "Epoch 243/350\n",
            "13/13 [==============================] - 0s 25ms/step - loss: 3092.8970 - val_loss: 5277.3604\n",
            "Epoch 244/350\n",
            "13/13 [==============================] - 0s 25ms/step - loss: 3287.5701 - val_loss: 5264.6113\n",
            "Epoch 245/350\n",
            "13/13 [==============================] - 0s 24ms/step - loss: 2842.1074 - val_loss: 5269.4946\n",
            "Epoch 246/350\n",
            "13/13 [==============================] - 0s 25ms/step - loss: 2766.3550 - val_loss: 5262.8955\n",
            "Epoch 247/350\n",
            "13/13 [==============================] - 0s 24ms/step - loss: 2709.0444 - val_loss: 5233.5044\n",
            "Epoch 248/350\n",
            "13/13 [==============================] - 0s 24ms/step - loss: 3100.3481 - val_loss: 5228.9072\n",
            "Epoch 249/350\n",
            "13/13 [==============================] - 0s 24ms/step - loss: 2701.7932 - val_loss: 5218.0742\n",
            "Epoch 250/350\n",
            "13/13 [==============================] - 0s 24ms/step - loss: 3527.3330 - val_loss: 5214.0547\n",
            "Epoch 251/350\n",
            "13/13 [==============================] - 0s 24ms/step - loss: 2873.3225 - val_loss: 5210.4736\n",
            "Epoch 252/350\n",
            "13/13 [==============================] - 0s 24ms/step - loss: 3195.1587 - val_loss: 5194.9185\n",
            "Epoch 253/350\n",
            "13/13 [==============================] - 0s 24ms/step - loss: 3186.8975 - val_loss: 5179.0420\n",
            "Epoch 254/350\n",
            "13/13 [==============================] - 0s 25ms/step - loss: 3157.8960 - val_loss: 5171.0146\n",
            "Epoch 255/350\n",
            "13/13 [==============================] - 0s 24ms/step - loss: 3370.7954 - val_loss: 5150.5972\n",
            "Epoch 256/350\n",
            "13/13 [==============================] - 0s 24ms/step - loss: 3200.7107 - val_loss: 5170.3584\n",
            "Epoch 257/350\n",
            "13/13 [==============================] - 0s 24ms/step - loss: 2572.4421 - val_loss: 5167.0449\n",
            "Epoch 258/350\n",
            "13/13 [==============================] - 0s 24ms/step - loss: 3342.5789 - val_loss: 5161.6313\n",
            "Epoch 259/350\n",
            "13/13 [==============================] - 0s 24ms/step - loss: 3080.7798 - val_loss: 5138.9551\n",
            "Epoch 260/350\n",
            "13/13 [==============================] - 0s 24ms/step - loss: 3074.8137 - val_loss: 5120.2686\n",
            "Epoch 261/350\n",
            "13/13 [==============================] - 0s 25ms/step - loss: 3088.9541 - val_loss: 5107.0273\n",
            "Epoch 262/350\n",
            "13/13 [==============================] - 0s 24ms/step - loss: 3390.3582 - val_loss: 5110.5527\n",
            "Epoch 263/350\n",
            "13/13 [==============================] - 0s 25ms/step - loss: 3275.8179 - val_loss: 5104.5918\n",
            "Epoch 264/350\n",
            "13/13 [==============================] - 0s 24ms/step - loss: 2991.6934 - val_loss: 5110.3140\n",
            "Epoch 265/350\n",
            "13/13 [==============================] - 0s 25ms/step - loss: 3256.4097 - val_loss: 5108.0625\n",
            "Epoch 266/350\n",
            "13/13 [==============================] - 0s 24ms/step - loss: 2791.5679 - val_loss: 5104.2886\n",
            "Epoch 267/350\n",
            "13/13 [==============================] - 0s 25ms/step - loss: 3250.2668 - val_loss: 5085.5562\n",
            "Epoch 268/350\n",
            "13/13 [==============================] - 0s 25ms/step - loss: 3065.6035 - val_loss: 5070.2466\n",
            "Epoch 269/350\n",
            "13/13 [==============================] - 0s 24ms/step - loss: 3147.1343 - val_loss: 5088.3120\n",
            "Epoch 270/350\n",
            "13/13 [==============================] - 0s 24ms/step - loss: 2874.6370 - val_loss: 5074.4697\n",
            "Epoch 271/350\n",
            "13/13 [==============================] - 0s 24ms/step - loss: 2909.4836 - val_loss: 5065.8271\n",
            "Epoch 272/350\n",
            "13/13 [==============================] - 0s 24ms/step - loss: 3085.3906 - val_loss: 5063.5605\n",
            "Epoch 273/350\n",
            "13/13 [==============================] - 0s 25ms/step - loss: 3036.2056 - val_loss: 5057.6880\n",
            "Epoch 274/350\n",
            "13/13 [==============================] - 0s 24ms/step - loss: 2939.2451 - val_loss: 5061.1543\n",
            "Epoch 275/350\n",
            "13/13 [==============================] - 0s 24ms/step - loss: 2958.9941 - val_loss: 5059.2227\n",
            "Epoch 276/350\n",
            "13/13 [==============================] - 0s 24ms/step - loss: 3282.3914 - val_loss: 5081.5229\n",
            "Epoch 277/350\n",
            "13/13 [==============================] - 0s 24ms/step - loss: 2624.4241 - val_loss: 5091.7852\n",
            "Epoch 278/350\n",
            "13/13 [==============================] - 0s 24ms/step - loss: 3752.3513 - val_loss: 5068.9272\n",
            "Epoch 279/350\n",
            "13/13 [==============================] - 0s 25ms/step - loss: 2914.4133 - val_loss: 5065.1807\n",
            "Epoch 280/350\n",
            "13/13 [==============================] - 0s 24ms/step - loss: 3068.9778 - val_loss: 5053.9189\n",
            "Epoch 281/350\n",
            "13/13 [==============================] - 0s 24ms/step - loss: 3190.4255 - val_loss: 5057.5264\n",
            "Epoch 282/350\n",
            "13/13 [==============================] - 0s 24ms/step - loss: 3101.3228 - val_loss: 5081.3896\n",
            "Epoch 283/350\n",
            "13/13 [==============================] - 0s 25ms/step - loss: 2771.0132 - val_loss: 5074.3345\n",
            "Epoch 284/350\n",
            "13/13 [==============================] - 0s 24ms/step - loss: 2989.3713 - val_loss: 5078.5059\n",
            "Epoch 285/350\n",
            "13/13 [==============================] - 0s 24ms/step - loss: 2859.1562 - val_loss: 5079.6279\n",
            "Epoch 286/350\n",
            "13/13 [==============================] - 0s 24ms/step - loss: 2946.9333 - val_loss: 5087.0259\n",
            "Epoch 287/350\n",
            "13/13 [==============================] - 0s 24ms/step - loss: 2768.2546 - val_loss: 5080.0635\n",
            "Epoch 288/350\n",
            "13/13 [==============================] - 0s 24ms/step - loss: 3062.3748 - val_loss: 5069.7007\n",
            "Epoch 289/350\n",
            "13/13 [==============================] - 0s 25ms/step - loss: 2848.2334 - val_loss: 5073.8145\n",
            "Epoch 290/350\n",
            "13/13 [==============================] - 0s 24ms/step - loss: 3475.2891 - val_loss: 5058.6147\n",
            "Epoch 291/350\n",
            "13/13 [==============================] - 0s 24ms/step - loss: 2946.1704 - val_loss: 5065.4648\n",
            "Epoch 292/350\n",
            "13/13 [==============================] - 0s 25ms/step - loss: 2630.5088 - val_loss: 5080.5479\n",
            "Epoch 293/350\n",
            "13/13 [==============================] - 0s 25ms/step - loss: 2767.0662 - val_loss: 5066.0054\n",
            "Epoch 294/350\n",
            "13/13 [==============================] - 0s 25ms/step - loss: 3069.3701 - val_loss: 5072.5615\n",
            "Epoch 295/350\n",
            "13/13 [==============================] - 0s 24ms/step - loss: 3350.5662 - val_loss: 5086.4858\n",
            "Epoch 296/350\n",
            "13/13 [==============================] - 0s 24ms/step - loss: 3430.8135 - val_loss: 5076.4717\n",
            "Epoch 297/350\n",
            "13/13 [==============================] - 0s 24ms/step - loss: 2905.7393 - val_loss: 5055.6201\n",
            "Epoch 298/350\n",
            "13/13 [==============================] - 0s 24ms/step - loss: 3351.0115 - val_loss: 5028.7520\n",
            "Epoch 299/350\n",
            "13/13 [==============================] - 0s 25ms/step - loss: 2989.8403 - val_loss: 5047.3232\n",
            "Epoch 300/350\n",
            "13/13 [==============================] - 0s 25ms/step - loss: 3139.7693 - val_loss: 5046.2490\n",
            "Epoch 301/350\n",
            "13/13 [==============================] - 0s 24ms/step - loss: 2759.3374 - val_loss: 5040.2861\n",
            "Epoch 302/350\n",
            "13/13 [==============================] - 0s 25ms/step - loss: 3207.2273 - val_loss: 5064.3477\n",
            "Epoch 303/350\n",
            "13/13 [==============================] - 0s 25ms/step - loss: 3156.2793 - val_loss: 5061.0127\n",
            "Epoch 304/350\n",
            "13/13 [==============================] - 0s 24ms/step - loss: 3055.2266 - val_loss: 5035.7588\n",
            "Epoch 305/350\n",
            "13/13 [==============================] - 0s 24ms/step - loss: 3185.8491 - val_loss: 5068.7139\n",
            "Epoch 306/350\n",
            "13/13 [==============================] - 0s 25ms/step - loss: 3262.4463 - val_loss: 5055.4751\n",
            "Epoch 307/350\n",
            "13/13 [==============================] - 0s 24ms/step - loss: 3157.1504 - val_loss: 5058.6357\n",
            "Epoch 308/350\n",
            "13/13 [==============================] - 0s 24ms/step - loss: 3182.8652 - val_loss: 5091.2847\n",
            "Epoch 309/350\n",
            "13/13 [==============================] - 0s 24ms/step - loss: 3284.7878 - val_loss: 5097.2964\n",
            "Epoch 310/350\n",
            "13/13 [==============================] - 0s 25ms/step - loss: 3104.4729 - val_loss: 5087.4204\n",
            "Epoch 311/350\n",
            "13/13 [==============================] - 0s 24ms/step - loss: 2712.3647 - val_loss: 5086.3125\n",
            "Epoch 312/350\n",
            "13/13 [==============================] - 0s 24ms/step - loss: 2940.4438 - val_loss: 5067.5371\n",
            "Epoch 313/350\n",
            "13/13 [==============================] - 0s 25ms/step - loss: 3131.3774 - val_loss: 5061.2261\n",
            "Epoch 314/350\n",
            "13/13 [==============================] - 0s 24ms/step - loss: 2989.3757 - val_loss: 5077.2847\n",
            "Epoch 315/350\n",
            "13/13 [==============================] - 0s 24ms/step - loss: 2907.3425 - val_loss: 5092.0000\n",
            "Epoch 316/350\n",
            "13/13 [==============================] - 0s 24ms/step - loss: 2896.8616 - val_loss: 5073.3701\n",
            "Epoch 317/350\n",
            "13/13 [==============================] - 0s 24ms/step - loss: 3014.9238 - val_loss: 5064.4873\n",
            "Epoch 318/350\n",
            "13/13 [==============================] - 0s 25ms/step - loss: 2705.6660 - val_loss: 5046.4370\n",
            "Epoch 319/350\n",
            "13/13 [==============================] - 0s 24ms/step - loss: 3223.4219 - val_loss: 5035.6523\n",
            "Epoch 320/350\n",
            "13/13 [==============================] - 0s 25ms/step - loss: 2982.7532 - val_loss: 5011.5190\n",
            "Epoch 321/350\n",
            "13/13 [==============================] - 0s 24ms/step - loss: 3000.0625 - val_loss: 5028.9595\n",
            "Epoch 322/350\n",
            "13/13 [==============================] - 0s 24ms/step - loss: 2596.3560 - val_loss: 5017.9512\n",
            "Epoch 323/350\n",
            "13/13 [==============================] - 0s 24ms/step - loss: 2942.2151 - val_loss: 5036.1240\n",
            "Epoch 324/350\n",
            "13/13 [==============================] - 0s 25ms/step - loss: 3101.1140 - val_loss: 5086.9790\n",
            "Epoch 325/350\n",
            "13/13 [==============================] - 0s 24ms/step - loss: 2855.0002 - val_loss: 5090.7207\n",
            "Epoch 326/350\n",
            "13/13 [==============================] - 0s 24ms/step - loss: 2995.0171 - val_loss: 5090.7217\n",
            "Epoch 327/350\n",
            "13/13 [==============================] - 0s 24ms/step - loss: 3248.7522 - val_loss: 5083.9482\n",
            "Epoch 328/350\n",
            "13/13 [==============================] - 0s 25ms/step - loss: 3125.0662 - val_loss: 5115.1685\n",
            "Epoch 329/350\n",
            "13/13 [==============================] - 0s 25ms/step - loss: 3222.1204 - val_loss: 5115.1006\n",
            "Epoch 330/350\n",
            "13/13 [==============================] - 0s 25ms/step - loss: 2943.4556 - val_loss: 5084.5786\n",
            "Epoch 331/350\n",
            "13/13 [==============================] - 0s 24ms/step - loss: 2887.0615 - val_loss: 5082.9067\n",
            "Epoch 332/350\n",
            "13/13 [==============================] - 0s 24ms/step - loss: 2925.9539 - val_loss: 5059.3550\n",
            "Epoch 333/350\n",
            "13/13 [==============================] - 0s 25ms/step - loss: 3441.7266 - val_loss: 5061.9146\n",
            "Epoch 334/350\n",
            "13/13 [==============================] - 0s 25ms/step - loss: 2801.4231 - val_loss: 5054.2100\n",
            "Epoch 335/350\n",
            "13/13 [==============================] - 0s 24ms/step - loss: 3144.8401 - val_loss: 5044.0078\n",
            "Epoch 336/350\n",
            "13/13 [==============================] - 0s 25ms/step - loss: 3181.2725 - val_loss: 5030.6489\n",
            "Epoch 337/350\n",
            "13/13 [==============================] - 0s 24ms/step - loss: 3078.6074 - val_loss: 5039.9834\n",
            "Epoch 338/350\n",
            "13/13 [==============================] - 0s 24ms/step - loss: 3075.8000 - val_loss: 5025.8398\n",
            "Epoch 339/350\n",
            "13/13 [==============================] - 0s 25ms/step - loss: 2936.5156 - val_loss: 4993.4248\n",
            "Epoch 340/350\n",
            "13/13 [==============================] - 0s 24ms/step - loss: 2610.0513 - val_loss: 4982.6494\n",
            "Epoch 341/350\n",
            "13/13 [==============================] - 0s 24ms/step - loss: 2759.8870 - val_loss: 4987.7358\n",
            "Epoch 342/350\n",
            "13/13 [==============================] - 0s 25ms/step - loss: 3054.2456 - val_loss: 5000.6157\n",
            "Epoch 343/350\n",
            "13/13 [==============================] - 0s 24ms/step - loss: 2692.0046 - val_loss: 4987.3105\n",
            "Epoch 344/350\n",
            "13/13 [==============================] - 0s 24ms/step - loss: 3005.2107 - val_loss: 5009.4116\n",
            "Epoch 345/350\n",
            "13/13 [==============================] - 0s 25ms/step - loss: 3123.0706 - val_loss: 5024.7754\n",
            "Epoch 346/350\n",
            "13/13 [==============================] - 0s 24ms/step - loss: 3105.6340 - val_loss: 5034.2588\n",
            "Epoch 347/350\n",
            "13/13 [==============================] - 0s 24ms/step - loss: 2884.3665 - val_loss: 5038.6401\n",
            "Epoch 348/350\n",
            "13/13 [==============================] - 0s 24ms/step - loss: 2998.3306 - val_loss: 5050.0146\n",
            "Epoch 349/350\n",
            "13/13 [==============================] - 0s 25ms/step - loss: 3168.2046 - val_loss: 5044.5059\n",
            "Epoch 350/350\n",
            "13/13 [==============================] - 0s 25ms/step - loss: 3455.2263 - val_loss: 4988.2158\n"
          ],
          "name": "stdout"
        }
      ]
    },
    {
      "cell_type": "code",
      "metadata": {
        "id": "Tv_9nOaPSAUy",
        "outputId": "ee57391d-9589-4e1e-b92e-8ae84e89cb99",
        "colab": {
          "base_uri": "https://localhost:8080/",
          "height": 295
        }
      },
      "source": [
        "plt.plot(history.history['loss'])\n",
        "plt.plot(history.history['val_loss'])\n",
        "plt.title('Model loss')\n",
        "plt.ylabel('loss')\n",
        "plt.xlabel('epoch')\n",
        "plt.legend(['train', 'val'], loc='lower left')\n",
        "plt.show()"
      ],
      "execution_count": 25,
      "outputs": [
        {
          "output_type": "display_data",
          "data": {
            "image/png": "[encoded data removed]",
            "text/plain": [
              "<Figure size 432x288 with 1 Axes>"
            ]
          },
          "metadata": {
            "tags": [],
            "needs_background": "light"
          }
        }
      ]
    },
    {
      "cell_type": "code",
      "metadata": {
        "id": "NhHnVBtDVNWm"
      },
      "source": [
        "y_predict = model.predict(X_test)"
      ],
      "execution_count": 26,
      "outputs": []
    },
    {
      "cell_type": "code",
      "metadata": {
        "id": "yTsHpbLBV8kh",
        "outputId": "c5801cf3-e7aa-40d4-b0b7-72cea73999b5",
        "colab": {
          "base_uri": "https://localhost:8080/",
          "height": 367
        }
      },
      "source": [
        "plt.figure(figsize=(10, 5))\n",
        "plt.plot(y_test, color='blue', label='Set Index')\n",
        "plt.plot(y_predict, color='black', label='Set Index Predict by 6 stocks')\n",
        "plt.title('Predict')\n",
        "plt.xlabel('Time ,days')\n",
        "plt.ylabel('set index')\n",
        "plt.legend(loc='best')"
      ],
      "execution_count": 27,
      "outputs": [
        {
          "output_type": "execute_result",
          "data": {
            "text/plain": [
              "<matplotlib.legend.Legend at 0x7f86189a0a58>"
            ]
          },
          "metadata": {
            "tags": []
          },
          "execution_count": 27
        },
        {
          "output_type": "display_data",
          "data": {
            "image/png": "[encoded data removed]",
            "text/plain": [
              "<Figure size 720x360 with 1 Axes>"
            ]
          },
          "metadata": {
            "tags": [],
            "needs_background": "light"
          }
        }
      ]
    },
    {
      "cell_type": "markdown",
      "metadata": {
        "id": "i7iAVok7PIzi"
      },
      "source": [
        "## model สำหรับทำนาย set index ด้วยข้อมูลย้อนหลังของข้อมูล set index กำหนดกลุ่มข้อมูลย้อนหลังทีล่ะ 5 (5 -time steps) เป็น X ส่วนข้อมูลตัวที่ 6 เป็น y"
      ]
    },
    {
      "cell_type": "code",
      "metadata": {
        "id": "hCHi1_N4rwsl"
      },
      "source": [
        "y_ = y.reset_index()"
      ],
      "execution_count": 28,
      "outputs": []
    },
    {
      "cell_type": "code",
      "metadata": {
        "id": "7EVjtC__aGjF"
      },
      "source": [
        "training_set = y_.iloc[:120-20,[1]]\n",
        "testing_set = y_.iloc[120-20:, [1]]"
      ],
      "execution_count": 29,
      "outputs": []
    },
    {
      "cell_type": "code",
      "metadata": {
        "id": "TswfdRGlsW_n",
        "outputId": "7396cb27-b5dc-4bff-e504-de7b46108c76",
        "colab": {
          "base_uri": "https://localhost:8080/"
        }
      },
      "source": [
        "training_set.shape"
      ],
      "execution_count": 30,
      "outputs": [
        {
          "output_type": "execute_result",
          "data": {
            "text/plain": [
              "(100, 1)"
            ]
          },
          "metadata": {
            "tags": []
          },
          "execution_count": 30
        }
      ]
    },
    {
      "cell_type": "code",
      "metadata": {
        "id": "CuaTiLoBcEIA"
      },
      "source": [
        "sc_ = MinMaxScaler(feature_range = (0, 1))\n",
        "training_set_scaled = sc_.fit_transform(training_set)\n",
        "\n",
        "train_X = []\n",
        "train_y = []\n",
        "\n",
        "for i in range(5, 100):\n",
        "  train_X.append(training_set_scaled[i-5:i, 0])\n",
        "  train_y.append(training_set_scaled[i, 0])\n",
        "train_X, train_y = np.array(train_X), np.array(train_y)\n",
        "train_X = np.reshape(train_X, (train_X.shape[0], train_X.shape[1], 1))"
      ],
      "execution_count": 31,
      "outputs": []
    },
    {
      "cell_type": "code",
      "metadata": {
        "id": "bZcl9ukdh006",
        "outputId": "120274c5-e56b-4ea1-da3c-d2995c905c39",
        "colab": {
          "base_uri": "https://localhost:8080/"
        }
      },
      "source": [
        "train_X.shape"
      ],
      "execution_count": 32,
      "outputs": [
        {
          "output_type": "execute_result",
          "data": {
            "text/plain": [
              "(95, 5, 1)"
            ]
          },
          "metadata": {
            "tags": []
          },
          "execution_count": 32
        }
      ]
    },
    {
      "cell_type": "code",
      "metadata": {
        "id": "IbvOWBXp7qMn",
        "outputId": "cd3bc93d-005e-4cb7-acc1-3205744d3981",
        "colab": {
          "base_uri": "https://localhost:8080/"
        }
      },
      "source": [
        "train_y.shape"
      ],
      "execution_count": 33,
      "outputs": [
        {
          "output_type": "execute_result",
          "data": {
            "text/plain": [
              "(95,)"
            ]
          },
          "metadata": {
            "tags": []
          },
          "execution_count": 33
        }
      ]
    },
    {
      "cell_type": "code",
      "metadata": {
        "id": "oS4ugcZY9szo",
        "outputId": "a3b71155-3602-4501-a5af-17986c9c9576",
        "colab": {
          "base_uri": "https://localhost:8080/"
        }
      },
      "source": [
        "dataset_train = y.iloc[:100, :]\n",
        "dataset_test = y.iloc[100:, :]\n",
        "dataset_total = pd.concat((dataset_train, dataset_test), axis = 0)\n",
        "inputs = dataset_total[len(dataset_total) - len(dataset_test) - 5:].values\n",
        "inputs = inputs.reshape(-1,1)\n",
        "\n",
        "inputs = sc_.fit_transform(inputs)\n",
        "#inputs = sc.transform(inputs)\n",
        "test_X = []\n",
        "test_y = []\n",
        "for i in range(5, 25):\n",
        "    test_X.append(inputs[i-5:i, 0])\n",
        "    test_y.append(inputs[i, 0])\n",
        "test_X,test_y = np.array(test_X),np.array(test_y)\n",
        "test_X = np.reshape(test_X, (test_X.shape[0], test_X.shape[1], 1))\n",
        "print(test_X.shape)"
      ],
      "execution_count": 34,
      "outputs": [
        {
          "output_type": "stream",
          "text": [
            "(20, 5, 1)\n"
          ],
          "name": "stdout"
        }
      ]
    },
    {
      "cell_type": "code",
      "metadata": {
        "id": "SYtg3q7bBac5",
        "outputId": "8dba0acc-7861-4fa7-fef5-64faf0c2ea4e",
        "colab": {
          "base_uri": "https://localhost:8080/"
        }
      },
      "source": [
        "inputs.shape"
      ],
      "execution_count": 35,
      "outputs": [
        {
          "output_type": "execute_result",
          "data": {
            "text/plain": [
              "(25, 1)"
            ]
          },
          "metadata": {
            "tags": []
          },
          "execution_count": 35
        }
      ]
    },
    {
      "cell_type": "code",
      "metadata": {
        "id": "chVdUJiJDnLn",
        "outputId": "6a7e91ee-f243-4590-cfc6-e045ee55f47e",
        "colab": {
          "base_uri": "https://localhost:8080/"
        }
      },
      "source": [
        "test_X.shape"
      ],
      "execution_count": 36,
      "outputs": [
        {
          "output_type": "execute_result",
          "data": {
            "text/plain": [
              "(20, 5, 1)"
            ]
          },
          "metadata": {
            "tags": []
          },
          "execution_count": 36
        }
      ]
    },
    {
      "cell_type": "code",
      "metadata": {
        "id": "FPRQZOEmAT4o",
        "outputId": "21012f11-7d20-4a6d-e4d7-2e94056aedcb",
        "colab": {
          "base_uri": "https://localhost:8080/"
        }
      },
      "source": [
        "model_ = Sequential()\n",
        "model_.add(LSTM(units = 1024, return_sequences = True, input_shape = (train_X.shape[1], 1)))\n",
        "model_.add(Dropout(0.2))\n",
        "model_.add(LSTM(units = 1024, return_sequences = True))\n",
        "model_.add(Dropout(0.2))\n",
        "model_.add(LSTM(units = 1024, return_sequences = True))\n",
        "model_.add(Dropout(0.2))\n",
        "model_.add(LSTM(units = 1024))\n",
        "model_.add(Dropout(0.2))\n",
        "model_.add(Dense(units = 1))\n",
        "\n",
        "model_.compile(optimizer = 'adam', loss = 'mean_squared_error')\n",
        "\n",
        "hist = model_.fit(train_X, train_y, epochs = 350, batch_size = 8,validation_data=(test_X,test_y))"
      ],
      "execution_count": 37,
      "outputs": [
        {
          "output_type": "stream",
          "text": [
            "Epoch 1/350\n",
            "12/12 [==============================] - 1s 116ms/step - loss: 0.2015 - val_loss: 0.1643\n",
            "Epoch 2/350\n",
            "12/12 [==============================] - 0s 23ms/step - loss: 0.0322 - val_loss: 0.0717\n",
            "Epoch 3/350\n",
            "12/12 [==============================] - 0s 23ms/step - loss: 0.0255 - val_loss: 0.0682\n",
            "Epoch 4/350\n",
            "12/12 [==============================] - 0s 23ms/step - loss: 0.0355 - val_loss: 0.1305\n",
            "Epoch 5/350\n",
            "12/12 [==============================] - 0s 23ms/step - loss: 0.0269 - val_loss: 0.0675\n",
            "Epoch 6/350\n",
            "12/12 [==============================] - 0s 23ms/step - loss: 0.0161 - val_loss: 0.0565\n",
            "Epoch 7/350\n",
            "12/12 [==============================] - 0s 23ms/step - loss: 0.0177 - val_loss: 0.0678\n",
            "Epoch 8/350\n",
            "12/12 [==============================] - 0s 23ms/step - loss: 0.0151 - val_loss: 0.0560\n",
            "Epoch 9/350\n",
            "12/12 [==============================] - 0s 23ms/step - loss: 0.0128 - val_loss: 0.0539\n",
            "Epoch 10/350\n",
            "12/12 [==============================] - 0s 24ms/step - loss: 0.0124 - val_loss: 0.0521\n",
            "Epoch 11/350\n",
            "12/12 [==============================] - 0s 24ms/step - loss: 0.0186 - val_loss: 0.1104\n",
            "Epoch 12/350\n",
            "12/12 [==============================] - 0s 23ms/step - loss: 0.0214 - val_loss: 0.0482\n",
            "Epoch 13/350\n",
            "12/12 [==============================] - 0s 24ms/step - loss: 0.0139 - val_loss: 0.0633\n",
            "Epoch 14/350\n",
            "12/12 [==============================] - 0s 23ms/step - loss: 0.0132 - val_loss: 0.0414\n",
            "Epoch 15/350\n",
            "12/12 [==============================] - 0s 24ms/step - loss: 0.0174 - val_loss: 0.0511\n",
            "Epoch 16/350\n",
            "12/12 [==============================] - 0s 23ms/step - loss: 0.0105 - val_loss: 0.0491\n",
            "Epoch 17/350\n",
            "12/12 [==============================] - 0s 23ms/step - loss: 0.0094 - val_loss: 0.0325\n",
            "Epoch 18/350\n",
            "12/12 [==============================] - 0s 24ms/step - loss: 0.0081 - val_loss: 0.0287\n",
            "Epoch 19/350\n",
            "12/12 [==============================] - 0s 24ms/step - loss: 0.0206 - val_loss: 0.0611\n",
            "Epoch 20/350\n",
            "12/12 [==============================] - 0s 23ms/step - loss: 0.0129 - val_loss: 0.0310\n",
            "Epoch 21/350\n",
            "12/12 [==============================] - 0s 24ms/step - loss: 0.0112 - val_loss: 0.0370\n",
            "Epoch 22/350\n",
            "12/12 [==============================] - 0s 23ms/step - loss: 0.0107 - val_loss: 0.0266\n",
            "Epoch 23/350\n",
            "12/12 [==============================] - 0s 24ms/step - loss: 0.0105 - val_loss: 0.0250\n",
            "Epoch 24/350\n",
            "12/12 [==============================] - 0s 23ms/step - loss: 0.0125 - val_loss: 0.0287\n",
            "Epoch 25/350\n",
            "12/12 [==============================] - 0s 24ms/step - loss: 0.0107 - val_loss: 0.0230\n",
            "Epoch 26/350\n",
            "12/12 [==============================] - 0s 23ms/step - loss: 0.0142 - val_loss: 0.0325\n",
            "Epoch 27/350\n",
            "12/12 [==============================] - 0s 23ms/step - loss: 0.0078 - val_loss: 0.0192\n",
            "Epoch 28/350\n",
            "12/12 [==============================] - 0s 23ms/step - loss: 0.0074 - val_loss: 0.0202\n",
            "Epoch 29/350\n",
            "12/12 [==============================] - 0s 23ms/step - loss: 0.0080 - val_loss: 0.0388\n",
            "Epoch 30/350\n",
            "12/12 [==============================] - 0s 23ms/step - loss: 0.0138 - val_loss: 0.0186\n",
            "Epoch 31/350\n",
            "12/12 [==============================] - 0s 23ms/step - loss: 0.0069 - val_loss: 0.0244\n",
            "Epoch 32/350\n",
            "12/12 [==============================] - 0s 23ms/step - loss: 0.0066 - val_loss: 0.0161\n",
            "Epoch 33/350\n",
            "12/12 [==============================] - 0s 24ms/step - loss: 0.0130 - val_loss: 0.0163\n",
            "Epoch 34/350\n",
            "12/12 [==============================] - 0s 23ms/step - loss: 0.0066 - val_loss: 0.0299\n",
            "Epoch 35/350\n",
            "12/12 [==============================] - 0s 23ms/step - loss: 0.0078 - val_loss: 0.0162\n",
            "Epoch 36/350\n",
            "12/12 [==============================] - 0s 23ms/step - loss: 0.0112 - val_loss: 0.0275\n",
            "Epoch 37/350\n",
            "12/12 [==============================] - 0s 23ms/step - loss: 0.0123 - val_loss: 0.0224\n",
            "Epoch 38/350\n",
            "12/12 [==============================] - 0s 24ms/step - loss: 0.0099 - val_loss: 0.0167\n",
            "Epoch 39/350\n",
            "12/12 [==============================] - 0s 23ms/step - loss: 0.0071 - val_loss: 0.0355\n",
            "Epoch 40/350\n",
            "12/12 [==============================] - 0s 23ms/step - loss: 0.0104 - val_loss: 0.0168\n",
            "Epoch 41/350\n",
            "12/12 [==============================] - 0s 23ms/step - loss: 0.0065 - val_loss: 0.0187\n",
            "Epoch 42/350\n",
            "12/12 [==============================] - 0s 23ms/step - loss: 0.0067 - val_loss: 0.0155\n",
            "Epoch 43/350\n",
            "12/12 [==============================] - 0s 23ms/step - loss: 0.0123 - val_loss: 0.0172\n",
            "Epoch 44/350\n",
            "12/12 [==============================] - 0s 23ms/step - loss: 0.0072 - val_loss: 0.0182\n",
            "Epoch 45/350\n",
            "12/12 [==============================] - 0s 24ms/step - loss: 0.0063 - val_loss: 0.0197\n",
            "Epoch 46/350\n",
            "12/12 [==============================] - 0s 23ms/step - loss: 0.0088 - val_loss: 0.0165\n",
            "Epoch 47/350\n",
            "12/12 [==============================] - 0s 23ms/step - loss: 0.0102 - val_loss: 0.0400\n",
            "Epoch 48/350\n",
            "12/12 [==============================] - 0s 24ms/step - loss: 0.0172 - val_loss: 0.0226\n",
            "Epoch 49/350\n",
            "12/12 [==============================] - 0s 23ms/step - loss: 0.0113 - val_loss: 0.0176\n",
            "Epoch 50/350\n",
            "12/12 [==============================] - 0s 23ms/step - loss: 0.0105 - val_loss: 0.0261\n",
            "Epoch 51/350\n",
            "12/12 [==============================] - 0s 23ms/step - loss: 0.0067 - val_loss: 0.0273\n",
            "Epoch 52/350\n",
            "12/12 [==============================] - 0s 24ms/step - loss: 0.0135 - val_loss: 0.0223\n",
            "Epoch 53/350\n",
            "12/12 [==============================] - 0s 23ms/step - loss: 0.0165 - val_loss: 0.0220\n",
            "Epoch 54/350\n",
            "12/12 [==============================] - 0s 23ms/step - loss: 0.0125 - val_loss: 0.0207\n",
            "Epoch 55/350\n",
            "12/12 [==============================] - 0s 23ms/step - loss: 0.0097 - val_loss: 0.0189\n",
            "Epoch 56/350\n",
            "12/12 [==============================] - 0s 23ms/step - loss: 0.0065 - val_loss: 0.0240\n",
            "Epoch 57/350\n",
            "12/12 [==============================] - 0s 23ms/step - loss: 0.0069 - val_loss: 0.0171\n",
            "Epoch 58/350\n",
            "12/12 [==============================] - 0s 23ms/step - loss: 0.0060 - val_loss: 0.0282\n",
            "Epoch 59/350\n",
            "12/12 [==============================] - 0s 23ms/step - loss: 0.0063 - val_loss: 0.0195\n",
            "Epoch 60/350\n",
            "12/12 [==============================] - 0s 23ms/step - loss: 0.0056 - val_loss: 0.0262\n",
            "Epoch 61/350\n",
            "12/12 [==============================] - 0s 23ms/step - loss: 0.0066 - val_loss: 0.0184\n",
            "Epoch 62/350\n",
            "12/12 [==============================] - 0s 23ms/step - loss: 0.0075 - val_loss: 0.0171\n",
            "Epoch 63/350\n",
            "12/12 [==============================] - 0s 23ms/step - loss: 0.0128 - val_loss: 0.0275\n",
            "Epoch 64/350\n",
            "12/12 [==============================] - 0s 23ms/step - loss: 0.0094 - val_loss: 0.0211\n",
            "Epoch 65/350\n",
            "12/12 [==============================] - 0s 23ms/step - loss: 0.0070 - val_loss: 0.0164\n",
            "Epoch 66/350\n",
            "12/12 [==============================] - 0s 23ms/step - loss: 0.0073 - val_loss: 0.0190\n",
            "Epoch 67/350\n",
            "12/12 [==============================] - 0s 23ms/step - loss: 0.0062 - val_loss: 0.0198\n",
            "Epoch 68/350\n",
            "12/12 [==============================] - 0s 24ms/step - loss: 0.0077 - val_loss: 0.0273\n",
            "Epoch 69/350\n",
            "12/12 [==============================] - 0s 24ms/step - loss: 0.0054 - val_loss: 0.0166\n",
            "Epoch 70/350\n",
            "12/12 [==============================] - 0s 23ms/step - loss: 0.0084 - val_loss: 0.0275\n",
            "Epoch 71/350\n",
            "12/12 [==============================] - 0s 23ms/step - loss: 0.0071 - val_loss: 0.0172\n",
            "Epoch 72/350\n",
            "12/12 [==============================] - 0s 23ms/step - loss: 0.0065 - val_loss: 0.0164\n",
            "Epoch 73/350\n",
            "12/12 [==============================] - 0s 24ms/step - loss: 0.0080 - val_loss: 0.0190\n",
            "Epoch 74/350\n",
            "12/12 [==============================] - 0s 23ms/step - loss: 0.0060 - val_loss: 0.0305\n",
            "Epoch 75/350\n",
            "12/12 [==============================] - 0s 24ms/step - loss: 0.0122 - val_loss: 0.0190\n",
            "Epoch 76/350\n",
            "12/12 [==============================] - 0s 23ms/step - loss: 0.0099 - val_loss: 0.0340\n",
            "Epoch 77/350\n",
            "12/12 [==============================] - 0s 23ms/step - loss: 0.0070 - val_loss: 0.0193\n",
            "Epoch 78/350\n",
            "12/12 [==============================] - 0s 23ms/step - loss: 0.0085 - val_loss: 0.0434\n",
            "Epoch 79/350\n",
            "12/12 [==============================] - 0s 23ms/step - loss: 0.0074 - val_loss: 0.0302\n",
            "Epoch 80/350\n",
            "12/12 [==============================] - 0s 24ms/step - loss: 0.0079 - val_loss: 0.0164\n",
            "Epoch 81/350\n",
            "12/12 [==============================] - 0s 24ms/step - loss: 0.0089 - val_loss: 0.0271\n",
            "Epoch 82/350\n",
            "12/12 [==============================] - 0s 23ms/step - loss: 0.0070 - val_loss: 0.0198\n",
            "Epoch 83/350\n",
            "12/12 [==============================] - 0s 23ms/step - loss: 0.0068 - val_loss: 0.0159\n",
            "Epoch 84/350\n",
            "12/12 [==============================] - 0s 23ms/step - loss: 0.0076 - val_loss: 0.0164\n",
            "Epoch 85/350\n",
            "12/12 [==============================] - 0s 23ms/step - loss: 0.0073 - val_loss: 0.0257\n",
            "Epoch 86/350\n",
            "12/12 [==============================] - 0s 23ms/step - loss: 0.0117 - val_loss: 0.0169\n",
            "Epoch 87/350\n",
            "12/12 [==============================] - 0s 24ms/step - loss: 0.0089 - val_loss: 0.0173\n",
            "Epoch 88/350\n",
            "12/12 [==============================] - 0s 24ms/step - loss: 0.0053 - val_loss: 0.0182\n",
            "Epoch 89/350\n",
            "12/12 [==============================] - 0s 23ms/step - loss: 0.0067 - val_loss: 0.0230\n",
            "Epoch 90/350\n",
            "12/12 [==============================] - 0s 23ms/step - loss: 0.0069 - val_loss: 0.0205\n",
            "Epoch 91/350\n",
            "12/12 [==============================] - 0s 23ms/step - loss: 0.0061 - val_loss: 0.0195\n",
            "Epoch 92/350\n",
            "12/12 [==============================] - 0s 23ms/step - loss: 0.0058 - val_loss: 0.0192\n",
            "Epoch 93/350\n",
            "12/12 [==============================] - 0s 24ms/step - loss: 0.0087 - val_loss: 0.0166\n",
            "Epoch 94/350\n",
            "12/12 [==============================] - 0s 23ms/step - loss: 0.0076 - val_loss: 0.0208\n",
            "Epoch 95/350\n",
            "12/12 [==============================] - 0s 23ms/step - loss: 0.0078 - val_loss: 0.0213\n",
            "Epoch 96/350\n",
            "12/12 [==============================] - 0s 23ms/step - loss: 0.0063 - val_loss: 0.0179\n",
            "Epoch 97/350\n",
            "12/12 [==============================] - 0s 23ms/step - loss: 0.0059 - val_loss: 0.0201\n",
            "Epoch 98/350\n",
            "12/12 [==============================] - 0s 23ms/step - loss: 0.0063 - val_loss: 0.0210\n",
            "Epoch 99/350\n",
            "12/12 [==============================] - 0s 23ms/step - loss: 0.0061 - val_loss: 0.0225\n",
            "Epoch 100/350\n",
            "12/12 [==============================] - 0s 23ms/step - loss: 0.0053 - val_loss: 0.0166\n",
            "Epoch 101/350\n",
            "12/12 [==============================] - 0s 24ms/step - loss: 0.0056 - val_loss: 0.0158\n",
            "Epoch 102/350\n",
            "12/12 [==============================] - 0s 23ms/step - loss: 0.0082 - val_loss: 0.0184\n",
            "Epoch 103/350\n",
            "12/12 [==============================] - 0s 23ms/step - loss: 0.0111 - val_loss: 0.0517\n",
            "Epoch 104/350\n",
            "12/12 [==============================] - 0s 23ms/step - loss: 0.0092 - val_loss: 0.0363\n",
            "Epoch 105/350\n",
            "12/12 [==============================] - 0s 23ms/step - loss: 0.0070 - val_loss: 0.0284\n",
            "Epoch 106/350\n",
            "12/12 [==============================] - 0s 24ms/step - loss: 0.0105 - val_loss: 0.0249\n",
            "Epoch 107/350\n",
            "12/12 [==============================] - 0s 23ms/step - loss: 0.0073 - val_loss: 0.0289\n",
            "Epoch 108/350\n",
            "12/12 [==============================] - 0s 23ms/step - loss: 0.0058 - val_loss: 0.0186\n",
            "Epoch 109/350\n",
            "12/12 [==============================] - 0s 23ms/step - loss: 0.0073 - val_loss: 0.0176\n",
            "Epoch 110/350\n",
            "12/12 [==============================] - 0s 23ms/step - loss: 0.0059 - val_loss: 0.0182\n",
            "Epoch 111/350\n",
            "12/12 [==============================] - 0s 24ms/step - loss: 0.0050 - val_loss: 0.0227\n",
            "Epoch 112/350\n",
            "12/12 [==============================] - 0s 23ms/step - loss: 0.0077 - val_loss: 0.0200\n",
            "Epoch 113/350\n",
            "12/12 [==============================] - 0s 23ms/step - loss: 0.0066 - val_loss: 0.0185\n",
            "Epoch 114/350\n",
            "12/12 [==============================] - 0s 23ms/step - loss: 0.0064 - val_loss: 0.0293\n",
            "Epoch 115/350\n",
            "12/12 [==============================] - 0s 23ms/step - loss: 0.0095 - val_loss: 0.0166\n",
            "Epoch 116/350\n",
            "12/12 [==============================] - 0s 23ms/step - loss: 0.0090 - val_loss: 0.0205\n",
            "Epoch 117/350\n",
            "12/12 [==============================] - 0s 23ms/step - loss: 0.0083 - val_loss: 0.0192\n",
            "Epoch 118/350\n",
            "12/12 [==============================] - 0s 23ms/step - loss: 0.0063 - val_loss: 0.0179\n",
            "Epoch 119/350\n",
            "12/12 [==============================] - 0s 23ms/step - loss: 0.0062 - val_loss: 0.0256\n",
            "Epoch 120/350\n",
            "12/12 [==============================] - 0s 23ms/step - loss: 0.0074 - val_loss: 0.0177\n",
            "Epoch 121/350\n",
            "12/12 [==============================] - 0s 23ms/step - loss: 0.0074 - val_loss: 0.0176\n",
            "Epoch 122/350\n",
            "12/12 [==============================] - 0s 23ms/step - loss: 0.0069 - val_loss: 0.0212\n",
            "Epoch 123/350\n",
            "12/12 [==============================] - 0s 23ms/step - loss: 0.0056 - val_loss: 0.0206\n",
            "Epoch 124/350\n",
            "12/12 [==============================] - 0s 23ms/step - loss: 0.0083 - val_loss: 0.0231\n",
            "Epoch 125/350\n",
            "12/12 [==============================] - 0s 23ms/step - loss: 0.0080 - val_loss: 0.0243\n",
            "Epoch 126/350\n",
            "12/12 [==============================] - 0s 23ms/step - loss: 0.0072 - val_loss: 0.0193\n",
            "Epoch 127/350\n",
            "12/12 [==============================] - 0s 24ms/step - loss: 0.0110 - val_loss: 0.0403\n",
            "Epoch 128/350\n",
            "12/12 [==============================] - 0s 23ms/step - loss: 0.0079 - val_loss: 0.0273\n",
            "Epoch 129/350\n",
            "12/12 [==============================] - 0s 23ms/step - loss: 0.0069 - val_loss: 0.0207\n",
            "Epoch 130/350\n",
            "12/12 [==============================] - 0s 23ms/step - loss: 0.0057 - val_loss: 0.0165\n",
            "Epoch 131/350\n",
            "12/12 [==============================] - 0s 23ms/step - loss: 0.0069 - val_loss: 0.0189\n",
            "Epoch 132/350\n",
            "12/12 [==============================] - 0s 23ms/step - loss: 0.0068 - val_loss: 0.0160\n",
            "Epoch 133/350\n",
            "12/12 [==============================] - 0s 23ms/step - loss: 0.0058 - val_loss: 0.0174\n",
            "Epoch 134/350\n",
            "12/12 [==============================] - 0s 23ms/step - loss: 0.0056 - val_loss: 0.0169\n",
            "Epoch 135/350\n",
            "12/12 [==============================] - 0s 24ms/step - loss: 0.0065 - val_loss: 0.0174\n",
            "Epoch 136/350\n",
            "12/12 [==============================] - 0s 23ms/step - loss: 0.0064 - val_loss: 0.0176\n",
            "Epoch 137/350\n",
            "12/12 [==============================] - 0s 24ms/step - loss: 0.0062 - val_loss: 0.0288\n",
            "Epoch 138/350\n",
            "12/12 [==============================] - 0s 24ms/step - loss: 0.0104 - val_loss: 0.0195\n",
            "Epoch 139/350\n",
            "12/12 [==============================] - 0s 23ms/step - loss: 0.0071 - val_loss: 0.0164\n",
            "Epoch 140/350\n",
            "12/12 [==============================] - 0s 23ms/step - loss: 0.0053 - val_loss: 0.0156\n",
            "Epoch 141/350\n",
            "12/12 [==============================] - 0s 23ms/step - loss: 0.0060 - val_loss: 0.0144\n",
            "Epoch 142/350\n",
            "12/12 [==============================] - 0s 24ms/step - loss: 0.0070 - val_loss: 0.0196\n",
            "Epoch 143/350\n",
            "12/12 [==============================] - 0s 23ms/step - loss: 0.0056 - val_loss: 0.0158\n",
            "Epoch 144/350\n",
            "12/12 [==============================] - 0s 23ms/step - loss: 0.0048 - val_loss: 0.0166\n",
            "Epoch 145/350\n",
            "12/12 [==============================] - 0s 23ms/step - loss: 0.0108 - val_loss: 0.0171\n",
            "Epoch 146/350\n",
            "12/12 [==============================] - 0s 24ms/step - loss: 0.0053 - val_loss: 0.0297\n",
            "Epoch 147/350\n",
            "12/12 [==============================] - 0s 23ms/step - loss: 0.0074 - val_loss: 0.0182\n",
            "Epoch 148/350\n",
            "12/12 [==============================] - 0s 24ms/step - loss: 0.0074 - val_loss: 0.0183\n",
            "Epoch 149/350\n",
            "12/12 [==============================] - 0s 23ms/step - loss: 0.0048 - val_loss: 0.0162\n",
            "Epoch 150/350\n",
            "12/12 [==============================] - 0s 24ms/step - loss: 0.0059 - val_loss: 0.0161\n",
            "Epoch 151/350\n",
            "12/12 [==============================] - 0s 23ms/step - loss: 0.0071 - val_loss: 0.0319\n",
            "Epoch 152/350\n",
            "12/12 [==============================] - 0s 23ms/step - loss: 0.0078 - val_loss: 0.0286\n",
            "Epoch 153/350\n",
            "12/12 [==============================] - 0s 23ms/step - loss: 0.0078 - val_loss: 0.0279\n",
            "Epoch 154/350\n",
            "12/12 [==============================] - 0s 23ms/step - loss: 0.0062 - val_loss: 0.0217\n",
            "Epoch 155/350\n",
            "12/12 [==============================] - 0s 24ms/step - loss: 0.0059 - val_loss: 0.0316\n",
            "Epoch 156/350\n",
            "12/12 [==============================] - 0s 23ms/step - loss: 0.0068 - val_loss: 0.0201\n",
            "Epoch 157/350\n",
            "12/12 [==============================] - 0s 23ms/step - loss: 0.0060 - val_loss: 0.0172\n",
            "Epoch 158/350\n",
            "12/12 [==============================] - 0s 23ms/step - loss: 0.0054 - val_loss: 0.0188\n",
            "Epoch 159/350\n",
            "12/12 [==============================] - 0s 23ms/step - loss: 0.0054 - val_loss: 0.0181\n",
            "Epoch 160/350\n",
            "12/12 [==============================] - 0s 23ms/step - loss: 0.0060 - val_loss: 0.0309\n",
            "Epoch 161/350\n",
            "12/12 [==============================] - 0s 23ms/step - loss: 0.0104 - val_loss: 0.0197\n",
            "Epoch 162/350\n",
            "12/12 [==============================] - 0s 24ms/step - loss: 0.0084 - val_loss: 0.0373\n",
            "Epoch 163/350\n",
            "12/12 [==============================] - 0s 23ms/step - loss: 0.0078 - val_loss: 0.0238\n",
            "Epoch 164/350\n",
            "12/12 [==============================] - 0s 23ms/step - loss: 0.0060 - val_loss: 0.0156\n",
            "Epoch 165/350\n",
            "12/12 [==============================] - 0s 23ms/step - loss: 0.0071 - val_loss: 0.0159\n",
            "Epoch 166/350\n",
            "12/12 [==============================] - 0s 24ms/step - loss: 0.0071 - val_loss: 0.0325\n",
            "Epoch 167/350\n",
            "12/12 [==============================] - 0s 23ms/step - loss: 0.0094 - val_loss: 0.0268\n",
            "Epoch 168/350\n",
            "12/12 [==============================] - 0s 23ms/step - loss: 0.0078 - val_loss: 0.0232\n",
            "Epoch 169/350\n",
            "12/12 [==============================] - 0s 23ms/step - loss: 0.0075 - val_loss: 0.0159\n",
            "Epoch 170/350\n",
            "12/12 [==============================] - 0s 23ms/step - loss: 0.0063 - val_loss: 0.0170\n",
            "Epoch 171/350\n",
            "12/12 [==============================] - 0s 23ms/step - loss: 0.0051 - val_loss: 0.0141\n",
            "Epoch 172/350\n",
            "12/12 [==============================] - 0s 24ms/step - loss: 0.0072 - val_loss: 0.0190\n",
            "Epoch 173/350\n",
            "12/12 [==============================] - 0s 23ms/step - loss: 0.0068 - val_loss: 0.0243\n",
            "Epoch 174/350\n",
            "12/12 [==============================] - 0s 23ms/step - loss: 0.0074 - val_loss: 0.0257\n",
            "Epoch 175/350\n",
            "12/12 [==============================] - 0s 23ms/step - loss: 0.0057 - val_loss: 0.0249\n",
            "Epoch 176/350\n",
            "12/12 [==============================] - 0s 23ms/step - loss: 0.0078 - val_loss: 0.0203\n",
            "Epoch 177/350\n",
            "12/12 [==============================] - 0s 24ms/step - loss: 0.0054 - val_loss: 0.0222\n",
            "Epoch 178/350\n",
            "12/12 [==============================] - 0s 24ms/step - loss: 0.0074 - val_loss: 0.0154\n",
            "Epoch 179/350\n",
            "12/12 [==============================] - 0s 24ms/step - loss: 0.0070 - val_loss: 0.0174\n",
            "Epoch 180/350\n",
            "12/12 [==============================] - 0s 23ms/step - loss: 0.0088 - val_loss: 0.0189\n",
            "Epoch 181/350\n",
            "12/12 [==============================] - 0s 23ms/step - loss: 0.0064 - val_loss: 0.0239\n",
            "Epoch 182/350\n",
            "12/12 [==============================] - 0s 23ms/step - loss: 0.0062 - val_loss: 0.0242\n",
            "Epoch 183/350\n",
            "12/12 [==============================] - 0s 23ms/step - loss: 0.0068 - val_loss: 0.0170\n",
            "Epoch 184/350\n",
            "12/12 [==============================] - 0s 23ms/step - loss: 0.0073 - val_loss: 0.0161\n",
            "Epoch 185/350\n",
            "12/12 [==============================] - 0s 23ms/step - loss: 0.0061 - val_loss: 0.0210\n",
            "Epoch 186/350\n",
            "12/12 [==============================] - 0s 23ms/step - loss: 0.0075 - val_loss: 0.0177\n",
            "Epoch 187/350\n",
            "12/12 [==============================] - 0s 23ms/step - loss: 0.0085 - val_loss: 0.0195\n",
            "Epoch 188/350\n",
            "12/12 [==============================] - 0s 23ms/step - loss: 0.0066 - val_loss: 0.0178\n",
            "Epoch 189/350\n",
            "12/12 [==============================] - 0s 23ms/step - loss: 0.0058 - val_loss: 0.0177\n",
            "Epoch 190/350\n",
            "12/12 [==============================] - 0s 24ms/step - loss: 0.0057 - val_loss: 0.0171\n",
            "Epoch 191/350\n",
            "12/12 [==============================] - 0s 24ms/step - loss: 0.0063 - val_loss: 0.0159\n",
            "Epoch 192/350\n",
            "12/12 [==============================] - 0s 24ms/step - loss: 0.0074 - val_loss: 0.0173\n",
            "Epoch 193/350\n",
            "12/12 [==============================] - 0s 24ms/step - loss: 0.0061 - val_loss: 0.0271\n",
            "Epoch 194/350\n",
            "12/12 [==============================] - 0s 23ms/step - loss: 0.0075 - val_loss: 0.0173\n",
            "Epoch 195/350\n",
            "12/12 [==============================] - 0s 24ms/step - loss: 0.0063 - val_loss: 0.0229\n",
            "Epoch 196/350\n",
            "12/12 [==============================] - 0s 24ms/step - loss: 0.0060 - val_loss: 0.0206\n",
            "Epoch 197/350\n",
            "12/12 [==============================] - 0s 24ms/step - loss: 0.0065 - val_loss: 0.0159\n",
            "Epoch 198/350\n",
            "12/12 [==============================] - 0s 23ms/step - loss: 0.0059 - val_loss: 0.0188\n",
            "Epoch 199/350\n",
            "12/12 [==============================] - 0s 24ms/step - loss: 0.0059 - val_loss: 0.0192\n",
            "Epoch 200/350\n",
            "12/12 [==============================] - 0s 23ms/step - loss: 0.0060 - val_loss: 0.0184\n",
            "Epoch 201/350\n",
            "12/12 [==============================] - 0s 23ms/step - loss: 0.0062 - val_loss: 0.0149\n",
            "Epoch 202/350\n",
            "12/12 [==============================] - 0s 24ms/step - loss: 0.0094 - val_loss: 0.0304\n",
            "Epoch 203/350\n",
            "12/12 [==============================] - 0s 24ms/step - loss: 0.0082 - val_loss: 0.0263\n",
            "Epoch 204/350\n",
            "12/12 [==============================] - 0s 23ms/step - loss: 0.0062 - val_loss: 0.0174\n",
            "Epoch 205/350\n",
            "12/12 [==============================] - 0s 24ms/step - loss: 0.0058 - val_loss: 0.0188\n",
            "Epoch 206/350\n",
            "12/12 [==============================] - 0s 23ms/step - loss: 0.0063 - val_loss: 0.0145\n",
            "Epoch 207/350\n",
            "12/12 [==============================] - 0s 23ms/step - loss: 0.0087 - val_loss: 0.0407\n",
            "Epoch 208/350\n",
            "12/12 [==============================] - 0s 23ms/step - loss: 0.0080 - val_loss: 0.0243\n",
            "Epoch 209/350\n",
            "12/12 [==============================] - 0s 23ms/step - loss: 0.0055 - val_loss: 0.0221\n",
            "Epoch 210/350\n",
            "12/12 [==============================] - 0s 23ms/step - loss: 0.0054 - val_loss: 0.0148\n",
            "Epoch 211/350\n",
            "12/12 [==============================] - 0s 23ms/step - loss: 0.0096 - val_loss: 0.0240\n",
            "Epoch 212/350\n",
            "12/12 [==============================] - 0s 23ms/step - loss: 0.0068 - val_loss: 0.0237\n",
            "Epoch 213/350\n",
            "12/12 [==============================] - 0s 24ms/step - loss: 0.0076 - val_loss: 0.0268\n",
            "Epoch 214/350\n",
            "12/12 [==============================] - 0s 23ms/step - loss: 0.0068 - val_loss: 0.0214\n",
            "Epoch 215/350\n",
            "12/12 [==============================] - 0s 23ms/step - loss: 0.0077 - val_loss: 0.0191\n",
            "Epoch 216/350\n",
            "12/12 [==============================] - 0s 23ms/step - loss: 0.0061 - val_loss: 0.0177\n",
            "Epoch 217/350\n",
            "12/12 [==============================] - 0s 23ms/step - loss: 0.0052 - val_loss: 0.0189\n",
            "Epoch 218/350\n",
            "12/12 [==============================] - 0s 23ms/step - loss: 0.0047 - val_loss: 0.0175\n",
            "Epoch 219/350\n",
            "12/12 [==============================] - 0s 24ms/step - loss: 0.0060 - val_loss: 0.0212\n",
            "Epoch 220/350\n",
            "12/12 [==============================] - 0s 23ms/step - loss: 0.0052 - val_loss: 0.0194\n",
            "Epoch 221/350\n",
            "12/12 [==============================] - 0s 23ms/step - loss: 0.0060 - val_loss: 0.0214\n",
            "Epoch 222/350\n",
            "12/12 [==============================] - 0s 23ms/step - loss: 0.0069 - val_loss: 0.0188\n",
            "Epoch 223/350\n",
            "12/12 [==============================] - 0s 24ms/step - loss: 0.0054 - val_loss: 0.0155\n",
            "Epoch 224/350\n",
            "12/12 [==============================] - 0s 24ms/step - loss: 0.0050 - val_loss: 0.0164\n",
            "Epoch 225/350\n",
            "12/12 [==============================] - 0s 23ms/step - loss: 0.0049 - val_loss: 0.0182\n",
            "Epoch 226/350\n",
            "12/12 [==============================] - 0s 23ms/step - loss: 0.0064 - val_loss: 0.0157\n",
            "Epoch 227/350\n",
            "12/12 [==============================] - 0s 23ms/step - loss: 0.0071 - val_loss: 0.0159\n",
            "Epoch 228/350\n",
            "12/12 [==============================] - 0s 23ms/step - loss: 0.0060 - val_loss: 0.0251\n",
            "Epoch 229/350\n",
            "12/12 [==============================] - 0s 24ms/step - loss: 0.0080 - val_loss: 0.0315\n",
            "Epoch 230/350\n",
            "12/12 [==============================] - 0s 23ms/step - loss: 0.0078 - val_loss: 0.0267\n",
            "Epoch 231/350\n",
            "12/12 [==============================] - 0s 23ms/step - loss: 0.0064 - val_loss: 0.0214\n",
            "Epoch 232/350\n",
            "12/12 [==============================] - 0s 23ms/step - loss: 0.0065 - val_loss: 0.0160\n",
            "Epoch 233/350\n",
            "12/12 [==============================] - 0s 23ms/step - loss: 0.0064 - val_loss: 0.0214\n",
            "Epoch 234/350\n",
            "12/12 [==============================] - 0s 23ms/step - loss: 0.0049 - val_loss: 0.0198\n",
            "Epoch 235/350\n",
            "12/12 [==============================] - 0s 23ms/step - loss: 0.0050 - val_loss: 0.0209\n",
            "Epoch 236/350\n",
            "12/12 [==============================] - 0s 23ms/step - loss: 0.0041 - val_loss: 0.0175\n",
            "Epoch 237/350\n",
            "12/12 [==============================] - 0s 23ms/step - loss: 0.0058 - val_loss: 0.0170\n",
            "Epoch 238/350\n",
            "12/12 [==============================] - 0s 23ms/step - loss: 0.0096 - val_loss: 0.0235\n",
            "Epoch 239/350\n",
            "12/12 [==============================] - 0s 24ms/step - loss: 0.0056 - val_loss: 0.0259\n",
            "Epoch 240/350\n",
            "12/12 [==============================] - 0s 23ms/step - loss: 0.0065 - val_loss: 0.0209\n",
            "Epoch 241/350\n",
            "12/12 [==============================] - 0s 23ms/step - loss: 0.0056 - val_loss: 0.0169\n",
            "Epoch 242/350\n",
            "12/12 [==============================] - 0s 23ms/step - loss: 0.0059 - val_loss: 0.0207\n",
            "Epoch 243/350\n",
            "12/12 [==============================] - 0s 23ms/step - loss: 0.0071 - val_loss: 0.0180\n",
            "Epoch 244/350\n",
            "12/12 [==============================] - 0s 23ms/step - loss: 0.0067 - val_loss: 0.0187\n",
            "Epoch 245/350\n",
            "12/12 [==============================] - 0s 24ms/step - loss: 0.0073 - val_loss: 0.0220\n",
            "Epoch 246/350\n",
            "12/12 [==============================] - 0s 23ms/step - loss: 0.0064 - val_loss: 0.0167\n",
            "Epoch 247/350\n",
            "12/12 [==============================] - 0s 23ms/step - loss: 0.0083 - val_loss: 0.0168\n",
            "Epoch 248/350\n",
            "12/12 [==============================] - 0s 23ms/step - loss: 0.0053 - val_loss: 0.0188\n",
            "Epoch 249/350\n",
            "12/12 [==============================] - 0s 24ms/step - loss: 0.0044 - val_loss: 0.0165\n",
            "Epoch 250/350\n",
            "12/12 [==============================] - 0s 23ms/step - loss: 0.0051 - val_loss: 0.0236\n",
            "Epoch 251/350\n",
            "12/12 [==============================] - 0s 24ms/step - loss: 0.0069 - val_loss: 0.0160\n",
            "Epoch 252/350\n",
            "12/12 [==============================] - 0s 24ms/step - loss: 0.0050 - val_loss: 0.0174\n",
            "Epoch 253/350\n",
            "12/12 [==============================] - 0s 23ms/step - loss: 0.0071 - val_loss: 0.0281\n",
            "Epoch 254/350\n",
            "12/12 [==============================] - 0s 24ms/step - loss: 0.0076 - val_loss: 0.0211\n",
            "Epoch 255/350\n",
            "12/12 [==============================] - 0s 23ms/step - loss: 0.0057 - val_loss: 0.0161\n",
            "Epoch 256/350\n",
            "12/12 [==============================] - 0s 24ms/step - loss: 0.0059 - val_loss: 0.0207\n",
            "Epoch 257/350\n",
            "12/12 [==============================] - 0s 23ms/step - loss: 0.0058 - val_loss: 0.0279\n",
            "Epoch 258/350\n",
            "12/12 [==============================] - 0s 24ms/step - loss: 0.0059 - val_loss: 0.0200\n",
            "Epoch 259/350\n",
            "12/12 [==============================] - 0s 23ms/step - loss: 0.0055 - val_loss: 0.0180\n",
            "Epoch 260/350\n",
            "12/12 [==============================] - 0s 23ms/step - loss: 0.0053 - val_loss: 0.0164\n",
            "Epoch 261/350\n",
            "12/12 [==============================] - 0s 23ms/step - loss: 0.0051 - val_loss: 0.0184\n",
            "Epoch 262/350\n",
            "12/12 [==============================] - 0s 24ms/step - loss: 0.0082 - val_loss: 0.0209\n",
            "Epoch 263/350\n",
            "12/12 [==============================] - 0s 24ms/step - loss: 0.0065 - val_loss: 0.0180\n",
            "Epoch 264/350\n",
            "12/12 [==============================] - 0s 23ms/step - loss: 0.0055 - val_loss: 0.0197\n",
            "Epoch 265/350\n",
            "12/12 [==============================] - 0s 24ms/step - loss: 0.0066 - val_loss: 0.0195\n",
            "Epoch 266/350\n",
            "12/12 [==============================] - 0s 23ms/step - loss: 0.0066 - val_loss: 0.0196\n",
            "Epoch 267/350\n",
            "12/12 [==============================] - 0s 24ms/step - loss: 0.0055 - val_loss: 0.0256\n",
            "Epoch 268/350\n",
            "12/12 [==============================] - 0s 23ms/step - loss: 0.0068 - val_loss: 0.0187\n",
            "Epoch 269/350\n",
            "12/12 [==============================] - 0s 24ms/step - loss: 0.0054 - val_loss: 0.0198\n",
            "Epoch 270/350\n",
            "12/12 [==============================] - 0s 24ms/step - loss: 0.0062 - val_loss: 0.0153\n",
            "Epoch 271/350\n",
            "12/12 [==============================] - 0s 23ms/step - loss: 0.0083 - val_loss: 0.0191\n",
            "Epoch 272/350\n",
            "12/12 [==============================] - 0s 23ms/step - loss: 0.0074 - val_loss: 0.0203\n",
            "Epoch 273/350\n",
            "12/12 [==============================] - 0s 24ms/step - loss: 0.0087 - val_loss: 0.0198\n",
            "Epoch 274/350\n",
            "12/12 [==============================] - 0s 23ms/step - loss: 0.0070 - val_loss: 0.0206\n",
            "Epoch 275/350\n",
            "12/12 [==============================] - 0s 23ms/step - loss: 0.0065 - val_loss: 0.0174\n",
            "Epoch 276/350\n",
            "12/12 [==============================] - 0s 23ms/step - loss: 0.0059 - val_loss: 0.0169\n",
            "Epoch 277/350\n",
            "12/12 [==============================] - 0s 24ms/step - loss: 0.0073 - val_loss: 0.0210\n",
            "Epoch 278/350\n",
            "12/12 [==============================] - 0s 23ms/step - loss: 0.0043 - val_loss: 0.0190\n",
            "Epoch 279/350\n",
            "12/12 [==============================] - 0s 23ms/step - loss: 0.0059 - val_loss: 0.0258\n",
            "Epoch 280/350\n",
            "12/12 [==============================] - 0s 24ms/step - loss: 0.0067 - val_loss: 0.0266\n",
            "Epoch 281/350\n",
            "12/12 [==============================] - 0s 23ms/step - loss: 0.0060 - val_loss: 0.0204\n",
            "Epoch 282/350\n",
            "12/12 [==============================] - 0s 23ms/step - loss: 0.0049 - val_loss: 0.0168\n",
            "Epoch 283/350\n",
            "12/12 [==============================] - 0s 24ms/step - loss: 0.0052 - val_loss: 0.0225\n",
            "Epoch 284/350\n",
            "12/12 [==============================] - 0s 23ms/step - loss: 0.0059 - val_loss: 0.0225\n",
            "Epoch 285/350\n",
            "12/12 [==============================] - 0s 23ms/step - loss: 0.0060 - val_loss: 0.0223\n",
            "Epoch 286/350\n",
            "12/12 [==============================] - 0s 23ms/step - loss: 0.0066 - val_loss: 0.0218\n",
            "Epoch 287/350\n",
            "12/12 [==============================] - 0s 23ms/step - loss: 0.0049 - val_loss: 0.0217\n",
            "Epoch 288/350\n",
            "12/12 [==============================] - 0s 23ms/step - loss: 0.0066 - val_loss: 0.0174\n",
            "Epoch 289/350\n",
            "12/12 [==============================] - 0s 23ms/step - loss: 0.0064 - val_loss: 0.0228\n",
            "Epoch 290/350\n",
            "12/12 [==============================] - 0s 23ms/step - loss: 0.0070 - val_loss: 0.0179\n",
            "Epoch 291/350\n",
            "12/12 [==============================] - 0s 23ms/step - loss: 0.0058 - val_loss: 0.0173\n",
            "Epoch 292/350\n",
            "12/12 [==============================] - 0s 23ms/step - loss: 0.0059 - val_loss: 0.0205\n",
            "Epoch 293/350\n",
            "12/12 [==============================] - 0s 23ms/step - loss: 0.0060 - val_loss: 0.0165\n",
            "Epoch 294/350\n",
            "12/12 [==============================] - 0s 23ms/step - loss: 0.0047 - val_loss: 0.0233\n",
            "Epoch 295/350\n",
            "12/12 [==============================] - 0s 23ms/step - loss: 0.0051 - val_loss: 0.0187\n",
            "Epoch 296/350\n",
            "12/12 [==============================] - 0s 23ms/step - loss: 0.0065 - val_loss: 0.0191\n",
            "Epoch 297/350\n",
            "12/12 [==============================] - 0s 23ms/step - loss: 0.0063 - val_loss: 0.0181\n",
            "Epoch 298/350\n",
            "12/12 [==============================] - 0s 23ms/step - loss: 0.0043 - val_loss: 0.0212\n",
            "Epoch 299/350\n",
            "12/12 [==============================] - 0s 24ms/step - loss: 0.0065 - val_loss: 0.0260\n",
            "Epoch 300/350\n",
            "12/12 [==============================] - 0s 24ms/step - loss: 0.0090 - val_loss: 0.0302\n",
            "Epoch 301/350\n",
            "12/12 [==============================] - 0s 24ms/step - loss: 0.0057 - val_loss: 0.0218\n",
            "Epoch 302/350\n",
            "12/12 [==============================] - 0s 23ms/step - loss: 0.0057 - val_loss: 0.0213\n",
            "Epoch 303/350\n",
            "12/12 [==============================] - 0s 23ms/step - loss: 0.0066 - val_loss: 0.0273\n",
            "Epoch 304/350\n",
            "12/12 [==============================] - 0s 23ms/step - loss: 0.0058 - val_loss: 0.0224\n",
            "Epoch 305/350\n",
            "12/12 [==============================] - 0s 23ms/step - loss: 0.0052 - val_loss: 0.0233\n",
            "Epoch 306/350\n",
            "12/12 [==============================] - 0s 23ms/step - loss: 0.0069 - val_loss: 0.0231\n",
            "Epoch 307/350\n",
            "12/12 [==============================] - 0s 23ms/step - loss: 0.0064 - val_loss: 0.0212\n",
            "Epoch 308/350\n",
            "12/12 [==============================] - 0s 24ms/step - loss: 0.0049 - val_loss: 0.0191\n",
            "Epoch 309/350\n",
            "12/12 [==============================] - 0s 24ms/step - loss: 0.0068 - val_loss: 0.0265\n",
            "Epoch 310/350\n",
            "12/12 [==============================] - 0s 23ms/step - loss: 0.0070 - val_loss: 0.0242\n",
            "Epoch 311/350\n",
            "12/12 [==============================] - 0s 23ms/step - loss: 0.0073 - val_loss: 0.0192\n",
            "Epoch 312/350\n",
            "12/12 [==============================] - 0s 23ms/step - loss: 0.0052 - val_loss: 0.0226\n",
            "Epoch 313/350\n",
            "12/12 [==============================] - 0s 23ms/step - loss: 0.0058 - val_loss: 0.0165\n",
            "Epoch 314/350\n",
            "12/12 [==============================] - 0s 24ms/step - loss: 0.0059 - val_loss: 0.0166\n",
            "Epoch 315/350\n",
            "12/12 [==============================] - 0s 24ms/step - loss: 0.0060 - val_loss: 0.0181\n",
            "Epoch 316/350\n",
            "12/12 [==============================] - 0s 24ms/step - loss: 0.0065 - val_loss: 0.0192\n",
            "Epoch 317/350\n",
            "12/12 [==============================] - 0s 23ms/step - loss: 0.0051 - val_loss: 0.0186\n",
            "Epoch 318/350\n",
            "12/12 [==============================] - 0s 23ms/step - loss: 0.0052 - val_loss: 0.0181\n",
            "Epoch 319/350\n",
            "12/12 [==============================] - 0s 24ms/step - loss: 0.0058 - val_loss: 0.0233\n",
            "Epoch 320/350\n",
            "12/12 [==============================] - 0s 23ms/step - loss: 0.0067 - val_loss: 0.0205\n",
            "Epoch 321/350\n",
            "12/12 [==============================] - 0s 23ms/step - loss: 0.0056 - val_loss: 0.0156\n",
            "Epoch 322/350\n",
            "12/12 [==============================] - 0s 24ms/step - loss: 0.0059 - val_loss: 0.0196\n",
            "Epoch 323/350\n",
            "12/12 [==============================] - 0s 23ms/step - loss: 0.0060 - val_loss: 0.0190\n",
            "Epoch 324/350\n",
            "12/12 [==============================] - 0s 24ms/step - loss: 0.0066 - val_loss: 0.0234\n",
            "Epoch 325/350\n",
            "12/12 [==============================] - 0s 23ms/step - loss: 0.0074 - val_loss: 0.0191\n",
            "Epoch 326/350\n",
            "12/12 [==============================] - 0s 23ms/step - loss: 0.0063 - val_loss: 0.0178\n",
            "Epoch 327/350\n",
            "12/12 [==============================] - 0s 23ms/step - loss: 0.0048 - val_loss: 0.0173\n",
            "Epoch 328/350\n",
            "12/12 [==============================] - 0s 23ms/step - loss: 0.0046 - val_loss: 0.0152\n",
            "Epoch 329/350\n",
            "12/12 [==============================] - 0s 24ms/step - loss: 0.0057 - val_loss: 0.0181\n",
            "Epoch 330/350\n",
            "12/12 [==============================] - 0s 23ms/step - loss: 0.0057 - val_loss: 0.0236\n",
            "Epoch 331/350\n",
            "12/12 [==============================] - 0s 24ms/step - loss: 0.0058 - val_loss: 0.0201\n",
            "Epoch 332/350\n",
            "12/12 [==============================] - 0s 24ms/step - loss: 0.0052 - val_loss: 0.0178\n",
            "Epoch 333/350\n",
            "12/12 [==============================] - 0s 23ms/step - loss: 0.0064 - val_loss: 0.0181\n",
            "Epoch 334/350\n",
            "12/12 [==============================] - 0s 24ms/step - loss: 0.0050 - val_loss: 0.0224\n",
            "Epoch 335/350\n",
            "12/12 [==============================] - 0s 23ms/step - loss: 0.0052 - val_loss: 0.0224\n",
            "Epoch 336/350\n",
            "12/12 [==============================] - 0s 23ms/step - loss: 0.0057 - val_loss: 0.0217\n",
            "Epoch 337/350\n",
            "12/12 [==============================] - 0s 24ms/step - loss: 0.0058 - val_loss: 0.0260\n",
            "Epoch 338/350\n",
            "12/12 [==============================] - 0s 23ms/step - loss: 0.0078 - val_loss: 0.0208\n",
            "Epoch 339/350\n",
            "12/12 [==============================] - 0s 24ms/step - loss: 0.0074 - val_loss: 0.0210\n",
            "Epoch 340/350\n",
            "12/12 [==============================] - 0s 23ms/step - loss: 0.0059 - val_loss: 0.0161\n",
            "Epoch 341/350\n",
            "12/12 [==============================] - 0s 23ms/step - loss: 0.0057 - val_loss: 0.0167\n",
            "Epoch 342/350\n",
            "12/12 [==============================] - 0s 23ms/step - loss: 0.0066 - val_loss: 0.0212\n",
            "Epoch 343/350\n",
            "12/12 [==============================] - 0s 23ms/step - loss: 0.0051 - val_loss: 0.0175\n",
            "Epoch 344/350\n",
            "12/12 [==============================] - 0s 23ms/step - loss: 0.0051 - val_loss: 0.0168\n",
            "Epoch 345/350\n",
            "12/12 [==============================] - 0s 23ms/step - loss: 0.0057 - val_loss: 0.0165\n",
            "Epoch 346/350\n",
            "12/12 [==============================] - 0s 23ms/step - loss: 0.0058 - val_loss: 0.0176\n",
            "Epoch 347/350\n",
            "12/12 [==============================] - 0s 23ms/step - loss: 0.0054 - val_loss: 0.0266\n",
            "Epoch 348/350\n",
            "12/12 [==============================] - 0s 24ms/step - loss: 0.0060 - val_loss: 0.0194\n",
            "Epoch 349/350\n",
            "12/12 [==============================] - 0s 23ms/step - loss: 0.0073 - val_loss: 0.0181\n",
            "Epoch 350/350\n",
            "12/12 [==============================] - 0s 23ms/step - loss: 0.0078 - val_loss: 0.0188\n"
          ],
          "name": "stdout"
        }
      ]
    },
    {
      "cell_type": "code",
      "metadata": {
        "id": "qGOhC7T4CFYd",
        "outputId": "e977020e-a109-4403-b11c-8367baed9b2c",
        "colab": {
          "base_uri": "https://localhost:8080/",
          "height": 295
        }
      },
      "source": [
        "plt.plot(hist.history['loss'])\n",
        "plt.plot(hist.history['val_loss'])\n",
        "plt.title('Model loss')\n",
        "plt.ylabel('loss')\n",
        "plt.xlabel('epoch')\n",
        "plt.legend(['train', 'val'], loc='lower left')\n",
        "plt.show()"
      ],
      "execution_count": 38,
      "outputs": [
        {
          "output_type": "display_data",
          "data": {
            "image/png": "[encoded data removed]",
            "text/plain": [
              "<Figure size 432x288 with 1 Axes>"
            ]
          },
          "metadata": {
            "tags": [],
            "needs_background": "light"
          }
        }
      ]
    },
    {
      "cell_type": "code",
      "metadata": {
        "id": "qhdeLqJYCszu"
      },
      "source": [
        "predict_y = model_.predict(test_X)\n",
        "predict_y = sc_.inverse_transform(predict_y)"
      ],
      "execution_count": 39,
      "outputs": []
    },
    {
      "cell_type": "markdown",
      "metadata": {
        "id": "_Fl9V3oFQB58"
      },
      "source": [
        "## เปรียบเทียบการทำนายของ model ทั้งสองแบบ"
      ]
    },
    {
      "cell_type": "code",
      "metadata": {
        "id": "Su5HbWxXELU9",
        "outputId": "306a81ee-1c7e-4c8d-a8f2-654c8b1ca3b4",
        "colab": {
          "base_uri": "https://localhost:8080/",
          "height": 910
        }
      },
      "source": [
        "plt.figure(figsize=(20, 15))\n",
        "plt.plot(y_test, color='blue', label='Set Index')\n",
        "plt.plot(predict_y, color='red',  label='Set Index Predict by with 5 time-steps ')\n",
        "plt.plot(y_predict, color='black', label='Set Index predict by 6 stocks')\n",
        "plt.title('Predict')\n",
        "plt.xlabel('Time ,days')\n",
        "plt.ylabel('set index')\n",
        "plt.legend(loc='best')"
      ],
      "execution_count": 40,
      "outputs": [
        {
          "output_type": "execute_result",
          "data": {
            "text/plain": [
              "<matplotlib.legend.Legend at 0x7f85ee11dc50>"
            ]
          },
          "metadata": {
            "tags": []
          },
          "execution_count": 40
        },
        {
          "output_type": "display_data",
          "data": {
            "image/png": "[encoded data removed]",
            "text/plain": [
              "<Figure size 1440x1080 with 1 Axes>"
            ]
          },
          "metadata": {
            "tags": [],
            "needs_background": "light"
          }
        }
      ]
    }
  ]
}