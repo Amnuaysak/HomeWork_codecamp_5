{
  "nbformat": 4,
  "nbformat_minor": 0,
  "metadata": {
    "colab": {
      "name": "Quiz4.ipynb",
      "provenance": [],
      "collapsed_sections": []
    },
    "kernelspec": {
      "name": "python3",
      "display_name": "Python 3"
    }
  },
  "cells": [
    {
      "cell_type": "code",
      "metadata": {
        "id": "FxWWUgRLqLxX",
        "colab_type": "code",
        "outputId": "c0e6cd3d-c799-4631-d66e-51a2b19e91ce",
        "colab": {
          "base_uri": "https://localhost:8080/",
          "height": 34
        }
      },
      "source": [
        "a = [[[1,3],[3,4]],[5,[5,6],[7,8]]]\n",
        "print(a[1][1][1])"
      ],
      "execution_count": 0,
      "outputs": [
        {
          "output_type": "stream",
          "text": [
            "6\n"
          ],
          "name": "stdout"
        }
      ]
    },
    {
      "cell_type": "markdown",
      "metadata": {
        "id": "_8iz7dKMvSZs",
        "colab_type": "text"
      },
      "source": [
        "\n",
        "\n",
        "เขียนชื่อ นามสกุล อายุ คนสี่คน \n",
        "\n"
      ]
    },
    {
      "cell_type": "code",
      "metadata": {
        "id": "TPqC1rPJthHu",
        "colab_type": "code",
        "outputId": "43f8d295-e289-4702-f127-b4dc90b11e3a",
        "colab": {
          "base_uri": "https://localhost:8080/",
          "height": 34
        }
      },
      "source": [
        "ls = [['aname','alname',30],['bname','blname',40],['cname','clname',50],['dname','dlname',60]]\n",
        "print (ls)"
      ],
      "execution_count": 0,
      "outputs": [
        {
          "output_type": "stream",
          "text": [
            "[['aname', 'alname', 30], ['bname', 'blname', 40], ['cname', 'clname', 50], ['dname', 'dlname', 60]]\n"
          ],
          "name": "stdout"
        }
      ]
    },
    {
      "cell_type": "markdown",
      "metadata": {
        "id": "IyP5ekeUvesu",
        "colab_type": "text"
      },
      "source": [
        "ลบชื่อคนสุดท้ายออก ซึ่งมี index คือ 3"
      ]
    },
    {
      "cell_type": "code",
      "metadata": {
        "id": "Uf2d2FReuFep",
        "colab_type": "code",
        "outputId": "d195229d-9962-42c5-8f9e-c4994cd672b9",
        "colab": {
          "base_uri": "https://localhost:8080/",
          "height": 34
        }
      },
      "source": [
        "del ls[3]\n",
        "print(ls)"
      ],
      "execution_count": 0,
      "outputs": [
        {
          "output_type": "stream",
          "text": [
            "[['aname', 'alname', 30], ['bname', 'blname', 40], ['cname', 'clname', 50]]\n"
          ],
          "name": "stdout"
        }
      ]
    },
    {
      "cell_type": "markdown",
      "metadata": {
        "id": "zuNwN4uMvpp3",
        "colab_type": "text"
      },
      "source": [
        "แทรกชื่อ คนที่ 5 ใน index ที่ 0"
      ]
    },
    {
      "cell_type": "code",
      "metadata": {
        "id": "vDmgTdCUufme",
        "colab_type": "code",
        "outputId": "d0b1d72e-2d4a-45d8-b584-1cbd3ec2045f",
        "colab": {
          "base_uri": "https://localhost:8080/",
          "height": 34
        }
      },
      "source": [
        "ls.insert(0,['ename','elname',70])\n",
        "print(ls)"
      ],
      "execution_count": 0,
      "outputs": [
        {
          "output_type": "stream",
          "text": [
            "[['ename', 'elname', 70], ['aname', 'alname', 30], ['bname', 'blname', 40], ['cname', 'clname', 50]]\n"
          ],
          "name": "stdout"
        }
      ]
    },
    {
      "cell_type": "markdown",
      "metadata": {
        "id": "Pl8liMRyv1Ru",
        "colab_type": "text"
      },
      "source": [
        "เพิ่มอายุ คนที่ 3 ซึ่งปัจจุบันมี index = 2"
      ]
    },
    {
      "cell_type": "code",
      "metadata": {
        "id": "paBMSNntu3mh",
        "colab_type": "code",
        "outputId": "f8ab1e93-7c47-4ea2-d0c7-35f7f62cce21",
        "colab": {
          "base_uri": "https://localhost:8080/",
          "height": 34
        }
      },
      "source": [
        "ls[2][2]=ls[2][2]+10\n",
        "print(ls)"
      ],
      "execution_count": 0,
      "outputs": [
        {
          "output_type": "stream",
          "text": [
            "[['ename', 'elname', 70], ['aname', 'alname', 30], ['bname', 'blname', 50], ['cname', 'clname', 50]]\n"
          ],
          "name": "stdout"
        }
      ]
    }
  ]
}