{
  "nbformat": 4,
  "nbformat_minor": 0,
  "metadata": {
    "colab": {
      "name": "Quiz1.ipynb",
      "provenance": []
    },
    "kernelspec": {
      "name": "python3",
      "display_name": "Python 3"
    }
  },
  "cells": [
    {
      "cell_type": "markdown",
      "metadata": {
        "id": "SbDtKLHKyd5u",
        "colab_type": "text"
      },
      "source": [
        "Quiz 1 ข้อ **1** และ 5"
      ]
    },
    {
      "cell_type": "code",
      "metadata": {
        "id": "ZxHzaPAZxIVJ",
        "colab_type": "code",
        "colab": {
          "base_uri": "https://localhost:8080/",
          "height": 34
        },
        "outputId": "3ec8df50-b044-4828-86a7-61d8493dc0a6"
      },
      "source": [
        "a = 2345%13\n",
        "print ('a = {}'.format(a))"
      ],
      "execution_count": 9,
      "outputs": [
        {
          "output_type": "stream",
          "text": [
            "a = 5\n"
          ],
          "name": "stdout"
        }
      ]
    },
    {
      "cell_type": "markdown",
      "metadata": {
        "id": "V1SlSxfvypCB",
        "colab_type": "text"
      },
      "source": [
        "Quiz 1 ข้อ 2 และ 5"
      ]
    },
    {
      "cell_type": "code",
      "metadata": {
        "id": "jBCU-SAGyoGI",
        "colab_type": "code",
        "colab": {
          "base_uri": "https://localhost:8080/",
          "height": 34
        },
        "outputId": "15acbaaf-87ef-4ca7-b49c-73e6dd458b5b"
      },
      "source": [
        "a = 1567//17\n",
        "print ('a = {}'.format(a))"
      ],
      "execution_count": 10,
      "outputs": [
        {
          "output_type": "stream",
          "text": [
            "a = 92\n"
          ],
          "name": "stdout"
        }
      ]
    },
    {
      "cell_type": "markdown",
      "metadata": {
        "id": "VJQebJrj1O_h",
        "colab_type": "text"
      },
      "source": [
        "Quiz 1 ข้อ 3"
      ]
    },
    {
      "cell_type": "code",
      "metadata": {
        "id": "1u-cg8uN1Yjw",
        "colab_type": "code",
        "colab": {
          "base_uri": "https://localhost:8080/",
          "height": 34
        },
        "outputId": "f372f31d-fb05-44d0-8526-be41e89689b4"
      },
      "source": [
        "FirstName = 5\n",
        "Firstname = 6\n",
        "print('FirstName = {} , Firstname = {} เป็นตัวแปรคนล่ะตัว'.format(FirstName,Firstname))"
      ],
      "execution_count": 13,
      "outputs": [
        {
          "output_type": "stream",
          "text": [
            "FirstName = 5 , Firstname = 6 เป็นตัวแปรคนล่ะตัว\n"
          ],
          "name": "stdout"
        }
      ]
    },
    {
      "cell_type": "markdown",
      "metadata": {
        "id": "yXMnOFC62ViU",
        "colab_type": "text"
      },
      "source": [
        "Quiz 1ข้อ 4"
      ]
    },
    {
      "cell_type": "code",
      "metadata": {
        "id": "sCrfKFAM2bme",
        "colab_type": "code",
        "colab": {
          "base_uri": "https://localhost:8080/",
          "height": 128
        },
        "outputId": "5a4d8133-1a6f-47d1-ace6-6ce80fd4bc14"
      },
      "source": [
        "13Friday =1\n",
        "print(13Friday)"
      ],
      "execution_count": 14,
      "outputs": [
        {
          "output_type": "error",
          "ename": "SyntaxError",
          "evalue": "ignored",
          "traceback": [
            "\u001b[0;36m  File \u001b[0;32m\"<ipython-input-14-db163dc68ed2>\"\u001b[0;36m, line \u001b[0;32m1\u001b[0m\n\u001b[0;31m    13Friday =1\u001b[0m\n\u001b[0m           ^\u001b[0m\n\u001b[0;31mSyntaxError\u001b[0m\u001b[0;31m:\u001b[0m invalid syntax\n"
          ]
        }
      ]
    },
    {
      "cell_type": "code",
      "metadata": {
        "id": "DY41X8sA1yWT",
        "colab_type": "code",
        "colab": {}
      },
      "source": [
        ""
      ],
      "execution_count": 0,
      "outputs": []
    }
  ]
}