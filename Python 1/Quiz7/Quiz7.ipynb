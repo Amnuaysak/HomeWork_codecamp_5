{
  "nbformat": 4,
  "nbformat_minor": 0,
  "metadata": {
    "colab": {
      "name": "Quiz7.ipynb",
      "provenance": [],
      "collapsed_sections": []
    },
    "kernelspec": {
      "name": "python3",
      "display_name": "Python 3"
    }
  },
  "cells": [
    {
      "cell_type": "markdown",
      "metadata": {
        "id": "xonvEZbd_j7i",
        "colab_type": "text"
      },
      "source": [
        "ตัดเกรดจากคะแนนสอบ ช่วงล่ะ 10 ต่ำกว่า 50 ได้ F"
      ]
    },
    {
      "cell_type": "code",
      "metadata": {
        "id": "iGAJeNRk9eCh",
        "colab_type": "code",
        "colab": {
          "base_uri": "https://localhost:8080/",
          "height": 34
        },
        "outputId": "73617a51-a21e-421a-c41b-17ba31986f5a"
      },
      "source": [
        "kaNan = float(input('กรอกคะแนน = '))\n"
      ],
      "execution_count": 25,
      "outputs": [
        {
          "output_type": "stream",
          "text": [
            "กรอกคะแนน = 52\n"
          ],
          "name": "stdout"
        }
      ]
    },
    {
      "cell_type": "code",
      "metadata": {
        "id": "mgho2nTfBkDw",
        "colab_type": "code",
        "colab": {
          "base_uri": "https://localhost:8080/",
          "height": 34
        },
        "outputId": "e45b3f07-cc8c-498d-f3d1-158efd5f9b83"
      },
      "source": [
        "if(kaNan>=80.0 and kaNan<=100.0):\n",
        "  print('A')\n",
        "elif(kaNan>=70. and kaNan<80.):\n",
        "  print('B')\n",
        "elif(kaNan>=60. and kaNan<70.):\n",
        "  print('C')\n",
        "elif (kaNan>=50. and kaNan<60.):\n",
        "  print('D')\n",
        "if(kaNan>=0. and kaNan<50.):\n",
        "  print('F')\n",
        "if(kaNan<0. or kaNan>100.):\n",
        "  print('กรอกคะแนนใหม่')\n"
      ],
      "execution_count": 27,
      "outputs": [
        {
          "output_type": "stream",
          "text": [
            "D\n"
          ],
          "name": "stdout"
        }
      ]
    }
  ]
}