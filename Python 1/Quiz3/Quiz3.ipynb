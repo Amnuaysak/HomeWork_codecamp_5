{
  "nbformat": 4,
  "nbformat_minor": 0,
  "metadata": {
    "colab": {
      "name": "Quiz3",
      "provenance": [],
      "collapsed_sections": []
    },
    "kernelspec": {
      "name": "python3",
      "display_name": "Python 3"
    }
  },
  "cells": [
    {
      "cell_type": "code",
      "metadata": {
        "id": "UcmThoUdu5LZ",
        "colab_type": "code",
        "colab": {}
      },
      "source": [
        "ls = ['Amnuaysak','Thaveelap',40]"
      ],
      "execution_count": 0,
      "outputs": []
    },
    {
      "cell_type": "code",
      "metadata": {
        "id": "_VDkr5ze_lDA",
        "colab_type": "code",
        "outputId": "933b0319-f5bc-4cea-8e07-5598623f0a27",
        "colab": {
          "base_uri": "https://localhost:8080/",
          "height": 34
        }
      },
      "source": [
        "del ls[2]\n",
        "print(ls)"
      ],
      "execution_count": 0,
      "outputs": [
        {
          "output_type": "stream",
          "text": [
            "['Amnuaysak', 'Thaveelap']\n"
          ],
          "name": "stdout"
        }
      ]
    },
    {
      "cell_type": "code",
      "metadata": {
        "id": "TKhwv97n3PKp",
        "colab_type": "code",
        "outputId": "1f334275-e1bf-4c99-fa83-5c1418557e22",
        "colab": {
          "base_uri": "https://localhost:8080/",
          "height": 34
        }
      },
      "source": [
        "ls.insert (0,40)\n",
        "ls[0]=ls[0]-10\n",
        "print(ls)"
      ],
      "execution_count": 0,
      "outputs": [
        {
          "output_type": "stream",
          "text": [
            "[30, 'Amnuaysak', 'Thaveelap']\n"
          ],
          "name": "stdout"
        }
      ]
    },
    {
      "cell_type": "code",
      "metadata": {
        "id": "GKGv4-3d5uVu",
        "colab_type": "code",
        "outputId": "58340fa4-01ab-4213-865e-416370a94f0a",
        "colab": {
          "base_uri": "https://localhost:8080/",
          "height": 34
        }
      },
      "source": [
        "ls.append(150)\n",
        "ls.append(40)\n",
        "print(ls)"
      ],
      "execution_count": 0,
      "outputs": [
        {
          "output_type": "stream",
          "text": [
            "[30, 'Amnuaysak', 'Thaveelap', 150, 40]\n"
          ],
          "name": "stdout"
        }
      ]
    },
    {
      "cell_type": "code",
      "metadata": {
        "id": "DFFHidYp5-nA",
        "colab_type": "code",
        "outputId": "df2494c7-d2d1-4cfc-cf1d-72c9832db365",
        "colab": {
          "base_uri": "https://localhost:8080/",
          "height": 34
        }
      },
      "source": [
        "print(ls[3:])"
      ],
      "execution_count": 0,
      "outputs": [
        {
          "output_type": "stream",
          "text": [
            "[150, 40]\n"
          ],
          "name": "stdout"
        }
      ]
    }
  ]
}