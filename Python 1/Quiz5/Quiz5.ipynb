{
  "nbformat": 4,
  "nbformat_minor": 0,
  "metadata": {
    "colab": {
      "name": "Quiz5.ipynb",
      "provenance": [],
      "collapsed_sections": []
    },
    "kernelspec": {
      "name": "python3",
      "display_name": "Python 3"
    }
  },
  "cells": [
    {
      "cell_type": "markdown",
      "metadata": {
        "id": "fGPZ5W4uV1lr",
        "colab_type": "text"
      },
      "source": [
        "Map หาเลขยกกำลังสาม"
      ]
    },
    {
      "cell_type": "code",
      "metadata": {
        "id": "XmHhXWvqTbRm",
        "colab_type": "code",
        "colab": {}
      },
      "source": [
        "lst=[1,2,3,4,5,6,7,8,9,10]"
      ],
      "execution_count": 0,
      "outputs": []
    },
    {
      "cell_type": "code",
      "metadata": {
        "id": "iXgeISP1ToS9",
        "colab_type": "code",
        "colab": {}
      },
      "source": [
        "def yokSam(x):\n",
        "  return x**3\n"
      ],
      "execution_count": 0,
      "outputs": []
    },
    {
      "cell_type": "code",
      "metadata": {
        "id": "4oOZO6S-U70l",
        "colab_type": "code",
        "colab": {
          "base_uri": "https://localhost:8080/",
          "height": 34
        },
        "outputId": "27ad1968-a290-494b-a5c0-8ed5f457dd05"
      },
      "source": [
        "print(list(map(yokSam,lst)))"
      ],
      "execution_count": 11,
      "outputs": [
        {
          "output_type": "stream",
          "text": [
            "[1, 8, 27, 64, 125, 216, 343, 512, 729, 1000]\n"
          ],
          "name": "stdout"
        }
      ]
    },
    {
      "cell_type": "code",
      "metadata": {
        "id": "uJjjshkOVeYX",
        "colab_type": "code",
        "colab": {
          "base_uri": "https://localhost:8080/",
          "height": 34
        },
        "outputId": "40d3e4cf-145b-4697-ae51-3bdf278722e0"
      },
      "source": [
        "a = map(lambda x:x**3,lst)\n",
        "print(list(a))\n"
      ],
      "execution_count": 12,
      "outputs": [
        {
          "output_type": "stream",
          "text": [
            "[1, 8, 27, 64, 125, 216, 343, 512, 729, 1000]\n"
          ],
          "name": "stdout"
        }
      ]
    },
    {
      "cell_type": "markdown",
      "metadata": {
        "id": "7Lmqy2VXWAxr",
        "colab_type": "text"
      },
      "source": [
        "Filter หาเลขในลิสต์ที่เมื่อยกกำลังสองแล้วหารสองไม่ลงตัว"
      ]
    },
    {
      "cell_type": "code",
      "metadata": {
        "id": "Z5Ge-DveWRRf",
        "colab_type": "code",
        "colab": {}
      },
      "source": [
        "def yokSong(x):\n",
        "  y=x**2\n",
        "  if y%2 != 0:\n",
        "    return x\n"
      ],
      "execution_count": 0,
      "outputs": []
    },
    {
      "cell_type": "code",
      "metadata": {
        "id": "ucgObsviYzst",
        "colab_type": "code",
        "colab": {
          "base_uri": "https://localhost:8080/",
          "height": 34
        },
        "outputId": "a516911b-e8c1-41e8-8e15-b40ac66389b4"
      },
      "source": [
        "a = []\n",
        "k = filter(yokSong,lst)\n",
        "for x in k:\n",
        "  a.append(x)\n",
        "print(a)"
      ],
      "execution_count": 27,
      "outputs": [
        {
          "output_type": "stream",
          "text": [
            "[1, 3, 5, 7, 9]\n"
          ],
          "name": "stdout"
        }
      ]
    },
    {
      "cell_type": "code",
      "metadata": {
        "id": "INqbu1EF2aW2",
        "colab_type": "code",
        "colab": {
          "base_uri": "https://localhost:8080/",
          "height": 34
        },
        "outputId": "793749e3-8389-4335-f2f6-cff1da18c336"
      },
      "source": [
        "b = filter(lambda x: ((x**2)%2 != 0),lst)\n",
        "print(list(b))"
      ],
      "execution_count": 29,
      "outputs": [
        {
          "output_type": "stream",
          "text": [
            "[1, 3, 5, 7, 9]\n"
          ],
          "name": "stdout"
        }
      ]
    }
  ]
}