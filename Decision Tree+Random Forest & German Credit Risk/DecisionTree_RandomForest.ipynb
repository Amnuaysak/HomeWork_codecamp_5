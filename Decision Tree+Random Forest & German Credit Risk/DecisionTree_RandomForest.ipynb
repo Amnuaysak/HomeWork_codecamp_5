{
  "nbformat": 4,
  "nbformat_minor": 0,
  "metadata": {
    "colab": {
      "name": "DecisionTree/RandomForest.ipynb",
      "provenance": [],
      "collapsed_sections": [
        "9q-Q2VnhnVsh",
        "0zwQIp_CB15H",
        "5e5BKLmSIqEM"
      ]
    },
    "kernelspec": {
      "name": "python3",
      "display_name": "Python 3"
    }
  },
  "cells": [
    {
      "cell_type": "markdown",
      "metadata": {
        "id": "nTHzCc6hUKJ1",
        "colab_type": "text"
      },
      "source": [
        "- ใน Notebook นี้ประกอบด้วย 2 model ได้แก่ Decision Tree (แสดงในหัวข้อที่ 6) และ Random Forest (แสดงในหัวข้อที่ 8) โดยใช้ data set ชุดเดียวกัน เพื่อประเมินผลเทียบกันระหว่าง model ทั้ง 2\n",
        "\n",
        "- data set \"German Credit Risk\" เป็นข้อมูลเกี่ยวข้องกับการกู้ยืมเพื่อใช้ตามวัตถุประสงค์ต่าง ๆ ต้งแต่ซื้อเครื่องใช้ไฟฟ้าไปจนถึงการกู้ยืมเพื่อธุรกิจ ในชุดข้อมูลจะประกอบด้วยข้อมูลของผู้กู้ รวมถึง การประเมินความเสี่ยงของผู้กู้ ซึ่ง แสดงไว้ใน DataFrame (df) ดังแสดงไว้ในหัวข้อ 1\n",
        "\n",
        "- ข้อมูลใน df มีจำนวน features ทั้งหมด 10 ตัว (features ตัวสุดท้าย 'Risk' เป็น label) แต่ละ feature มีทั้งสิ้น 1,000 entries (สมาชิก)\n",
        "\n",
        "จากการตรวจสอบ (ด้วย df.info()) พบว่ามี feature 2 ตัวที่มี entries ที่ประกอบด้วย NaN (ซึ่ง feature ทั้ง 2 มีข้อมูลชนิด Object) feature ทั้งสองได้แก่ 'Saving accounts' มีสมาชิก 817 ตัว 'Checking account' มีสมาชิก 606 ตัว \n",
        "\n",
        "การ cleasing ข้อมูลใช้วิธี fill ข้อมูลลงไปโดยอาศัย ว่าข้อมูลเดิมมีอะไรบ้าง และมีในสัดส่วนเท่าใด เช่น มี A 5 ตัว B 3 ตัว และ C 2 ตัว หรือ คิดเป็นจัดส่วนคือ A มีจำนวน 50% B มีจำนวน 30% C มีจำนวน 20% ดังนั้นในการ fill ค่าที่เป็น NaN ก็จะ fill ตามสัดส่วนเดียวกันนั้น ซึ่งรายละเอียดส่วนนี้แสดงในหัวข้อ 2 Cleansing \n",
        "\n",
        "การ train ข้อมูล ใช้ข้อมูลอยู่ 3 ลักษณะ ได้แก่\n",
        "*   ข้อมูลแบบ default แสดงในหัวข้อ 3\n",
        "*   ข้อมูลที่ผ่านการ normalization แสดงในหัวข้อ 4\n",
        "*   ข้อมูลที่ผ่านการ standardizaton แสดงในหัวข้อ 5\n",
        "*   ใช้วิธี Grid search แสดงในหัวข้อ 6.4 กับ 8.4 โดยใช้ข้อมูลแบบ default\n",
        "\n",
        "ข้อมูลที่ผ่านการ normalization กับ standardizaton แบ่งออกเป็นอีก 2 แบบคือ \n",
        "*   normalization หรือ standardizaton ก่อน แล้วทำการ splitting (แสดงในหัวข้อ 6.2.1 กับ 8.2.1)\n",
        "*   splitting ก่อนแล้วถึง normalization กับ standardizaton (แสดงในหัวข้อ 6.2.2 กับ 8.2.2)\n",
        "\n",
        "-ผลการสร้าง model แสดงในตารางที่อยู่ในหัวข้อ 9 ซึ่งเป็นรายการสรุปค่า model evaluation ด้วยวิธีวัดแบบ Accuracy\t, F1 score\t, Recall\tและ Precision ด้วยข้อมูลทั้งหมด 6 ลักษณะ คือ default\n",
        "\n",
        "splitting ก่อนแล้วถึง normalization กับ standardizaton (normalize before split กับ standardize before split) \n",
        "\n",
        "normalization หรือ standardizaton ก่อน แล้วทำการ splitting (normalize after split กับ standardize after split)\n",
        "\n",
        "และ grid search\n",
        "\n",
        "เปรียบเทียบค่า model evaluation ด้วยข้อมูลจากวิธี grid search โดยแสดงในรูป bar chart\n",
        "\n"
      ]
    },
    {
      "cell_type": "code",
      "metadata": {
        "id": "cOVaif2FJ1Tl",
        "colab_type": "code",
        "colab": {
          "base_uri": "https://localhost:8080/",
          "height": 70
        },
        "outputId": "70aceb7f-4d4a-4038-e5b9-64b8ca301885"
      },
      "source": [
        "import numpy as np\n",
        "import pandas as pd\n",
        "import matplotlib.pyplot as plt\n",
        "import seaborn as sns\n",
        "\n",
        "from sklearn.preprocessing import MinMaxScaler\n",
        "from sklearn.preprocessing import StandardScaler\n",
        "from sklearn.model_selection import train_test_split\n",
        "from sklearn.tree import DecisionTreeClassifier\n",
        "from sklearn.ensemble import RandomForestClassifier\n",
        "from sklearn.metrics import confusion_matrix, accuracy_score, f1_score, precision_score, recall_score\n",
        "\n",
        "from sklearn.model_selection import GridSearchCV\n",
        "\n",
        "import random "
      ],
      "execution_count": null,
      "outputs": [
        {
          "output_type": "stream",
          "text": [
            "/usr/local/lib/python3.6/dist-packages/statsmodels/tools/_testing.py:19: FutureWarning: pandas.util.testing is deprecated. Use the functions in the public API at pandas.testing instead.\n",
            "  import pandas.util.testing as tm\n"
          ],
          "name": "stderr"
        }
      ]
    },
    {
      "cell_type": "code",
      "metadata": {
        "id": "GntVVkw6J9c1",
        "colab_type": "code",
        "colab": {}
      },
      "source": [
        "url = 'https://raw.githubusercontent.com/Amnuaysak/HomeWork_codecamp_5/master/Decision%20Tree%20%26%20German%20Credit%20Risk/datasets_9109_12699_german_credit_data.csv'\n",
        "df = pd.read_csv(url,index_col=0)\n",
        "\n",
        "#https://www.kaggle.com/uciml/german-credit"
      ],
      "execution_count": null,
      "outputs": []
    },
    {
      "cell_type": "markdown",
      "metadata": {
        "id": "R0LXMN0peQOD",
        "colab_type": "text"
      },
      "source": [
        "# 1 df before cleansing"
      ]
    },
    {
      "cell_type": "markdown",
      "metadata": {
        "id": "-ce0Jv60iHQY",
        "colab_type": "text"
      },
      "source": [
        "## 1.1 information\n",
        "\n"
      ]
    },
    {
      "cell_type": "code",
      "metadata": {
        "id": "Dc33hq17hzub",
        "colab_type": "code",
        "colab": {
          "base_uri": "https://localhost:8080/",
          "height": 195
        },
        "outputId": "6b7a8fd3-2e0f-44ac-9bcb-5023289d43b1"
      },
      "source": [
        "df.sample(10)"
      ],
      "execution_count": null,
      "outputs": [
        {
          "output_type": "execute_result",
          "data": {
            "text/html": [
              "<div>\n",
              "<style scoped>\n",
              "    .dataframe tbody tr th:only-of-type {\n",
              "        vertical-align: middle;\n",
              "    }\n",
              "\n",
              "    .dataframe tbody tr th {\n",
              "        vertical-align: top;\n",
              "    }\n",
              "\n",
              "    .dataframe thead th {\n",
              "        text-align: right;\n",
              "    }\n",
              "</style>\n",
              "<table border=\"1\" class=\"dataframe\">\n",
              "  <thead>\n",
              "    <tr style=\"text-align: right;\">\n",
              "      <th></th>\n",
              "      <th>Age</th>\n",
              "      <th>Sex</th>\n",
              "      <th>Job</th>\n",
              "      <th>Housing</th>\n",
              "      <th>Saving accounts</th>\n",
              "      <th>Checking account</th>\n",
              "      <th>Credit amount</th>\n",
              "      <th>Duration</th>\n",
              "      <th>Purpose</th>\n",
              "      <th>Risk</th>\n",
              "    </tr>\n",
              "  </thead>\n",
              "  <tbody>\n",
              "    <tr>\n",
              "      <th>684</th>\n",
              "      <td>31</td>\n",
              "      <td>male</td>\n",
              "      <td>1</td>\n",
              "      <td>own</td>\n",
              "      <td>moderate</td>\n",
              "      <td>moderate</td>\n",
              "      <td>9857</td>\n",
              "      <td>36</td>\n",
              "      <td>business</td>\n",
              "      <td>good</td>\n",
              "    </tr>\n",
              "    <tr>\n",
              "      <th>158</th>\n",
              "      <td>38</td>\n",
              "      <td>male</td>\n",
              "      <td>2</td>\n",
              "      <td>own</td>\n",
              "      <td>moderate</td>\n",
              "      <td>moderate</td>\n",
              "      <td>3512</td>\n",
              "      <td>24</td>\n",
              "      <td>car</td>\n",
              "      <td>good</td>\n",
              "    </tr>\n",
              "    <tr>\n",
              "      <th>877</th>\n",
              "      <td>28</td>\n",
              "      <td>male</td>\n",
              "      <td>2</td>\n",
              "      <td>own</td>\n",
              "      <td>little</td>\n",
              "      <td>NaN</td>\n",
              "      <td>3595</td>\n",
              "      <td>36</td>\n",
              "      <td>radio/TV</td>\n",
              "      <td>good</td>\n",
              "    </tr>\n",
              "    <tr>\n",
              "      <th>539</th>\n",
              "      <td>45</td>\n",
              "      <td>female</td>\n",
              "      <td>1</td>\n",
              "      <td>own</td>\n",
              "      <td>little</td>\n",
              "      <td>rich</td>\n",
              "      <td>3049</td>\n",
              "      <td>18</td>\n",
              "      <td>furniture/equipment</td>\n",
              "      <td>good</td>\n",
              "    </tr>\n",
              "    <tr>\n",
              "      <th>985</th>\n",
              "      <td>25</td>\n",
              "      <td>female</td>\n",
              "      <td>2</td>\n",
              "      <td>rent</td>\n",
              "      <td>little</td>\n",
              "      <td>little</td>\n",
              "      <td>1433</td>\n",
              "      <td>15</td>\n",
              "      <td>furniture/equipment</td>\n",
              "      <td>good</td>\n",
              "    </tr>\n",
              "  </tbody>\n",
              "</table>\n",
              "</div>"
            ],
            "text/plain": [
              "     Age     Sex  Job  ... Duration              Purpose  Risk\n",
              "684   31    male    1  ...       36             business  good\n",
              "158   38    male    2  ...       24                  car  good\n",
              "877   28    male    2  ...       36             radio/TV  good\n",
              "539   45  female    1  ...       18  furniture/equipment  good\n",
              "985   25  female    2  ...       15  furniture/equipment  good\n",
              "\n",
              "[5 rows x 10 columns]"
            ]
          },
          "metadata": {
            "tags": []
          },
          "execution_count": 5
        }
      ]
    },
    {
      "cell_type": "code",
      "metadata": {
        "id": "_G81oBESVaI4",
        "colab_type": "code",
        "colab": {
          "base_uri": "https://localhost:8080/",
          "height": 302
        },
        "outputId": "5a503700-860c-45c1-96bd-4a3908e9db27"
      },
      "source": [
        "df.info()"
      ],
      "execution_count": null,
      "outputs": [
        {
          "output_type": "stream",
          "text": [
            "<class 'pandas.core.frame.DataFrame'>\n",
            "Int64Index: 1000 entries, 0 to 999\n",
            "Data columns (total 10 columns):\n",
            " #   Column            Non-Null Count  Dtype \n",
            "---  ------            --------------  ----- \n",
            " 0   Age               1000 non-null   int64 \n",
            " 1   Sex               1000 non-null   object\n",
            " 2   Job               1000 non-null   int64 \n",
            " 3   Housing           1000 non-null   object\n",
            " 4   Saving accounts   817 non-null    object\n",
            " 5   Checking account  606 non-null    object\n",
            " 6   Credit amount     1000 non-null   int64 \n",
            " 7   Duration          1000 non-null   int64 \n",
            " 8   Purpose           1000 non-null   object\n",
            " 9   Risk              1000 non-null   object\n",
            "dtypes: int64(4), object(6)\n",
            "memory usage: 85.9+ KB\n"
          ],
          "name": "stdout"
        }
      ]
    },
    {
      "cell_type": "code",
      "metadata": {
        "id": "nzd12EAOdCUC",
        "colab_type": "code",
        "colab": {
          "base_uri": "https://localhost:8080/",
          "height": 284
        },
        "outputId": "c022e90b-2705-46d7-cea0-44b7c4e182dd"
      },
      "source": [
        "df.describe()"
      ],
      "execution_count": null,
      "outputs": [
        {
          "output_type": "execute_result",
          "data": {
            "text/html": [
              "<div>\n",
              "<style scoped>\n",
              "    .dataframe tbody tr th:only-of-type {\n",
              "        vertical-align: middle;\n",
              "    }\n",
              "\n",
              "    .dataframe tbody tr th {\n",
              "        vertical-align: top;\n",
              "    }\n",
              "\n",
              "    .dataframe thead th {\n",
              "        text-align: right;\n",
              "    }\n",
              "</style>\n",
              "<table border=\"1\" class=\"dataframe\">\n",
              "  <thead>\n",
              "    <tr style=\"text-align: right;\">\n",
              "      <th></th>\n",
              "      <th>Age</th>\n",
              "      <th>Job</th>\n",
              "      <th>Credit amount</th>\n",
              "      <th>Duration</th>\n",
              "    </tr>\n",
              "  </thead>\n",
              "  <tbody>\n",
              "    <tr>\n",
              "      <th>count</th>\n",
              "      <td>1000.000000</td>\n",
              "      <td>1000.000000</td>\n",
              "      <td>1000.000000</td>\n",
              "      <td>1000.000000</td>\n",
              "    </tr>\n",
              "    <tr>\n",
              "      <th>mean</th>\n",
              "      <td>35.546000</td>\n",
              "      <td>1.904000</td>\n",
              "      <td>3271.258000</td>\n",
              "      <td>20.903000</td>\n",
              "    </tr>\n",
              "    <tr>\n",
              "      <th>std</th>\n",
              "      <td>11.375469</td>\n",
              "      <td>0.653614</td>\n",
              "      <td>2822.736876</td>\n",
              "      <td>12.058814</td>\n",
              "    </tr>\n",
              "    <tr>\n",
              "      <th>min</th>\n",
              "      <td>19.000000</td>\n",
              "      <td>0.000000</td>\n",
              "      <td>250.000000</td>\n",
              "      <td>4.000000</td>\n",
              "    </tr>\n",
              "    <tr>\n",
              "      <th>25%</th>\n",
              "      <td>27.000000</td>\n",
              "      <td>2.000000</td>\n",
              "      <td>1365.500000</td>\n",
              "      <td>12.000000</td>\n",
              "    </tr>\n",
              "    <tr>\n",
              "      <th>50%</th>\n",
              "      <td>33.000000</td>\n",
              "      <td>2.000000</td>\n",
              "      <td>2319.500000</td>\n",
              "      <td>18.000000</td>\n",
              "    </tr>\n",
              "    <tr>\n",
              "      <th>75%</th>\n",
              "      <td>42.000000</td>\n",
              "      <td>2.000000</td>\n",
              "      <td>3972.250000</td>\n",
              "      <td>24.000000</td>\n",
              "    </tr>\n",
              "    <tr>\n",
              "      <th>max</th>\n",
              "      <td>75.000000</td>\n",
              "      <td>3.000000</td>\n",
              "      <td>18424.000000</td>\n",
              "      <td>72.000000</td>\n",
              "    </tr>\n",
              "  </tbody>\n",
              "</table>\n",
              "</div>"
            ],
            "text/plain": [
              "               Age          Job  Credit amount     Duration\n",
              "count  1000.000000  1000.000000    1000.000000  1000.000000\n",
              "mean     35.546000     1.904000    3271.258000    20.903000\n",
              "std      11.375469     0.653614    2822.736876    12.058814\n",
              "min      19.000000     0.000000     250.000000     4.000000\n",
              "25%      27.000000     2.000000    1365.500000    12.000000\n",
              "50%      33.000000     2.000000    2319.500000    18.000000\n",
              "75%      42.000000     2.000000    3972.250000    24.000000\n",
              "max      75.000000     3.000000   18424.000000    72.000000"
            ]
          },
          "metadata": {
            "tags": []
          },
          "execution_count": 4
        }
      ]
    },
    {
      "cell_type": "code",
      "metadata": {
        "id": "mgU9ijLMhsvG",
        "colab_type": "code",
        "colab": {}
      },
      "source": [
        "#df.head(10)"
      ],
      "execution_count": null,
      "outputs": []
    },
    {
      "cell_type": "code",
      "metadata": {
        "id": "OAsiSkFThwOY",
        "colab_type": "code",
        "colab": {}
      },
      "source": [
        "#df.tail(10)"
      ],
      "execution_count": null,
      "outputs": []
    },
    {
      "cell_type": "markdown",
      "metadata": {
        "id": "TbtVGD3Eikka",
        "colab_type": "text"
      },
      "source": [
        "## 1.2 plot"
      ]
    },
    {
      "cell_type": "code",
      "metadata": {
        "id": "A0exR9VVpJre",
        "colab_type": "code",
        "colab": {
          "base_uri": "https://localhost:8080/",
          "height": 449
        },
        "outputId": "f0b8f766-bf90-4c92-85e2-4183c153943c"
      },
      "source": [
        "fig = plt.figure(figsize=(9,7))\n",
        "sns.heatmap(df.corr(),cmap='Accent')"
      ],
      "execution_count": null,
      "outputs": [
        {
          "output_type": "execute_result",
          "data": {
            "text/plain": [
              "<matplotlib.axes._subplots.AxesSubplot at 0x7f4084e20dd8>"
            ]
          },
          "metadata": {
            "tags": []
          },
          "execution_count": 8
        },
        {
          "output_type": "display_data",
          "data": {
            "image/png": "[encoded data removed]",
            "text/plain": [
              "<Figure size 648x504 with 2 Axes>"
            ]
          },
          "metadata": {
            "tags": [],
            "needs_background": "light"
          }
        }
      ]
    },
    {
      "cell_type": "code",
      "metadata": {
        "id": "PrNQx5BAmVCu",
        "colab_type": "code",
        "colab": {
          "base_uri": "https://localhost:8080/",
          "height": 764
        },
        "outputId": "09066166-506e-488b-fa29-b3a228b2b40b"
      },
      "source": [
        "sns.pairplot(df,kind='reg',corner=True)"
      ],
      "execution_count": null,
      "outputs": [
        {
          "output_type": "execute_result",
          "data": {
            "text/plain": [
              "<seaborn.axisgrid.PairGrid at 0x7f4084e14eb8>"
            ]
          },
          "metadata": {
            "tags": []
          },
          "execution_count": 9
        },
        {
          "output_type": "display_data",
          "data": {
            "image/png": "[encoded data removed]",
            "text/plain": [
              "<Figure size 720x720 with 14 Axes>"
            ]
          },
          "metadata": {
            "tags": [],
            "needs_background": "light"
          }
        }
      ]
    },
    {
      "cell_type": "code",
      "metadata": {
        "id": "hwH45oDMnEvC",
        "colab_type": "code",
        "colab": {
          "base_uri": "https://localhost:8080/",
          "height": 731
        },
        "outputId": "51b24a35-a97c-4f94-f223-0712b467742c"
      },
      "source": [
        "f, axes = plt.subplots(3, 2, figsize=(12, 12), sharex=False)\n",
        "sns.despine(left=True)\n",
        "\n",
        "sns.distplot(df.iloc[:,6], kde=True, color=\"b\", ax=axes[0,0])\n",
        "sns.distplot(df.iloc[:,7], kde=True, color=\"r\", ax=axes[0,1])\n",
        "#sns.distplot(df.iloc[:,8], kde=True, color=\"g\", ax=axes[0,2])\n",
        "\n",
        "sns.scatterplot(x=df.iloc[:,0],y=df.iloc[:,6],data=df, ax=axes[1, 0])\n",
        "sns.scatterplot(x=df.iloc[:,0],y=df.iloc[:,7],data=df, ax=axes[1, 1])\n",
        "#sns.scatterplot(x=df.iloc[:,3],y=df.iloc[:,8],data=df, ax=axes[1, 2])\n",
        "\n",
        "sns.boxplot(df.iloc[:,6],ax=axes[2, 0])\n",
        "sns.boxplot(df.iloc[:,7],ax=axes[2, 1])\n",
        "#sns.boxplot(df.iloc[:,8],ax=axes[2, 2])"
      ],
      "execution_count": null,
      "outputs": [
        {
          "output_type": "execute_result",
          "data": {
            "text/plain": [
              "<matplotlib.axes._subplots.AxesSubplot at 0x7f407ef70f60>"
            ]
          },
          "metadata": {
            "tags": []
          },
          "execution_count": 10
        },
        {
          "output_type": "display_data",
          "data": {
            "image/png": "[encoded data removed]",
            "text/plain": [
              "<Figure size 864x864 with 6 Axes>"
            ]
          },
          "metadata": {
            "tags": [],
            "needs_background": "light"
          }
        }
      ]
    },
    {
      "cell_type": "code",
      "metadata": {
        "id": "qwCtdEsyWNDL",
        "colab_type": "code",
        "colab": {
          "base_uri": "https://localhost:8080/",
          "height": 583
        },
        "outputId": "b6c1e4b5-7c3d-4ad5-e4b7-d6c731412c14"
      },
      "source": [
        "fig = plt.figure(figsize=(10,8))\n",
        "sns.heatmap(df.isnull(), cbar=True, cmap='Accent')"
      ],
      "execution_count": null,
      "outputs": [
        {
          "output_type": "execute_result",
          "data": {
            "text/plain": [
              "<matplotlib.axes._subplots.AxesSubplot at 0x7f40812a9eb8>"
            ]
          },
          "metadata": {
            "tags": []
          },
          "execution_count": 11
        },
        {
          "output_type": "display_data",
          "data": {
            "image/png": "[encoded data removed]",
            "text/plain": [
              "<Figure size 720x576 with 2 Axes>"
            ]
          },
          "metadata": {
            "tags": [],
            "needs_background": "light"
          }
        }
      ]
    },
    {
      "cell_type": "markdown",
      "metadata": {
        "id": "9q-Q2VnhnVsh",
        "colab_type": "text"
      },
      "source": [
        "#2 cleansing"
      ]
    },
    {
      "cell_type": "markdown",
      "metadata": {
        "id": "FalkSLSnTGM7",
        "colab_type": "text"
      },
      "source": [
        "## 2.2 fill with object"
      ]
    },
    {
      "cell_type": "code",
      "metadata": {
        "id": "ZD2XTsDHTUBx",
        "colab_type": "code",
        "colab": {}
      },
      "source": [
        "#df['rangeAge'] = pd.cut(df.iloc[:,0],[10,20,30,40,50,60,70,80])\n",
        "#df1 = df[(df.iloc[:,9] == pd.Interval(60, 70))]\n",
        "#df1.iloc[:,5].value_counts()"
      ],
      "execution_count": null,
      "outputs": []
    },
    {
      "cell_type": "markdown",
      "metadata": {
        "id": "_1w-6KGQYVvt",
        "colab_type": "text"
      },
      "source": [
        "### 2.2.1 ใส่ค่า สตริงในช่องว่าง ด้วยการใส่ ตามอัตราส่วนที่มีค่า แก้ไข column ที่ 4 , 5"
      ]
    },
    {
      "cell_type": "code",
      "metadata": {
        "id": "MZLQdyd8L8zZ",
        "colab_type": "code",
        "colab": {}
      },
      "source": [
        "#ส่วนนี้มีวัตถุประสงค์ต้องการหาสัดส่วนของแต่ล่ะ label เพื่อใช้ปรับส่วนที่ เป็น NaN ให้มีสัดส่วนสอดคล้องกันกับส่วนที่มีค่า\n",
        "k = 4 #หมายเลขของ column\n",
        "\n",
        "nonNaNValue = 0 #นับจำนวนข้อมูลที่ไม่ใช่ค่า null nan\n",
        "label_list = [] #label ที่มีว่า มีอะไรบ้าง \n",
        "num_label_list = [] #จำนวน label แต่ล่ะชื่อมีจำนวนเท่าไหร\n",
        "\n",
        "for i in range(df.iloc[:,k].value_counts().count()):\n",
        "  nonNaNValue = nonNaNValue + df.iloc[:,k].value_counts()[i]\n",
        "  label_list.append(df.iloc[:,k].value_counts().index[i]) \n",
        "  num_label_list.append(df.iloc[:,k].value_counts()[i])\n",
        "\n",
        "#num_label_list = [603, 103, 63, 48] nonNaNValue = 817\n",
        "nanValue = len(df.index) - nonNaNValue #จำนวนข้อมูลที่เป็น nan null กรณีนี้เท่ากับ 183 \n",
        "\n",
        "ratio_list = [] #อัตราส่วนของจำนวน label ที่ไม่ใช่ nan null \n",
        "for i in range(len(label_list)):\n",
        "  ratio_list.append(num_label_list[i]/nonNaNValue) \n",
        "\n",
        "nan_label_list = [] #จำนวน label ที่เป็น nan ตามอัตราส่วนเดียวกับที่ไม่เป็น nan\n",
        "num_NaN = 0\n",
        "\n",
        "#หาจำนวน nan ตามอัตราส่วน\n",
        "for i in range(len(ratio_list)-1):\n",
        "  nan_label_list.append(round(ratio_list[i]*nanValue).astype(int))\n",
        "  num_NaN = num_NaN + nan_label_list[i]\n",
        "nan_label_list.append(nanValue-num_NaN) #[135, 23, 14, 11]\n",
        "\n",
        "#นำ label มาสร้างตามจำนวน nan และแต่ล่ะ label ก็มีตามอัตราส่วน แล้วใส่ใน data_list\n",
        "data_list = []\n",
        "for i in range(len(nan_label_list)):\n",
        "  for j in range(nan_label_list[i]):\n",
        "    data_list.append(label_list[i])\n",
        "\n",
        "random.shuffle(data_list)\n",
        "\n",
        "NaN_index = [] #หา index ของแถวที่เป็น NaN  \n",
        "for i in range(len(df.index)):\n",
        "  if pd.isnull(df.iloc[i,k]):\n",
        "    NaN_index.append(i)\n",
        "\n",
        "#len(NaN_index) = 183\n",
        "\n",
        "for i in range(len(NaN_index)):\n",
        "  df.iloc[NaN_index[i],k] = data_list[i]"
      ],
      "execution_count": null,
      "outputs": []
    },
    {
      "cell_type": "code",
      "metadata": {
        "id": "CBf_d0Z3gMlx",
        "colab_type": "code",
        "colab": {}
      },
      "source": [
        "k = 5\n",
        "\n",
        "nonNaNValue = 0 \n",
        "label_list = []  \n",
        "num_label_list = [] \n",
        "\n",
        "for i in range(df.iloc[:,k].value_counts().count()):\n",
        "  nonNaNValue = nonNaNValue + df.iloc[:,k].value_counts()[i]\n",
        "  label_list.append(df.iloc[:,k].value_counts().index[i]) \n",
        "  num_label_list.append(df.iloc[:,k].value_counts()[i])\n",
        "\n",
        "nanValue = len(df.index) - nonNaNValue\n",
        "\n",
        "ratio_list = [] \n",
        "for i in range(len(label_list)):\n",
        "  ratio_list.append(num_label_list[i]/nonNaNValue) \n",
        "\n",
        "nan_label_list = [] \n",
        "num_NaN = 0\n",
        "\n",
        "for i in range(len(ratio_list)-1):\n",
        "  nan_label_list.append(round(ratio_list[i]*nanValue).astype(int))\n",
        "  num_NaN = num_NaN + nan_label_list[i]\n",
        "nan_label_list.append(nanValue-num_NaN) \n",
        "\n",
        "data_list = []\n",
        "for i in range(len(nan_label_list)):\n",
        "  for j in range(nan_label_list[i]):\n",
        "    data_list.append(label_list[i])\n",
        "\n",
        "random.shuffle(data_list)\n",
        "\n",
        "NaN_index = []   \n",
        "for i in range(len(df.index)):\n",
        "  if pd.isnull(df.iloc[i,k]):\n",
        "    NaN_index.append(i)\n",
        "\n",
        "for i in range(len(NaN_index)):\n",
        "  df.iloc[NaN_index[i],k] = data_list[i]"
      ],
      "execution_count": null,
      "outputs": []
    },
    {
      "cell_type": "markdown",
      "metadata": {
        "id": "p76UY4_zsouI",
        "colab_type": "text"
      },
      "source": [
        "## 2.3 get one hot df"
      ]
    },
    {
      "cell_type": "code",
      "metadata": {
        "id": "603Dd5wzHjPm",
        "colab_type": "code",
        "colab": {
          "base_uri": "https://localhost:8080/",
          "height": 249
        },
        "outputId": "c9f70240-4a58-407b-9f73-183e4209e0f8"
      },
      "source": [
        "df_real = pd.get_dummies(df,drop_first=True)\n",
        "df_real.sample(5)"
      ],
      "execution_count": null,
      "outputs": [
        {
          "output_type": "execute_result",
          "data": {
            "text/html": [
              "<div>\n",
              "<style scoped>\n",
              "    .dataframe tbody tr th:only-of-type {\n",
              "        vertical-align: middle;\n",
              "    }\n",
              "\n",
              "    .dataframe tbody tr th {\n",
              "        vertical-align: top;\n",
              "    }\n",
              "\n",
              "    .dataframe thead th {\n",
              "        text-align: right;\n",
              "    }\n",
              "</style>\n",
              "<table border=\"1\" class=\"dataframe\">\n",
              "  <thead>\n",
              "    <tr style=\"text-align: right;\">\n",
              "      <th></th>\n",
              "      <th>Age</th>\n",
              "      <th>Job</th>\n",
              "      <th>Credit amount</th>\n",
              "      <th>Duration</th>\n",
              "      <th>Sex_male</th>\n",
              "      <th>Housing_own</th>\n",
              "      <th>Housing_rent</th>\n",
              "      <th>Saving accounts_moderate</th>\n",
              "      <th>Saving accounts_quite rich</th>\n",
              "      <th>Saving accounts_rich</th>\n",
              "      <th>Checking account_moderate</th>\n",
              "      <th>Checking account_rich</th>\n",
              "      <th>Purpose_car</th>\n",
              "      <th>Purpose_domestic appliances</th>\n",
              "      <th>Purpose_education</th>\n",
              "      <th>Purpose_furniture/equipment</th>\n",
              "      <th>Purpose_radio/TV</th>\n",
              "      <th>Purpose_repairs</th>\n",
              "      <th>Purpose_vacation/others</th>\n",
              "      <th>Risk_good</th>\n",
              "    </tr>\n",
              "  </thead>\n",
              "  <tbody>\n",
              "    <tr>\n",
              "      <th>336</th>\n",
              "      <td>23</td>\n",
              "      <td>1</td>\n",
              "      <td>2101</td>\n",
              "      <td>13</td>\n",
              "      <td>0</td>\n",
              "      <td>1</td>\n",
              "      <td>0</td>\n",
              "      <td>0</td>\n",
              "      <td>0</td>\n",
              "      <td>0</td>\n",
              "      <td>1</td>\n",
              "      <td>0</td>\n",
              "      <td>0</td>\n",
              "      <td>0</td>\n",
              "      <td>0</td>\n",
              "      <td>0</td>\n",
              "      <td>1</td>\n",
              "      <td>0</td>\n",
              "      <td>0</td>\n",
              "      <td>1</td>\n",
              "    </tr>\n",
              "    <tr>\n",
              "      <th>549</th>\n",
              "      <td>35</td>\n",
              "      <td>2</td>\n",
              "      <td>8858</td>\n",
              "      <td>48</td>\n",
              "      <td>1</td>\n",
              "      <td>0</td>\n",
              "      <td>0</td>\n",
              "      <td>0</td>\n",
              "      <td>1</td>\n",
              "      <td>0</td>\n",
              "      <td>1</td>\n",
              "      <td>0</td>\n",
              "      <td>1</td>\n",
              "      <td>0</td>\n",
              "      <td>0</td>\n",
              "      <td>0</td>\n",
              "      <td>0</td>\n",
              "      <td>0</td>\n",
              "      <td>0</td>\n",
              "      <td>1</td>\n",
              "    </tr>\n",
              "    <tr>\n",
              "      <th>834</th>\n",
              "      <td>25</td>\n",
              "      <td>1</td>\n",
              "      <td>2327</td>\n",
              "      <td>15</td>\n",
              "      <td>0</td>\n",
              "      <td>1</td>\n",
              "      <td>0</td>\n",
              "      <td>0</td>\n",
              "      <td>0</td>\n",
              "      <td>0</td>\n",
              "      <td>0</td>\n",
              "      <td>1</td>\n",
              "      <td>0</td>\n",
              "      <td>0</td>\n",
              "      <td>0</td>\n",
              "      <td>0</td>\n",
              "      <td>1</td>\n",
              "      <td>0</td>\n",
              "      <td>0</td>\n",
              "      <td>0</td>\n",
              "    </tr>\n",
              "    <tr>\n",
              "      <th>157</th>\n",
              "      <td>45</td>\n",
              "      <td>1</td>\n",
              "      <td>339</td>\n",
              "      <td>12</td>\n",
              "      <td>1</td>\n",
              "      <td>1</td>\n",
              "      <td>0</td>\n",
              "      <td>0</td>\n",
              "      <td>0</td>\n",
              "      <td>0</td>\n",
              "      <td>0</td>\n",
              "      <td>0</td>\n",
              "      <td>0</td>\n",
              "      <td>0</td>\n",
              "      <td>1</td>\n",
              "      <td>0</td>\n",
              "      <td>0</td>\n",
              "      <td>0</td>\n",
              "      <td>0</td>\n",
              "      <td>1</td>\n",
              "    </tr>\n",
              "    <tr>\n",
              "      <th>47</th>\n",
              "      <td>23</td>\n",
              "      <td>0</td>\n",
              "      <td>1352</td>\n",
              "      <td>6</td>\n",
              "      <td>0</td>\n",
              "      <td>0</td>\n",
              "      <td>1</td>\n",
              "      <td>0</td>\n",
              "      <td>1</td>\n",
              "      <td>0</td>\n",
              "      <td>0</td>\n",
              "      <td>0</td>\n",
              "      <td>1</td>\n",
              "      <td>0</td>\n",
              "      <td>0</td>\n",
              "      <td>0</td>\n",
              "      <td>0</td>\n",
              "      <td>0</td>\n",
              "      <td>0</td>\n",
              "      <td>1</td>\n",
              "    </tr>\n",
              "  </tbody>\n",
              "</table>\n",
              "</div>"
            ],
            "text/plain": [
              "     Age  Job  ...  Purpose_vacation/others  Risk_good\n",
              "336   23    1  ...                        0          1\n",
              "549   35    2  ...                        0          1\n",
              "834   25    1  ...                        0          0\n",
              "157   45    1  ...                        0          1\n",
              "47    23    0  ...                        0          1\n",
              "\n",
              "[5 rows x 20 columns]"
            ]
          },
          "metadata": {
            "tags": []
          },
          "execution_count": 15
        }
      ]
    },
    {
      "cell_type": "code",
      "metadata": {
        "id": "on2caXd4KWn2",
        "colab_type": "code",
        "colab": {}
      },
      "source": [
        ""
      ],
      "execution_count": null,
      "outputs": []
    },
    {
      "cell_type": "markdown",
      "metadata": {
        "id": "NXqTvYHp838K",
        "colab_type": "text"
      },
      "source": [
        "# 3 defaut df"
      ]
    },
    {
      "cell_type": "markdown",
      "metadata": {
        "id": "vzgW8Dw6wGP2",
        "colab_type": "text"
      },
      "source": [
        "## 3.1 splitting"
      ]
    },
    {
      "cell_type": "code",
      "metadata": {
        "id": "ipYykcKPKT4Z",
        "colab_type": "code",
        "colab": {}
      },
      "source": [
        "label_col = 19 #กำหนด index ให้ label เพื่อความสะดวกในการแก้ code \n",
        "\n",
        "X = df_real.drop(df_real.columns[label_col],axis=1)\n",
        "y = df_real.iloc[:,label_col]"
      ],
      "execution_count": null,
      "outputs": []
    },
    {
      "cell_type": "code",
      "metadata": {
        "id": "CoAKTnDXyNOF",
        "colab_type": "code",
        "colab": {}
      },
      "source": [
        "X_train , X_test,y_train,y_test = train_test_split(X,y,train_size = 0.8,random_state=100)"
      ],
      "execution_count": null,
      "outputs": []
    },
    {
      "cell_type": "markdown",
      "metadata": {
        "id": "AGElG1XfmNmv",
        "colab_type": "text"
      },
      "source": [
        "#4 normalization df\n"
      ]
    },
    {
      "cell_type": "markdown",
      "metadata": {
        "id": "Jv-r1rvuxYWW",
        "colab_type": "text"
      },
      "source": [
        "## 4.1 normalization before splitting"
      ]
    },
    {
      "cell_type": "code",
      "metadata": {
        "id": "onHEfrJTnK8L",
        "colab_type": "code",
        "colab": {}
      },
      "source": [
        "minMaxScaler_X = MinMaxScaler()\n",
        "\n",
        "nordf_X = minMaxScaler_X.fit_transform(X_train)\n",
        "dfnor_X = pd.DataFrame(nordf_X,columns=df_real.columns[0:label_col])"
      ],
      "execution_count": null,
      "outputs": []
    },
    {
      "cell_type": "markdown",
      "metadata": {
        "id": "lL1TveaynDmm",
        "colab_type": "text"
      },
      "source": [
        "## 4.2 normalization after splitting"
      ]
    },
    {
      "cell_type": "code",
      "metadata": {
        "id": "7OohTM0Uqtmn",
        "colab_type": "code",
        "colab": {}
      },
      "source": [
        "minMaxScaler_X_tr = MinMaxScaler()\n",
        "minMaxScaler_X_te = MinMaxScaler()\n",
        "\n",
        "nordf_X_tr = minMaxScaler_X_tr.fit_transform(X_train)\n",
        "dfnor_X_tr = pd.DataFrame(nordf_X_tr,columns=df_real.columns[0:label_col])\n",
        "\n",
        "nordf_X_te = minMaxScaler_X_tr.fit_transform(X_test)\n",
        "dfnor_X_te = pd.DataFrame(nordf_X_te,columns=df_real.columns[0:label_col])\n",
        "\n",
        "#df_norm = min_max_scaler.fit_transform(df.drop(df.columns[9],axis=1))\n",
        "#norm_df = pd.DataFrame(df_norm,columns=df.columns[0:9])\n",
        "#norm_df.sample(5)"
      ],
      "execution_count": null,
      "outputs": []
    },
    {
      "cell_type": "markdown",
      "metadata": {
        "id": "0zwQIp_CB15H",
        "colab_type": "text"
      },
      "source": [
        "#5 standardization df"
      ]
    },
    {
      "cell_type": "markdown",
      "metadata": {
        "id": "ED-4imDYzSuq",
        "colab_type": "text"
      },
      "source": [
        "## 5.1 standardization before splitting"
      ]
    },
    {
      "cell_type": "code",
      "metadata": {
        "id": "Hhq6ASJ9zgG6",
        "colab_type": "code",
        "colab": {}
      },
      "source": [
        "stdScaler_X = StandardScaler()\n",
        "\n",
        "stddf_X = stdScaler_X.fit_transform(X_train)\n",
        "dfstd_X = pd.DataFrame(stddf_X,columns=df_real.columns[0:label_col])"
      ],
      "execution_count": null,
      "outputs": []
    },
    {
      "cell_type": "markdown",
      "metadata": {
        "id": "UmXCmiZJ1BLx",
        "colab_type": "text"
      },
      "source": [
        "## 5.2 standardization before splitting"
      ]
    },
    {
      "cell_type": "code",
      "metadata": {
        "id": "A77Ak1lVB0EA",
        "colab_type": "code",
        "colab": {}
      },
      "source": [
        "stdScaler_X_tr = StandardScaler()\n",
        "stdScaler_X_te = StandardScaler()\n",
        "\n",
        "stddf_X_tr = stdScaler_X_tr.fit_transform(X_train)\n",
        "dfstd_X_tr = pd.DataFrame(stddf_X_tr,columns=df_real.columns[0:label_col])\n",
        "\n",
        "stddf_X_te = stdScaler_X_te.fit_transform(X_test)\n",
        "dfstd_X_te = pd.DataFrame(stddf_X_te,columns=df_real.columns[0:label_col])\n",
        "\n",
        "#df_stad = stand_scaler.fit_transform(df.drop(df.columns[9],axis=1))\n",
        "#stad_df = pd.DataFrame(df_stad,columns=df.columns[0:9])\n",
        "#stad_df.sample(5)"
      ],
      "execution_count": null,
      "outputs": []
    },
    {
      "cell_type": "markdown",
      "metadata": {
        "id": "HVWSswrFqI14",
        "colab_type": "text"
      },
      "source": [
        "# 6 sklearn-DecisionTree (all-features)"
      ]
    },
    {
      "cell_type": "markdown",
      "metadata": {
        "id": "T3bGh2vTYip0",
        "colab_type": "text"
      },
      "source": [
        "## 6.1 Default"
      ]
    },
    {
      "cell_type": "code",
      "metadata": {
        "id": "O1aF3gLJYgng",
        "colab_type": "code",
        "colab": {
          "base_uri": "https://localhost:8080/",
          "height": 118
        },
        "outputId": "95151a20-33e2-47be-bc4a-681528ed0223"
      },
      "source": [
        "dtree = DecisionTreeClassifier()\n",
        "dtree.fit(X_train,y_train)"
      ],
      "execution_count": null,
      "outputs": [
        {
          "output_type": "execute_result",
          "data": {
            "text/plain": [
              "DecisionTreeClassifier(ccp_alpha=0.0, class_weight=None, criterion='gini',\n",
              "                       max_depth=None, max_features=None, max_leaf_nodes=None,\n",
              "                       min_impurity_decrease=0.0, min_impurity_split=None,\n",
              "                       min_samples_leaf=1, min_samples_split=2,\n",
              "                       min_weight_fraction_leaf=0.0, presort='deprecated',\n",
              "                       random_state=None, splitter='best')"
            ]
          },
          "metadata": {
            "tags": []
          },
          "execution_count": 22
        }
      ]
    },
    {
      "cell_type": "code",
      "metadata": {
        "id": "6LH_XUjRbV-r",
        "colab_type": "code",
        "colab": {}
      },
      "source": [
        "y_predict = dtree.predict(X_test)"
      ],
      "execution_count": null,
      "outputs": []
    },
    {
      "cell_type": "markdown",
      "metadata": {
        "id": "RKqCS6xPbuBz",
        "colab_type": "text"
      },
      "source": [
        "**Model Evaluation**"
      ]
    },
    {
      "cell_type": "code",
      "metadata": {
        "id": "uGVhLVrIb2F4",
        "colab_type": "code",
        "colab": {
          "base_uri": "https://localhost:8080/",
          "height": 50
        },
        "outputId": "e1e625f2-a2ab-4e14-e1e4-dc4abcd04d47"
      },
      "source": [
        "confusion_matrix(y_test,y_predict)"
      ],
      "execution_count": null,
      "outputs": [
        {
          "output_type": "execute_result",
          "data": {
            "text/plain": [
              "array([[ 22,  34],\n",
              "       [ 41, 103]])"
            ]
          },
          "metadata": {
            "tags": []
          },
          "execution_count": 24
        }
      ]
    },
    {
      "cell_type": "code",
      "metadata": {
        "id": "DnGFEsRbc5d6",
        "colab_type": "code",
        "colab": {}
      },
      "source": [
        "p1 = np.array([accuracy_score(y_test,y_predict),f1_score(y_test,y_predict),precision_score(y_test,y_predict),recall_score(y_test,y_predict)])"
      ],
      "execution_count": null,
      "outputs": []
    },
    {
      "cell_type": "markdown",
      "metadata": {
        "id": "rJ-lI3l1IdTZ",
        "colab_type": "text"
      },
      "source": [
        "## 6.2 Normalization"
      ]
    },
    {
      "cell_type": "markdown",
      "metadata": {
        "id": "jDYg4Cgt5JCE",
        "colab_type": "text"
      },
      "source": [
        "### 6.2.1 normalization after splitting\n"
      ]
    },
    {
      "cell_type": "code",
      "metadata": {
        "id": "R3rBGNKtFcVw",
        "colab_type": "code",
        "colab": {
          "base_uri": "https://localhost:8080/",
          "height": 118
        },
        "outputId": "c0f15d86-d6f3-49c0-f842-e28c19a67461"
      },
      "source": [
        "dtree_nor1 = DecisionTreeClassifier()\n",
        "dtree_nor1.fit(dfnor_X,y_train)"
      ],
      "execution_count": null,
      "outputs": [
        {
          "output_type": "execute_result",
          "data": {
            "text/plain": [
              "DecisionTreeClassifier(ccp_alpha=0.0, class_weight=None, criterion='gini',\n",
              "                       max_depth=None, max_features=None, max_leaf_nodes=None,\n",
              "                       min_impurity_decrease=0.0, min_impurity_split=None,\n",
              "                       min_samples_leaf=1, min_samples_split=2,\n",
              "                       min_weight_fraction_leaf=0.0, presort='deprecated',\n",
              "                       random_state=None, splitter='best')"
            ]
          },
          "metadata": {
            "tags": []
          },
          "execution_count": 26
        }
      ]
    },
    {
      "cell_type": "code",
      "metadata": {
        "id": "HHzEYg5pGFGP",
        "colab_type": "code",
        "colab": {}
      },
      "source": [
        "y_predict_nor1 = dtree_nor1.predict(dfnor_X_te)"
      ],
      "execution_count": null,
      "outputs": []
    },
    {
      "cell_type": "markdown",
      "metadata": {
        "id": "cwFyvjWpF-po",
        "colab_type": "text"
      },
      "source": [
        "**Model Evaluation**"
      ]
    },
    {
      "cell_type": "code",
      "metadata": {
        "id": "El0_VtlFF58E",
        "colab_type": "code",
        "colab": {
          "base_uri": "https://localhost:8080/",
          "height": 50
        },
        "outputId": "cf029a7e-0100-420d-bd17-e0cfa5730022"
      },
      "source": [
        "confusion_matrix(y_test,y_predict_nor1)"
      ],
      "execution_count": null,
      "outputs": [
        {
          "output_type": "execute_result",
          "data": {
            "text/plain": [
              "array([[ 23,  33],\n",
              "       [ 44, 100]])"
            ]
          },
          "metadata": {
            "tags": []
          },
          "execution_count": 28
        }
      ]
    },
    {
      "cell_type": "code",
      "metadata": {
        "id": "GlQzWiaeGs_z",
        "colab_type": "code",
        "colab": {}
      },
      "source": [
        "p2 = np.array([accuracy_score(y_test,y_predict_nor1),f1_score(y_test,y_predict_nor1),precision_score(y_test,y_predict_nor1),recall_score(y_test,y_predict_nor1)])"
      ],
      "execution_count": null,
      "outputs": []
    },
    {
      "cell_type": "code",
      "metadata": {
        "id": "p2kkRPCVTEy9",
        "colab_type": "code",
        "colab": {}
      },
      "source": [
        "p1 = np.vstack((p1,p2))"
      ],
      "execution_count": null,
      "outputs": []
    },
    {
      "cell_type": "markdown",
      "metadata": {
        "id": "YJwGbJhj4SA-",
        "colab_type": "text"
      },
      "source": [
        "### 6.2.2 normalization after splitting\n"
      ]
    },
    {
      "cell_type": "code",
      "metadata": {
        "id": "zxJ_N4P5hlMJ",
        "colab_type": "code",
        "colab": {
          "base_uri": "https://localhost:8080/",
          "height": 118
        },
        "outputId": "fe6f1832-ce94-4de3-cb91-449988e2f26e"
      },
      "source": [
        "dtree_nor2 = DecisionTreeClassifier()\n",
        "dtree_nor2.fit(dfnor_X_tr,y_train)"
      ],
      "execution_count": null,
      "outputs": [
        {
          "output_type": "execute_result",
          "data": {
            "text/plain": [
              "DecisionTreeClassifier(ccp_alpha=0.0, class_weight=None, criterion='gini',\n",
              "                       max_depth=None, max_features=None, max_leaf_nodes=None,\n",
              "                       min_impurity_decrease=0.0, min_impurity_split=None,\n",
              "                       min_samples_leaf=1, min_samples_split=2,\n",
              "                       min_weight_fraction_leaf=0.0, presort='deprecated',\n",
              "                       random_state=None, splitter='best')"
            ]
          },
          "metadata": {
            "tags": []
          },
          "execution_count": 31
        }
      ]
    },
    {
      "cell_type": "code",
      "metadata": {
        "id": "sLaKQWfF2pjC",
        "colab_type": "code",
        "colab": {}
      },
      "source": [
        "y_predict_nor2 = dtree_nor2.predict(dfnor_X_te)"
      ],
      "execution_count": null,
      "outputs": []
    },
    {
      "cell_type": "markdown",
      "metadata": {
        "id": "okq79HU_29dT",
        "colab_type": "text"
      },
      "source": [
        "**Model Evaluation**"
      ]
    },
    {
      "cell_type": "code",
      "metadata": {
        "id": "uXp3m9o743_q",
        "colab_type": "code",
        "colab": {
          "base_uri": "https://localhost:8080/",
          "height": 50
        },
        "outputId": "774331bc-a4b1-435b-e229-3927e819e4d3"
      },
      "source": [
        "confusion_matrix(y_test,y_predict_nor2)"
      ],
      "execution_count": null,
      "outputs": [
        {
          "output_type": "execute_result",
          "data": {
            "text/plain": [
              "array([[21, 35],\n",
              "       [47, 97]])"
            ]
          },
          "metadata": {
            "tags": []
          },
          "execution_count": 33
        }
      ]
    },
    {
      "cell_type": "code",
      "metadata": {
        "id": "yKeCoF3122sd",
        "colab_type": "code",
        "colab": {}
      },
      "source": [
        "p2 = np.array([accuracy_score(y_test,y_predict_nor2),f1_score(y_test,y_predict_nor2),precision_score(y_test,y_predict_nor2),recall_score(y_test,y_predict_nor2)])"
      ],
      "execution_count": null,
      "outputs": []
    },
    {
      "cell_type": "code",
      "metadata": {
        "id": "WnqESV9eNGcE",
        "colab_type": "code",
        "colab": {}
      },
      "source": [
        "#data = [[accuracy_score(y_test,y_predict),f1_score(y_test,y_predict),precision_score(y_test,y_predict),recall_score(y_test,y_predict)]]\n",
        "\n",
        "#table_data = pd.DataFrame(data,columns=['Accuracy','F1 score','Recall','Precision'],index=['all-features/Normalization'])\n"
      ],
      "execution_count": null,
      "outputs": []
    },
    {
      "cell_type": "code",
      "metadata": {
        "id": "qFcEC8RiVpx7",
        "colab_type": "code",
        "colab": {}
      },
      "source": [
        "p1 = np.vstack((p1,p2))"
      ],
      "execution_count": null,
      "outputs": []
    },
    {
      "cell_type": "markdown",
      "metadata": {
        "id": "5e5BKLmSIqEM",
        "colab_type": "text"
      },
      "source": [
        "##6.3 Standardization"
      ]
    },
    {
      "cell_type": "markdown",
      "metadata": {
        "id": "bLTfrgH0HzDl",
        "colab_type": "text"
      },
      "source": [
        "### 6.3.1 standardization after splitting"
      ]
    },
    {
      "cell_type": "code",
      "metadata": {
        "id": "y_mVJGmMKWeF",
        "colab_type": "code",
        "colab": {
          "base_uri": "https://localhost:8080/"
        },
        "outputId": "8891b4e2-4b37-4ccf-e4a3-d63a703e1ff7"
      },
      "source": [
        "dtree_std1 = DecisionTreeClassifier()\n",
        "dtree_std1.fit(dfstd_X,y_train)"
      ],
      "execution_count": null,
      "outputs": [
        {
          "output_type": "execute_result",
          "data": {
            "text/plain": [
              "DecisionTreeClassifier(ccp_alpha=0.0, class_weight=None, criterion='gini',\n",
              "                       max_depth=None, max_features=None, max_leaf_nodes=None,\n",
              "                       min_impurity_decrease=0.0, min_impurity_split=None,\n",
              "                       min_samples_leaf=1, min_samples_split=2,\n",
              "                       min_weight_fraction_leaf=0.0, presort='deprecated',\n",
              "                       random_state=None, splitter='best')"
            ]
          },
          "metadata": {
            "tags": []
          },
          "execution_count": 37
        }
      ]
    },
    {
      "cell_type": "code",
      "metadata": {
        "id": "uWAO5rhQK4Zp",
        "colab_type": "code",
        "colab": {}
      },
      "source": [
        "y_predict_std1 = dtree_std1.predict(dfstd_X_te)"
      ],
      "execution_count": null,
      "outputs": []
    },
    {
      "cell_type": "markdown",
      "metadata": {
        "id": "uETNG0_KLiiV",
        "colab_type": "text"
      },
      "source": [
        "**Model Evaluation**\n"
      ]
    },
    {
      "cell_type": "code",
      "metadata": {
        "id": "RiWI2_CqLsYT",
        "colab_type": "code",
        "colab": {
          "base_uri": "https://localhost:8080/"
        },
        "outputId": "4c72c44d-628e-4dcc-fba5-41e1e91c3c31"
      },
      "source": [
        "confusion_matrix(y_test,y_predict_std1)"
      ],
      "execution_count": null,
      "outputs": [
        {
          "output_type": "execute_result",
          "data": {
            "text/plain": [
              "array([[ 24,  32],\n",
              "       [ 38, 106]])"
            ]
          },
          "metadata": {
            "tags": []
          },
          "execution_count": 39
        }
      ]
    },
    {
      "cell_type": "code",
      "metadata": {
        "id": "WNcTQd-SLzOG",
        "colab_type": "code",
        "colab": {}
      },
      "source": [
        "p2 = np.array([accuracy_score(y_test,y_predict_std1),f1_score(y_test,y_predict_std1),precision_score(y_test,y_predict_std1),recall_score(y_test,y_predict_std1)])"
      ],
      "execution_count": null,
      "outputs": []
    },
    {
      "cell_type": "code",
      "metadata": {
        "id": "0wgA1JC1XKqD",
        "colab_type": "code",
        "colab": {}
      },
      "source": [
        "p1 = np.vstack((p1,p2))"
      ],
      "execution_count": null,
      "outputs": []
    },
    {
      "cell_type": "markdown",
      "metadata": {
        "id": "pqA-wf1LH8p3",
        "colab_type": "text"
      },
      "source": [
        "6.3.1 standardization before splitting"
      ]
    },
    {
      "cell_type": "code",
      "metadata": {
        "id": "sa_kfpf7Izt_",
        "colab_type": "code",
        "colab": {
          "base_uri": "https://localhost:8080/"
        },
        "outputId": "31441e64-5760-4f8b-d15c-84051fd778ea"
      },
      "source": [
        "dtree_std2 = DecisionTreeClassifier()\n",
        "dtree_std2.fit(dfstd_X_tr,y_train)"
      ],
      "execution_count": null,
      "outputs": [
        {
          "output_type": "execute_result",
          "data": {
            "text/plain": [
              "DecisionTreeClassifier(ccp_alpha=0.0, class_weight=None, criterion='gini',\n",
              "                       max_depth=None, max_features=None, max_leaf_nodes=None,\n",
              "                       min_impurity_decrease=0.0, min_impurity_split=None,\n",
              "                       min_samples_leaf=1, min_samples_split=2,\n",
              "                       min_weight_fraction_leaf=0.0, presort='deprecated',\n",
              "                       random_state=None, splitter='best')"
            ]
          },
          "metadata": {
            "tags": []
          },
          "execution_count": 42
        }
      ]
    },
    {
      "cell_type": "code",
      "metadata": {
        "id": "2X25kqWwZWYU",
        "colab_type": "code",
        "colab": {}
      },
      "source": [
        "y_predict_std2 = dtree_std2.predict(dfstd_X_te)"
      ],
      "execution_count": null,
      "outputs": []
    },
    {
      "cell_type": "markdown",
      "metadata": {
        "id": "Gl7dy8o9Jvrj",
        "colab_type": "text"
      },
      "source": [
        "**Model Evaluation**"
      ]
    },
    {
      "cell_type": "code",
      "metadata": {
        "id": "V5Kx5IIcJ5lk",
        "colab_type": "code",
        "colab": {
          "base_uri": "https://localhost:8080/"
        },
        "outputId": "b59b2069-25f9-4fb5-da6b-2849ad9ff496"
      },
      "source": [
        "confusion_matrix(y_test,y_predict_std2)"
      ],
      "execution_count": null,
      "outputs": [
        {
          "output_type": "execute_result",
          "data": {
            "text/plain": [
              "array([[ 24,  32],\n",
              "       [ 40, 104]])"
            ]
          },
          "metadata": {
            "tags": []
          },
          "execution_count": 44
        }
      ]
    },
    {
      "cell_type": "code",
      "metadata": {
        "id": "ObxiZA3MJ88o",
        "colab_type": "code",
        "colab": {}
      },
      "source": [
        "p2 = np.array([accuracy_score(y_test,y_predict_std2),f1_score(y_test,y_predict_std2),precision_score(y_test,y_predict_std2),recall_score(y_test,y_predict_std2)])"
      ],
      "execution_count": null,
      "outputs": []
    },
    {
      "cell_type": "code",
      "metadata": {
        "id": "F6-77gj9XYTM",
        "colab_type": "code",
        "colab": {}
      },
      "source": [
        "p1 = np.vstack((p1,p2))"
      ],
      "execution_count": null,
      "outputs": []
    },
    {
      "cell_type": "code",
      "metadata": {
        "id": "bjcCd1anPDMU",
        "colab_type": "code",
        "colab": {}
      },
      "source": [
        "#data = [[accuracy_score(y_test,y_predict),f1_score(y_test,y_predict),precision_score(y_test,y_predict),recall_score(y_test,y_predict)]]\n",
        "#table_data2 = pd.DataFrame(data,columns=['Accuracy','F1 score','Recall','Precision'],index=['all-features/Standardization'])\n",
        "#table_data = table_data.append(table_data2)"
      ],
      "execution_count": null,
      "outputs": []
    },
    {
      "cell_type": "markdown",
      "metadata": {
        "id": "XNhUe756MNb1",
        "colab_type": "text"
      },
      "source": [
        "## 6.4 Grid Search"
      ]
    },
    {
      "cell_type": "code",
      "metadata": {
        "id": "yH1B1QNGMZ0l",
        "colab_type": "code",
        "colab": {}
      },
      "source": [
        "param_combination = {'max_depth':[4,8,16,32],'min_samples_leaf':[1,2,4,8]}\n",
        "grid_search = GridSearchCV(DecisionTreeClassifier(),param_combination,verbose=1)"
      ],
      "execution_count": null,
      "outputs": []
    },
    {
      "cell_type": "code",
      "metadata": {
        "id": "4VTkVFTNNrYI",
        "colab_type": "code",
        "colab": {
          "base_uri": "https://localhost:8080/",
          "height": 370
        },
        "outputId": "bf077e8f-2270-42f0-b3cf-6d382fd0ee5a"
      },
      "source": [
        "grid_search.fit(X_train,y_train)"
      ],
      "execution_count": null,
      "outputs": [
        {
          "output_type": "stream",
          "text": [
            "Fitting 5 folds for each of 16 candidates, totalling 80 fits\n"
          ],
          "name": "stdout"
        },
        {
          "output_type": "stream",
          "text": [
            "[Parallel(n_jobs=1)]: Using backend SequentialBackend with 1 concurrent workers.\n",
            "[Parallel(n_jobs=1)]: Done  80 out of  80 | elapsed:    0.4s finished\n"
          ],
          "name": "stderr"
        },
        {
          "output_type": "execute_result",
          "data": {
            "text/plain": [
              "GridSearchCV(cv=None, error_score=nan,\n",
              "             estimator=DecisionTreeClassifier(ccp_alpha=0.0, class_weight=None,\n",
              "                                              criterion='gini', max_depth=None,\n",
              "                                              max_features=None,\n",
              "                                              max_leaf_nodes=None,\n",
              "                                              min_impurity_decrease=0.0,\n",
              "                                              min_impurity_split=None,\n",
              "                                              min_samples_leaf=1,\n",
              "                                              min_samples_split=2,\n",
              "                                              min_weight_fraction_leaf=0.0,\n",
              "                                              presort='deprecated',\n",
              "                                              random_state=None,\n",
              "                                              splitter='best'),\n",
              "             iid='deprecated', n_jobs=None,\n",
              "             param_grid={'max_depth': [4, 8, 16, 32],\n",
              "                         'min_samples_leaf': [1, 2, 4, 8]},\n",
              "             pre_dispatch='2*n_jobs', refit=True, return_train_score=False,\n",
              "             scoring=None, verbose=1)"
            ]
          },
          "metadata": {
            "tags": []
          },
          "execution_count": 49
        }
      ]
    },
    {
      "cell_type": "code",
      "metadata": {
        "id": "BskthfjjOhud",
        "colab_type": "code",
        "colab": {
          "base_uri": "https://localhost:8080/",
          "height": 34
        },
        "outputId": "e7465e00-f0ca-4dfc-8867-3b39a078a6c4"
      },
      "source": [
        "grid_search.best_params_"
      ],
      "execution_count": null,
      "outputs": [
        {
          "output_type": "execute_result",
          "data": {
            "text/plain": [
              "{'max_depth': 4, 'min_samples_leaf': 4}"
            ]
          },
          "metadata": {
            "tags": []
          },
          "execution_count": 50
        }
      ]
    },
    {
      "cell_type": "code",
      "metadata": {
        "id": "t_tN2--HOyw2",
        "colab_type": "code",
        "colab": {
          "base_uri": "https://localhost:8080/",
          "height": 118
        },
        "outputId": "e6122219-61ca-4938-943e-8e113fa0c504"
      },
      "source": [
        "grid_search.best_estimator_"
      ],
      "execution_count": null,
      "outputs": [
        {
          "output_type": "execute_result",
          "data": {
            "text/plain": [
              "DecisionTreeClassifier(ccp_alpha=0.0, class_weight=None, criterion='gini',\n",
              "                       max_depth=4, max_features=None, max_leaf_nodes=None,\n",
              "                       min_impurity_decrease=0.0, min_impurity_split=None,\n",
              "                       min_samples_leaf=4, min_samples_split=2,\n",
              "                       min_weight_fraction_leaf=0.0, presort='deprecated',\n",
              "                       random_state=None, splitter='best')"
            ]
          },
          "metadata": {
            "tags": []
          },
          "execution_count": 51
        }
      ]
    },
    {
      "cell_type": "code",
      "metadata": {
        "id": "4xreSLhyPApX",
        "colab_type": "code",
        "colab": {}
      },
      "source": [
        "y_predict_grid = grid_search.predict(X_test)"
      ],
      "execution_count": null,
      "outputs": []
    },
    {
      "cell_type": "markdown",
      "metadata": {
        "id": "CvVX_2zQOFac",
        "colab_type": "text"
      },
      "source": [
        "**Model Evaluation**"
      ]
    },
    {
      "cell_type": "code",
      "metadata": {
        "id": "xVh572S8PSQj",
        "colab_type": "code",
        "colab": {
          "base_uri": "https://localhost:8080/",
          "height": 50
        },
        "outputId": "515ed885-243d-47fb-831c-163908ce47a1"
      },
      "source": [
        "confusion_matrix(y_test,y_predict_grid)"
      ],
      "execution_count": null,
      "outputs": [
        {
          "output_type": "execute_result",
          "data": {
            "text/plain": [
              "array([[  6,  50],\n",
              "       [  5, 139]])"
            ]
          },
          "metadata": {
            "tags": []
          },
          "execution_count": 53
        }
      ]
    },
    {
      "cell_type": "code",
      "metadata": {
        "id": "OHzDn5sTPjrg",
        "colab_type": "code",
        "colab": {}
      },
      "source": [
        "p2 = np.array([accuracy_score(y_test,y_predict_grid),f1_score(y_test,y_predict_grid),precision_score(y_test,y_predict_grid),recall_score(y_test,y_predict_grid)])"
      ],
      "execution_count": null,
      "outputs": []
    },
    {
      "cell_type": "code",
      "metadata": {
        "id": "HWRtrHmWXqJM",
        "colab_type": "code",
        "colab": {}
      },
      "source": [
        "p1 = np.vstack((p1,p2)).round(3)"
      ],
      "execution_count": null,
      "outputs": []
    },
    {
      "cell_type": "code",
      "metadata": {
        "id": "IpaNKu2Ze2vE",
        "colab_type": "code",
        "colab": {}
      },
      "source": [
        "#table1 = pd.DataFrame(p1,columns=['Accuracy','F1 score','Recall','Precision'],index=['default','normalize before split','normalize after split','standardize before split','standardize after split','grid search'])\n",
        "table1 = pd.DataFrame(p1,columns=['Accuracy','F1 score','Recall','Precision'],index=None)"
      ],
      "execution_count": null,
      "outputs": []
    },
    {
      "cell_type": "code",
      "metadata": {
        "id": "b7R3bXwPtp_t",
        "colab_type": "code",
        "colab": {}
      },
      "source": [
        "table1['model'] = np.array(['DecisionTree','DecisionTree','DecisionTree','DecisionTree','DecisionTree','DecisionTree'])"
      ],
      "execution_count": null,
      "outputs": []
    },
    {
      "cell_type": "code",
      "metadata": {
        "id": "AJMpftkSeTCk",
        "colab_type": "code",
        "colab": {}
      },
      "source": [
        "table1['modelEvaluation'] = np.array(['default','normalize before split','normalize after split','standardize before split','standardize after split','grid search'])"
      ],
      "execution_count": null,
      "outputs": []
    },
    {
      "cell_type": "code",
      "metadata": {
        "id": "zvnPiWmAgUBu",
        "colab_type": "code",
        "colab": {
          "base_uri": "https://localhost:8080/",
          "height": 225
        },
        "outputId": "f6cb8f66-448a-40d1-a032-d93723cfc01a"
      },
      "source": [
        "table1"
      ],
      "execution_count": null,
      "outputs": [
        {
          "output_type": "execute_result",
          "data": {
            "text/html": [
              "<div>\n",
              "<style scoped>\n",
              "    .dataframe tbody tr th:only-of-type {\n",
              "        vertical-align: middle;\n",
              "    }\n",
              "\n",
              "    .dataframe tbody tr th {\n",
              "        vertical-align: top;\n",
              "    }\n",
              "\n",
              "    .dataframe thead th {\n",
              "        text-align: right;\n",
              "    }\n",
              "</style>\n",
              "<table border=\"1\" class=\"dataframe\">\n",
              "  <thead>\n",
              "    <tr style=\"text-align: right;\">\n",
              "      <th></th>\n",
              "      <th>Accuracy</th>\n",
              "      <th>F1 score</th>\n",
              "      <th>Recall</th>\n",
              "      <th>Precision</th>\n",
              "      <th>model</th>\n",
              "      <th>modelEvaluation</th>\n",
              "    </tr>\n",
              "  </thead>\n",
              "  <tbody>\n",
              "    <tr>\n",
              "      <th>0</th>\n",
              "      <td>0.625</td>\n",
              "      <td>0.733</td>\n",
              "      <td>0.752</td>\n",
              "      <td>0.715</td>\n",
              "      <td>DecisionTree</td>\n",
              "      <td>default</td>\n",
              "    </tr>\n",
              "    <tr>\n",
              "      <th>1</th>\n",
              "      <td>0.615</td>\n",
              "      <td>0.722</td>\n",
              "      <td>0.752</td>\n",
              "      <td>0.694</td>\n",
              "      <td>DecisionTree</td>\n",
              "      <td>normalize before split</td>\n",
              "    </tr>\n",
              "    <tr>\n",
              "      <th>2</th>\n",
              "      <td>0.590</td>\n",
              "      <td>0.703</td>\n",
              "      <td>0.735</td>\n",
              "      <td>0.674</td>\n",
              "      <td>DecisionTree</td>\n",
              "      <td>normalize after split</td>\n",
              "    </tr>\n",
              "    <tr>\n",
              "      <th>3</th>\n",
              "      <td>0.650</td>\n",
              "      <td>0.752</td>\n",
              "      <td>0.768</td>\n",
              "      <td>0.736</td>\n",
              "      <td>DecisionTree</td>\n",
              "      <td>standardize before split</td>\n",
              "    </tr>\n",
              "    <tr>\n",
              "      <th>4</th>\n",
              "      <td>0.640</td>\n",
              "      <td>0.743</td>\n",
              "      <td>0.765</td>\n",
              "      <td>0.722</td>\n",
              "      <td>DecisionTree</td>\n",
              "      <td>standardize after split</td>\n",
              "    </tr>\n",
              "    <tr>\n",
              "      <th>5</th>\n",
              "      <td>0.725</td>\n",
              "      <td>0.835</td>\n",
              "      <td>0.735</td>\n",
              "      <td>0.965</td>\n",
              "      <td>DecisionTree</td>\n",
              "      <td>grid search</td>\n",
              "    </tr>\n",
              "  </tbody>\n",
              "</table>\n",
              "</div>"
            ],
            "text/plain": [
              "   Accuracy  F1 score  ...         model           modelEvaluation\n",
              "0     0.625     0.733  ...  DecisionTree                   default\n",
              "1     0.615     0.722  ...  DecisionTree    normalize before split\n",
              "2     0.590     0.703  ...  DecisionTree     normalize after split\n",
              "3     0.650     0.752  ...  DecisionTree  standardize before split\n",
              "4     0.640     0.743  ...  DecisionTree   standardize after split\n",
              "5     0.725     0.835  ...  DecisionTree               grid search\n",
              "\n",
              "[6 rows x 6 columns]"
            ]
          },
          "metadata": {
            "tags": []
          },
          "execution_count": 59
        }
      ]
    },
    {
      "cell_type": "markdown",
      "metadata": {
        "id": "j8mhGC4VYHzO",
        "colab_type": "text"
      },
      "source": [
        "# 7 ......"
      ]
    },
    {
      "cell_type": "code",
      "metadata": {
        "id": "WVk-8vgtYhFh",
        "colab_type": "code",
        "colab": {}
      },
      "source": [
        "X = df_real.drop(df_real.columns[[label_col,4]],axis=1)\n",
        "y = df_real.iloc[:,label_col]\n",
        "\n",
        "X_train1 , X_test1,y_train1,y_test1 = train_test_split(X,y,train_size = 0.8,random_state=100)"
      ],
      "execution_count": null,
      "outputs": []
    },
    {
      "cell_type": "code",
      "metadata": {
        "id": "mBX1W1Or32iv",
        "colab_type": "code",
        "colab": {}
      },
      "source": [
        "#y_predict = nbCase1.predict(X_test)"
      ],
      "execution_count": null,
      "outputs": []
    },
    {
      "cell_type": "code",
      "metadata": {
        "id": "JatJUBvQ4Cu9",
        "colab_type": "code",
        "colab": {}
      },
      "source": [
        "#confusion_matrix(y_test,y_predict)"
      ],
      "execution_count": null,
      "outputs": []
    },
    {
      "cell_type": "code",
      "metadata": {
        "id": "wTHxHHt64F3m",
        "colab_type": "code",
        "colab": {}
      },
      "source": [
        "#accuracy_score(y_test,y_predict),f1_score(y_test,y_predict,average = 'micro'),precision_score(y_test,y_predict,average = 'micro'),recall_score(y_test,y_predict,average = 'micro')"
      ],
      "execution_count": null,
      "outputs": []
    },
    {
      "cell_type": "markdown",
      "metadata": {
        "id": "WDa000XWRGU0",
        "colab_type": "text"
      },
      "source": [
        "# 8 sklearn-RandomForest (all-features)"
      ]
    },
    {
      "cell_type": "markdown",
      "metadata": {
        "id": "TYG5Tq0rR80a",
        "colab_type": "text"
      },
      "source": [
        "## 8.1 Default"
      ]
    },
    {
      "cell_type": "code",
      "metadata": {
        "id": "cW5bxuSlRYYW",
        "colab_type": "code",
        "colab": {
          "base_uri": "https://localhost:8080/",
          "height": 151
        },
        "outputId": "05424005-fa14-4686-c331-2bb6cef5d5a1"
      },
      "source": [
        "rf = RandomForestClassifier()\n",
        "rf.fit(X_train,y_train)"
      ],
      "execution_count": null,
      "outputs": [
        {
          "output_type": "execute_result",
          "data": {
            "text/plain": [
              "RandomForestClassifier(bootstrap=True, ccp_alpha=0.0, class_weight=None,\n",
              "                       criterion='gini', max_depth=None, max_features='auto',\n",
              "                       max_leaf_nodes=None, max_samples=None,\n",
              "                       min_impurity_decrease=0.0, min_impurity_split=None,\n",
              "                       min_samples_leaf=1, min_samples_split=2,\n",
              "                       min_weight_fraction_leaf=0.0, n_estimators=100,\n",
              "                       n_jobs=None, oob_score=False, random_state=None,\n",
              "                       verbose=0, warm_start=False)"
            ]
          },
          "metadata": {
            "tags": []
          },
          "execution_count": 64
        }
      ]
    },
    {
      "cell_type": "code",
      "metadata": {
        "id": "UQSJAuXmUA5o",
        "colab_type": "code",
        "colab": {}
      },
      "source": [
        "y_predict = rf.predict(X_test)"
      ],
      "execution_count": null,
      "outputs": []
    },
    {
      "cell_type": "markdown",
      "metadata": {
        "id": "DqDeNVJ4VhUt",
        "colab_type": "text"
      },
      "source": [
        "**Model Evaluation**"
      ]
    },
    {
      "cell_type": "code",
      "metadata": {
        "id": "QSvffl_6VkyU",
        "colab_type": "code",
        "colab": {
          "base_uri": "https://localhost:8080/",
          "height": 50
        },
        "outputId": "c85d4911-0c67-43c7-b728-a45c179e4d93"
      },
      "source": [
        "confusion_matrix(y_test,y_predict)"
      ],
      "execution_count": null,
      "outputs": [
        {
          "output_type": "execute_result",
          "data": {
            "text/plain": [
              "array([[ 13,  43],\n",
              "       [ 17, 127]])"
            ]
          },
          "metadata": {
            "tags": []
          },
          "execution_count": 66
        }
      ]
    },
    {
      "cell_type": "code",
      "metadata": {
        "id": "XE0Nvm9NVuY3",
        "colab_type": "code",
        "colab": {}
      },
      "source": [
        "p3 = np.array([accuracy_score(y_test,y_predict),f1_score(y_test,y_predict),precision_score(y_test,y_predict),recall_score(y_test,y_predict)])"
      ],
      "execution_count": null,
      "outputs": []
    },
    {
      "cell_type": "markdown",
      "metadata": {
        "colab_type": "text",
        "id": "ZwGhuzAZZa3H"
      },
      "source": [
        "## 8.2 Normalization"
      ]
    },
    {
      "cell_type": "markdown",
      "metadata": {
        "colab_type": "text",
        "id": "vTbvY5H5Za3K"
      },
      "source": [
        "### 8.2.1 normalization after splitting\n"
      ]
    },
    {
      "cell_type": "code",
      "metadata": {
        "colab_type": "code",
        "id": "A2VWjESmZa3M",
        "colab": {
          "base_uri": "https://localhost:8080/",
          "height": 151
        },
        "outputId": "543ef9d2-5046-4325-ab76-fa60d67efde9"
      },
      "source": [
        "rf_nor1 = RandomForestClassifier()\n",
        "rf_nor1.fit(dfnor_X,y_train)"
      ],
      "execution_count": null,
      "outputs": [
        {
          "output_type": "execute_result",
          "data": {
            "text/plain": [
              "RandomForestClassifier(bootstrap=True, ccp_alpha=0.0, class_weight=None,\n",
              "                       criterion='gini', max_depth=None, max_features='auto',\n",
              "                       max_leaf_nodes=None, max_samples=None,\n",
              "                       min_impurity_decrease=0.0, min_impurity_split=None,\n",
              "                       min_samples_leaf=1, min_samples_split=2,\n",
              "                       min_weight_fraction_leaf=0.0, n_estimators=100,\n",
              "                       n_jobs=None, oob_score=False, random_state=None,\n",
              "                       verbose=0, warm_start=False)"
            ]
          },
          "metadata": {
            "tags": []
          },
          "execution_count": 68
        }
      ]
    },
    {
      "cell_type": "code",
      "metadata": {
        "colab_type": "code",
        "id": "2Rf-aIQEZa3X",
        "colab": {}
      },
      "source": [
        "y_predict_nor1 = rf_nor1.predict(dfnor_X_te)"
      ],
      "execution_count": null,
      "outputs": []
    },
    {
      "cell_type": "markdown",
      "metadata": {
        "colab_type": "text",
        "id": "IzJgUSgGZa3f"
      },
      "source": [
        "**Model Evaluation**"
      ]
    },
    {
      "cell_type": "code",
      "metadata": {
        "colab_type": "code",
        "id": "cbRf1tpKZa3g",
        "colab": {
          "base_uri": "https://localhost:8080/",
          "height": 50
        },
        "outputId": "fc2616c8-080e-4238-cd76-c530b4233e02"
      },
      "source": [
        "confusion_matrix(y_test,y_predict_nor1)"
      ],
      "execution_count": null,
      "outputs": [
        {
          "output_type": "execute_result",
          "data": {
            "text/plain": [
              "array([[ 14,  42],\n",
              "       [ 14, 130]])"
            ]
          },
          "metadata": {
            "tags": []
          },
          "execution_count": 70
        }
      ]
    },
    {
      "cell_type": "code",
      "metadata": {
        "colab_type": "code",
        "id": "YtHj1s_4Za3o",
        "colab": {}
      },
      "source": [
        "p4 = np.array([accuracy_score(y_test,y_predict_nor1),f1_score(y_test,y_predict_nor1),precision_score(y_test,y_predict_nor1),recall_score(y_test,y_predict_nor1)])"
      ],
      "execution_count": null,
      "outputs": []
    },
    {
      "cell_type": "code",
      "metadata": {
        "colab_type": "code",
        "id": "KUUz6IYHZa3s",
        "colab": {}
      },
      "source": [
        "p3 = np.vstack((p3,p4))"
      ],
      "execution_count": null,
      "outputs": []
    },
    {
      "cell_type": "markdown",
      "metadata": {
        "colab_type": "text",
        "id": "aBWGvB5qZa3x"
      },
      "source": [
        "### 8.2.2 normalization after splitting\n"
      ]
    },
    {
      "cell_type": "code",
      "metadata": {
        "colab_type": "code",
        "id": "BhZ3i3VoZa3y",
        "colab": {
          "base_uri": "https://localhost:8080/",
          "height": 151
        },
        "outputId": "48b078ae-9d1c-453a-c387-d48ef32446ae"
      },
      "source": [
        "rf_nor2 = RandomForestClassifier()\n",
        "rf_nor2.fit(dfnor_X_tr,y_train)"
      ],
      "execution_count": null,
      "outputs": [
        {
          "output_type": "execute_result",
          "data": {
            "text/plain": [
              "RandomForestClassifier(bootstrap=True, ccp_alpha=0.0, class_weight=None,\n",
              "                       criterion='gini', max_depth=None, max_features='auto',\n",
              "                       max_leaf_nodes=None, max_samples=None,\n",
              "                       min_impurity_decrease=0.0, min_impurity_split=None,\n",
              "                       min_samples_leaf=1, min_samples_split=2,\n",
              "                       min_weight_fraction_leaf=0.0, n_estimators=100,\n",
              "                       n_jobs=None, oob_score=False, random_state=None,\n",
              "                       verbose=0, warm_start=False)"
            ]
          },
          "metadata": {
            "tags": []
          },
          "execution_count": 73
        }
      ]
    },
    {
      "cell_type": "code",
      "metadata": {
        "colab_type": "code",
        "id": "l2z0iK_jZa31",
        "colab": {}
      },
      "source": [
        "y_predict_nor2 = rf_nor2.predict(dfnor_X_te)"
      ],
      "execution_count": null,
      "outputs": []
    },
    {
      "cell_type": "markdown",
      "metadata": {
        "colab_type": "text",
        "id": "VIXL8r3GZa35"
      },
      "source": [
        "**Model Evaluation**"
      ]
    },
    {
      "cell_type": "code",
      "metadata": {
        "colab_type": "code",
        "id": "CRSLe1sjZa36",
        "colab": {
          "base_uri": "https://localhost:8080/",
          "height": 50
        },
        "outputId": "822f4f53-cc05-4e69-ee7b-d49424ed2d03"
      },
      "source": [
        "confusion_matrix(y_test,y_predict_nor2)"
      ],
      "execution_count": null,
      "outputs": [
        {
          "output_type": "execute_result",
          "data": {
            "text/plain": [
              "array([[ 15,  41],\n",
              "       [ 16, 128]])"
            ]
          },
          "metadata": {
            "tags": []
          },
          "execution_count": 75
        }
      ]
    },
    {
      "cell_type": "code",
      "metadata": {
        "colab_type": "code",
        "id": "L4SUCJAaZa39",
        "colab": {}
      },
      "source": [
        "p4 = np.array([accuracy_score(y_test,y_predict_nor2),f1_score(y_test,y_predict_nor2),precision_score(y_test,y_predict_nor2),recall_score(y_test,y_predict_nor2)])"
      ],
      "execution_count": null,
      "outputs": []
    },
    {
      "cell_type": "code",
      "metadata": {
        "colab_type": "code",
        "id": "vBA3J9qnZa4B",
        "colab": {}
      },
      "source": [
        "#data = [[accuracy_score(y_test,y_predict),f1_score(y_test,y_predict),precision_score(y_test,y_predict),recall_score(y_test,y_predict)]]\n",
        "\n",
        "#table_data = pd.DataFrame(data,columns=['Accuracy','F1 score','Recall','Precision'],index=['all-features/Normalization'])\n"
      ],
      "execution_count": null,
      "outputs": []
    },
    {
      "cell_type": "code",
      "metadata": {
        "colab_type": "code",
        "id": "2cdQwrbLZa4E",
        "colab": {}
      },
      "source": [
        "p3 = np.vstack((p3,p4))"
      ],
      "execution_count": null,
      "outputs": []
    },
    {
      "cell_type": "markdown",
      "metadata": {
        "colab_type": "text",
        "id": "PLYyUjY3ysB5"
      },
      "source": [
        "##8.3 Standardization"
      ]
    },
    {
      "cell_type": "markdown",
      "metadata": {
        "colab_type": "text",
        "id": "sxtCryQcysB6"
      },
      "source": [
        "### 8.3.1 standardization after splitting"
      ]
    },
    {
      "cell_type": "code",
      "metadata": {
        "colab_type": "code",
        "id": "YmGxnByPysB8",
        "colab": {
          "base_uri": "https://localhost:8080/",
          "height": 151
        },
        "outputId": "2276e124-ca60-4fe0-8cdd-eed5a0210f57"
      },
      "source": [
        "rf_std1 = RandomForestClassifier()\n",
        "rf_std1.fit(dfstd_X,y_train)"
      ],
      "execution_count": null,
      "outputs": [
        {
          "output_type": "execute_result",
          "data": {
            "text/plain": [
              "RandomForestClassifier(bootstrap=True, ccp_alpha=0.0, class_weight=None,\n",
              "                       criterion='gini', max_depth=None, max_features='auto',\n",
              "                       max_leaf_nodes=None, max_samples=None,\n",
              "                       min_impurity_decrease=0.0, min_impurity_split=None,\n",
              "                       min_samples_leaf=1, min_samples_split=2,\n",
              "                       min_weight_fraction_leaf=0.0, n_estimators=100,\n",
              "                       n_jobs=None, oob_score=False, random_state=None,\n",
              "                       verbose=0, warm_start=False)"
            ]
          },
          "metadata": {
            "tags": []
          },
          "execution_count": 79
        }
      ]
    },
    {
      "cell_type": "code",
      "metadata": {
        "colab_type": "code",
        "id": "JItDIMmPysCE",
        "colab": {}
      },
      "source": [
        "y_predict_std1 = dtree_std1.predict(dfstd_X_te)"
      ],
      "execution_count": null,
      "outputs": []
    },
    {
      "cell_type": "markdown",
      "metadata": {
        "colab_type": "text",
        "id": "1YGb9VZLysCH"
      },
      "source": [
        "**Model Evaluation**\n"
      ]
    },
    {
      "cell_type": "code",
      "metadata": {
        "colab_type": "code",
        "id": "YNpfdj-xysCI",
        "colab": {
          "base_uri": "https://localhost:8080/",
          "height": 50
        },
        "outputId": "67da0542-6b8c-4edf-a8d9-f8c88e719840"
      },
      "source": [
        "confusion_matrix(y_test,y_predict_std1)"
      ],
      "execution_count": null,
      "outputs": [
        {
          "output_type": "execute_result",
          "data": {
            "text/plain": [
              "array([[ 24,  32],\n",
              "       [ 38, 106]])"
            ]
          },
          "metadata": {
            "tags": []
          },
          "execution_count": 81
        }
      ]
    },
    {
      "cell_type": "code",
      "metadata": {
        "colab_type": "code",
        "id": "w5ygniqYysCM",
        "colab": {}
      },
      "source": [
        "p4 = np.array([accuracy_score(y_test,y_predict_std1),f1_score(y_test,y_predict_std1),precision_score(y_test,y_predict_std1),recall_score(y_test,y_predict_std1)])"
      ],
      "execution_count": null,
      "outputs": []
    },
    {
      "cell_type": "code",
      "metadata": {
        "colab_type": "code",
        "id": "lAVVCGc1ysCP",
        "colab": {}
      },
      "source": [
        "p3 = np.vstack((p3,p4))"
      ],
      "execution_count": null,
      "outputs": []
    },
    {
      "cell_type": "markdown",
      "metadata": {
        "colab_type": "text",
        "id": "9SHxEFziysCT"
      },
      "source": [
        "6.3.1 standardization before splitting"
      ]
    },
    {
      "cell_type": "code",
      "metadata": {
        "colab_type": "code",
        "id": "mdjU08ooysCT",
        "colab": {
          "base_uri": "https://localhost:8080/",
          "height": 151
        },
        "outputId": "6d5a6881-46aa-45fe-a667-d6d19d641fd5"
      },
      "source": [
        "rf_std2 = RandomForestClassifier()\n",
        "rf_std2.fit(dfstd_X_tr,y_train)"
      ],
      "execution_count": null,
      "outputs": [
        {
          "output_type": "execute_result",
          "data": {
            "text/plain": [
              "RandomForestClassifier(bootstrap=True, ccp_alpha=0.0, class_weight=None,\n",
              "                       criterion='gini', max_depth=None, max_features='auto',\n",
              "                       max_leaf_nodes=None, max_samples=None,\n",
              "                       min_impurity_decrease=0.0, min_impurity_split=None,\n",
              "                       min_samples_leaf=1, min_samples_split=2,\n",
              "                       min_weight_fraction_leaf=0.0, n_estimators=100,\n",
              "                       n_jobs=None, oob_score=False, random_state=None,\n",
              "                       verbose=0, warm_start=False)"
            ]
          },
          "metadata": {
            "tags": []
          },
          "execution_count": 84
        }
      ]
    },
    {
      "cell_type": "code",
      "metadata": {
        "colab_type": "code",
        "id": "b-CSU_2BysCX",
        "colab": {}
      },
      "source": [
        "y_predict_std2 = dtree_std2.predict(dfstd_X_te)"
      ],
      "execution_count": null,
      "outputs": []
    },
    {
      "cell_type": "markdown",
      "metadata": {
        "colab_type": "text",
        "id": "Sv1ydIsFysCc"
      },
      "source": [
        "**Model Evaluation**"
      ]
    },
    {
      "cell_type": "code",
      "metadata": {
        "colab_type": "code",
        "id": "2NIKAon7ysCd",
        "colab": {
          "base_uri": "https://localhost:8080/",
          "height": 50
        },
        "outputId": "838fd876-52ec-46d6-d0ac-88908f42a2ef"
      },
      "source": [
        "confusion_matrix(y_test,y_predict_std2)"
      ],
      "execution_count": null,
      "outputs": [
        {
          "output_type": "execute_result",
          "data": {
            "text/plain": [
              "array([[ 24,  32],\n",
              "       [ 40, 104]])"
            ]
          },
          "metadata": {
            "tags": []
          },
          "execution_count": 86
        }
      ]
    },
    {
      "cell_type": "code",
      "metadata": {
        "colab_type": "code",
        "id": "zytEypOPysCg",
        "colab": {}
      },
      "source": [
        "p4 = np.array([accuracy_score(y_test,y_predict_std2),f1_score(y_test,y_predict_std2),precision_score(y_test,y_predict_std2),recall_score(y_test,y_predict_std2)])"
      ],
      "execution_count": null,
      "outputs": []
    },
    {
      "cell_type": "code",
      "metadata": {
        "colab_type": "code",
        "id": "dA5rb4jwysCk",
        "colab": {}
      },
      "source": [
        "p3 = np.vstack((p3,p4))"
      ],
      "execution_count": null,
      "outputs": []
    },
    {
      "cell_type": "code",
      "metadata": {
        "colab_type": "code",
        "id": "tKlZRgdhysCo",
        "colab": {}
      },
      "source": [
        "#data = [[accuracy_score(y_test,y_predict),f1_score(y_test,y_predict),precision_score(y_test,y_predict),recall_score(y_test,y_predict)]]\n",
        "#table_data2 = pd.DataFrame(data,columns=['Accuracy','F1 score','Recall','Precision'],index=['all-features/Standardization'])\n",
        "#table_data = table_data.append(table_data2)"
      ],
      "execution_count": null,
      "outputs": []
    },
    {
      "cell_type": "markdown",
      "metadata": {
        "colab_type": "text",
        "id": "4HqY0nKs0F2I"
      },
      "source": [
        "## 8.4 Grid Search"
      ]
    },
    {
      "cell_type": "code",
      "metadata": {
        "colab_type": "code",
        "id": "eNgNUr_u0F2M",
        "colab": {}
      },
      "source": [
        "param_combination = {'max_depth':[4,8,16,32],'min_samples_leaf':[1,2,4,8],'n_estimators':[10,20,50,100]}\n",
        "grid_search1 = GridSearchCV(RandomForestClassifier(),param_combination,verbose=1)"
      ],
      "execution_count": null,
      "outputs": []
    },
    {
      "cell_type": "code",
      "metadata": {
        "colab_type": "code",
        "id": "Jow2wn1s0F2T",
        "colab": {
          "base_uri": "https://localhost:8080/",
          "height": 437
        },
        "outputId": "06c6c021-a319-4a45-f5fa-7a8bc7b5a471"
      },
      "source": [
        "grid_search1.fit(X_train,y_train)"
      ],
      "execution_count": null,
      "outputs": [
        {
          "output_type": "stream",
          "text": [
            "Fitting 5 folds for each of 64 candidates, totalling 320 fits\n"
          ],
          "name": "stdout"
        },
        {
          "output_type": "stream",
          "text": [
            "[Parallel(n_jobs=1)]: Using backend SequentialBackend with 1 concurrent workers.\n",
            "[Parallel(n_jobs=1)]: Done 320 out of 320 | elapsed:   24.6s finished\n"
          ],
          "name": "stderr"
        },
        {
          "output_type": "execute_result",
          "data": {
            "text/plain": [
              "GridSearchCV(cv=None, error_score=nan,\n",
              "             estimator=RandomForestClassifier(bootstrap=True, ccp_alpha=0.0,\n",
              "                                              class_weight=None,\n",
              "                                              criterion='gini', max_depth=None,\n",
              "                                              max_features='auto',\n",
              "                                              max_leaf_nodes=None,\n",
              "                                              max_samples=None,\n",
              "                                              min_impurity_decrease=0.0,\n",
              "                                              min_impurity_split=None,\n",
              "                                              min_samples_leaf=1,\n",
              "                                              min_samples_split=2,\n",
              "                                              min_weight_fraction_leaf=0.0,\n",
              "                                              n_estimators=100, n_jobs=None,\n",
              "                                              oob_score=False,\n",
              "                                              random_state=None, verbose=0,\n",
              "                                              warm_start=False),\n",
              "             iid='deprecated', n_jobs=None,\n",
              "             param_grid={'max_depth': [4, 8, 16, 32],\n",
              "                         'min_samples_leaf': [1, 2, 4, 8],\n",
              "                         'n_estimators': [10, 20, 50, 100]},\n",
              "             pre_dispatch='2*n_jobs', refit=True, return_train_score=False,\n",
              "             scoring=None, verbose=1)"
            ]
          },
          "metadata": {
            "tags": []
          },
          "execution_count": 91
        }
      ]
    },
    {
      "cell_type": "code",
      "metadata": {
        "colab_type": "code",
        "id": "YUUyD6Tn0F2a",
        "colab": {
          "base_uri": "https://localhost:8080/",
          "height": 34
        },
        "outputId": "1b8dd53e-9408-4bdc-ae25-0429452c52f7"
      },
      "source": [
        "grid_search1.best_params_"
      ],
      "execution_count": null,
      "outputs": [
        {
          "output_type": "execute_result",
          "data": {
            "text/plain": [
              "{'max_depth': 8, 'min_samples_leaf': 8, 'n_estimators': 20}"
            ]
          },
          "metadata": {
            "tags": []
          },
          "execution_count": 92
        }
      ]
    },
    {
      "cell_type": "code",
      "metadata": {
        "colab_type": "code",
        "id": "qK6tjWbD0F2f",
        "colab": {
          "base_uri": "https://localhost:8080/",
          "height": 151
        },
        "outputId": "e537d802-82d0-44cc-ee7b-877b8760bd5d"
      },
      "source": [
        "grid_search1.best_estimator_"
      ],
      "execution_count": null,
      "outputs": [
        {
          "output_type": "execute_result",
          "data": {
            "text/plain": [
              "RandomForestClassifier(bootstrap=True, ccp_alpha=0.0, class_weight=None,\n",
              "                       criterion='gini', max_depth=8, max_features='auto',\n",
              "                       max_leaf_nodes=None, max_samples=None,\n",
              "                       min_impurity_decrease=0.0, min_impurity_split=None,\n",
              "                       min_samples_leaf=8, min_samples_split=2,\n",
              "                       min_weight_fraction_leaf=0.0, n_estimators=20,\n",
              "                       n_jobs=None, oob_score=False, random_state=None,\n",
              "                       verbose=0, warm_start=False)"
            ]
          },
          "metadata": {
            "tags": []
          },
          "execution_count": 93
        }
      ]
    },
    {
      "cell_type": "code",
      "metadata": {
        "colab_type": "code",
        "id": "vANHQW7f0F2j",
        "colab": {}
      },
      "source": [
        "y_predict_grid = grid_search1.predict(X_test)"
      ],
      "execution_count": null,
      "outputs": []
    },
    {
      "cell_type": "markdown",
      "metadata": {
        "colab_type": "text",
        "id": "N_cmjauC0F2m"
      },
      "source": [
        "**Model Evaluation**"
      ]
    },
    {
      "cell_type": "code",
      "metadata": {
        "colab_type": "code",
        "id": "G728Pa-30F2n",
        "colab": {
          "base_uri": "https://localhost:8080/",
          "height": 50
        },
        "outputId": "72cf7afe-dba4-40f1-c1ca-c43fb528ddfc"
      },
      "source": [
        "confusion_matrix(y_test,y_predict_grid)"
      ],
      "execution_count": null,
      "outputs": [
        {
          "output_type": "execute_result",
          "data": {
            "text/plain": [
              "array([[  8,  48],\n",
              "       [  8, 136]])"
            ]
          },
          "metadata": {
            "tags": []
          },
          "execution_count": 95
        }
      ]
    },
    {
      "cell_type": "code",
      "metadata": {
        "colab_type": "code",
        "id": "gZdFjNLa0F2q",
        "colab": {}
      },
      "source": [
        "p4 = np.array([accuracy_score(y_test,y_predict_grid),f1_score(y_test,y_predict_grid),precision_score(y_test,y_predict_grid),recall_score(y_test,y_predict_grid)])"
      ],
      "execution_count": null,
      "outputs": []
    },
    {
      "cell_type": "code",
      "metadata": {
        "colab_type": "code",
        "id": "zHaAjgHz0F2t",
        "colab": {}
      },
      "source": [
        "p3 = np.vstack((p3,p4)).round(3)"
      ],
      "execution_count": null,
      "outputs": []
    },
    {
      "cell_type": "code",
      "metadata": {
        "colab_type": "code",
        "id": "FR0ZVlaC0F2w",
        "colab": {}
      },
      "source": [
        "table2 = pd.DataFrame(p3,columns=['Accuracy','F1 score','Recall','Precision'],index=None)\n"
      ],
      "execution_count": null,
      "outputs": []
    },
    {
      "cell_type": "code",
      "metadata": {
        "id": "xjENv2GEsVTh",
        "colab_type": "code",
        "colab": {}
      },
      "source": [
        "table2['model'] = np.array(['RandomForest','RandomForest','RandomForest','RandomForest','RandomForest','RandomForest'])"
      ],
      "execution_count": null,
      "outputs": []
    },
    {
      "cell_type": "code",
      "metadata": {
        "id": "kRU6NOZSg6E5",
        "colab_type": "code",
        "colab": {}
      },
      "source": [
        "table2['modelEvaluation'] = np.array(['default','normalize before split','normalize after split','standardize before split','standardize after split','grid search'])"
      ],
      "execution_count": null,
      "outputs": []
    },
    {
      "cell_type": "markdown",
      "metadata": {
        "id": "VKdRTtGZJ3xY",
        "colab_type": "text"
      },
      "source": [
        "# 9 สรุป"
      ]
    },
    {
      "cell_type": "code",
      "metadata": {
        "id": "TklQKGg1u3P-",
        "colab_type": "code",
        "colab": {
          "base_uri": "https://localhost:8080/",
          "height": 402
        },
        "outputId": "82e88d7b-b0a2-4ed5-d7b2-8071fd9b80a8"
      },
      "source": [
        "summ_table = pd.concat([table1,table2],ignore_index=True)\n",
        "summ_table"
      ],
      "execution_count": null,
      "outputs": [
        {
          "output_type": "execute_result",
          "data": {
            "text/html": [
              "<div>\n",
              "<style scoped>\n",
              "    .dataframe tbody tr th:only-of-type {\n",
              "        vertical-align: middle;\n",
              "    }\n",
              "\n",
              "    .dataframe tbody tr th {\n",
              "        vertical-align: top;\n",
              "    }\n",
              "\n",
              "    .dataframe thead th {\n",
              "        text-align: right;\n",
              "    }\n",
              "</style>\n",
              "<table border=\"1\" class=\"dataframe\">\n",
              "  <thead>\n",
              "    <tr style=\"text-align: right;\">\n",
              "      <th></th>\n",
              "      <th>Accuracy</th>\n",
              "      <th>F1 score</th>\n",
              "      <th>Recall</th>\n",
              "      <th>Precision</th>\n",
              "      <th>model</th>\n",
              "      <th>modelEvaluation</th>\n",
              "    </tr>\n",
              "  </thead>\n",
              "  <tbody>\n",
              "    <tr>\n",
              "      <th>0</th>\n",
              "      <td>0.625</td>\n",
              "      <td>0.733</td>\n",
              "      <td>0.752</td>\n",
              "      <td>0.715</td>\n",
              "      <td>DecisionTree</td>\n",
              "      <td>default</td>\n",
              "    </tr>\n",
              "    <tr>\n",
              "      <th>1</th>\n",
              "      <td>0.615</td>\n",
              "      <td>0.722</td>\n",
              "      <td>0.752</td>\n",
              "      <td>0.694</td>\n",
              "      <td>DecisionTree</td>\n",
              "      <td>normalize before split</td>\n",
              "    </tr>\n",
              "    <tr>\n",
              "      <th>2</th>\n",
              "      <td>0.590</td>\n",
              "      <td>0.703</td>\n",
              "      <td>0.735</td>\n",
              "      <td>0.674</td>\n",
              "      <td>DecisionTree</td>\n",
              "      <td>normalize after split</td>\n",
              "    </tr>\n",
              "    <tr>\n",
              "      <th>3</th>\n",
              "      <td>0.650</td>\n",
              "      <td>0.752</td>\n",
              "      <td>0.768</td>\n",
              "      <td>0.736</td>\n",
              "      <td>DecisionTree</td>\n",
              "      <td>standardize before split</td>\n",
              "    </tr>\n",
              "    <tr>\n",
              "      <th>4</th>\n",
              "      <td>0.640</td>\n",
              "      <td>0.743</td>\n",
              "      <td>0.765</td>\n",
              "      <td>0.722</td>\n",
              "      <td>DecisionTree</td>\n",
              "      <td>standardize after split</td>\n",
              "    </tr>\n",
              "    <tr>\n",
              "      <th>5</th>\n",
              "      <td>0.725</td>\n",
              "      <td>0.835</td>\n",
              "      <td>0.735</td>\n",
              "      <td>0.965</td>\n",
              "      <td>DecisionTree</td>\n",
              "      <td>grid search</td>\n",
              "    </tr>\n",
              "    <tr>\n",
              "      <th>6</th>\n",
              "      <td>0.700</td>\n",
              "      <td>0.809</td>\n",
              "      <td>0.747</td>\n",
              "      <td>0.882</td>\n",
              "      <td>RandomForest</td>\n",
              "      <td>default</td>\n",
              "    </tr>\n",
              "    <tr>\n",
              "      <th>7</th>\n",
              "      <td>0.720</td>\n",
              "      <td>0.823</td>\n",
              "      <td>0.756</td>\n",
              "      <td>0.903</td>\n",
              "      <td>RandomForest</td>\n",
              "      <td>normalize before split</td>\n",
              "    </tr>\n",
              "    <tr>\n",
              "      <th>8</th>\n",
              "      <td>0.715</td>\n",
              "      <td>0.818</td>\n",
              "      <td>0.757</td>\n",
              "      <td>0.889</td>\n",
              "      <td>RandomForest</td>\n",
              "      <td>normalize after split</td>\n",
              "    </tr>\n",
              "    <tr>\n",
              "      <th>9</th>\n",
              "      <td>0.650</td>\n",
              "      <td>0.752</td>\n",
              "      <td>0.768</td>\n",
              "      <td>0.736</td>\n",
              "      <td>RandomForest</td>\n",
              "      <td>standardize before split</td>\n",
              "    </tr>\n",
              "    <tr>\n",
              "      <th>10</th>\n",
              "      <td>0.640</td>\n",
              "      <td>0.743</td>\n",
              "      <td>0.765</td>\n",
              "      <td>0.722</td>\n",
              "      <td>RandomForest</td>\n",
              "      <td>standardize after split</td>\n",
              "    </tr>\n",
              "    <tr>\n",
              "      <th>11</th>\n",
              "      <td>0.720</td>\n",
              "      <td>0.829</td>\n",
              "      <td>0.739</td>\n",
              "      <td>0.944</td>\n",
              "      <td>RandomForest</td>\n",
              "      <td>grid search</td>\n",
              "    </tr>\n",
              "  </tbody>\n",
              "</table>\n",
              "</div>"
            ],
            "text/plain": [
              "    Accuracy  F1 score  ...         model           modelEvaluation\n",
              "0      0.625     0.733  ...  DecisionTree                   default\n",
              "1      0.615     0.722  ...  DecisionTree    normalize before split\n",
              "2      0.590     0.703  ...  DecisionTree     normalize after split\n",
              "3      0.650     0.752  ...  DecisionTree  standardize before split\n",
              "4      0.640     0.743  ...  DecisionTree   standardize after split\n",
              "5      0.725     0.835  ...  DecisionTree               grid search\n",
              "6      0.700     0.809  ...  RandomForest                   default\n",
              "7      0.720     0.823  ...  RandomForest    normalize before split\n",
              "8      0.715     0.818  ...  RandomForest     normalize after split\n",
              "9      0.650     0.752  ...  RandomForest  standardize before split\n",
              "10     0.640     0.743  ...  RandomForest   standardize after split\n",
              "11     0.720     0.829  ...  RandomForest               grid search\n",
              "\n",
              "[12 rows x 6 columns]"
            ]
          },
          "metadata": {
            "tags": []
          },
          "execution_count": 101
        }
      ]
    },
    {
      "cell_type": "code",
      "metadata": {
        "id": "5JpA74lj-GgN",
        "colab_type": "code",
        "colab": {
          "base_uri": "https://localhost:8080/",
          "height": 106
        },
        "outputId": "ba31f342-4297-43de-9779-b91ffb2d2671"
      },
      "source": [
        "s = summ_table.loc[summ_table.iloc[:,5]=='grid search']\n",
        "s"
      ],
      "execution_count": null,
      "outputs": [
        {
          "output_type": "execute_result",
          "data": {
            "text/html": [
              "<div>\n",
              "<style scoped>\n",
              "    .dataframe tbody tr th:only-of-type {\n",
              "        vertical-align: middle;\n",
              "    }\n",
              "\n",
              "    .dataframe tbody tr th {\n",
              "        vertical-align: top;\n",
              "    }\n",
              "\n",
              "    .dataframe thead th {\n",
              "        text-align: right;\n",
              "    }\n",
              "</style>\n",
              "<table border=\"1\" class=\"dataframe\">\n",
              "  <thead>\n",
              "    <tr style=\"text-align: right;\">\n",
              "      <th></th>\n",
              "      <th>Accuracy</th>\n",
              "      <th>F1 score</th>\n",
              "      <th>Recall</th>\n",
              "      <th>Precision</th>\n",
              "      <th>model</th>\n",
              "      <th>modelEvaluation</th>\n",
              "    </tr>\n",
              "  </thead>\n",
              "  <tbody>\n",
              "    <tr>\n",
              "      <th>5</th>\n",
              "      <td>0.725</td>\n",
              "      <td>0.835</td>\n",
              "      <td>0.735</td>\n",
              "      <td>0.965</td>\n",
              "      <td>DecisionTree</td>\n",
              "      <td>grid search</td>\n",
              "    </tr>\n",
              "    <tr>\n",
              "      <th>11</th>\n",
              "      <td>0.720</td>\n",
              "      <td>0.829</td>\n",
              "      <td>0.739</td>\n",
              "      <td>0.944</td>\n",
              "      <td>RandomForest</td>\n",
              "      <td>grid search</td>\n",
              "    </tr>\n",
              "  </tbody>\n",
              "</table>\n",
              "</div>"
            ],
            "text/plain": [
              "    Accuracy  F1 score  Recall  Precision         model modelEvaluation\n",
              "5      0.725     0.835   0.735      0.965  DecisionTree     grid search\n",
              "11     0.720     0.829   0.739      0.944  RandomForest     grid search"
            ]
          },
          "metadata": {
            "tags": []
          },
          "execution_count": 107
        }
      ]
    },
    {
      "cell_type": "code",
      "metadata": {
        "id": "rl7GxBktHRSQ",
        "colab_type": "code",
        "colab": {}
      },
      "source": [
        "pos = list(range(len(s['model']))) \n",
        "width = 0.15 "
      ],
      "execution_count": null,
      "outputs": []
    },
    {
      "cell_type": "code",
      "metadata": {
        "id": "c8SGfFOU1BWR",
        "colab_type": "code",
        "colab": {
          "base_uri": "https://localhost:8080/",
          "height": 336
        },
        "outputId": "3f34cb62-981a-4d4d-efe4-3b15fd6348f4"
      },
      "source": [
        "#bar chart เปรียบเทียบค่า Accuracy, F1 score, Recall, Precision ของ Decision Tree Model ที่ดีที่สุด กับ Random Forest Model ด้วยการใช้ Grid Search\n",
        "\n",
        "# Setting the positions and width for the bars\n",
        "pos = list(range(len(s['model']))) \n",
        "width = 0.15 \n",
        "\n",
        "# Plotting the bars\n",
        "fig, ax = plt.subplots(figsize=(10,5))\n",
        "\n",
        "# Create a bar with 'Accuracy' data,\n",
        "# in position pos,\n",
        "plt.bar(pos, \n",
        "        #using s['Accuracy'] data,\n",
        "        s['Accuracy'], \n",
        "        # of width\n",
        "        width, \n",
        "        # with alpha 0.5\n",
        "        alpha=0.5, \n",
        "        # with color\n",
        "        color='#EE3224') \n",
        "\n",
        "plt.bar([p + width for p in pos], \n",
        "        s['F1 score'],\n",
        "        # of width\n",
        "        width, \n",
        "        # with alpha 0.5\n",
        "        alpha=0.5, \n",
        "        # with color\n",
        "        color='#F78F1E') \n",
        "\n",
        "plt.bar([p + width*2 for p in pos], \n",
        "        s['Recall'], \n",
        "        # of width\n",
        "        width, \n",
        "        # with alpha 0.5\n",
        "        alpha=0.5, \n",
        "        # with color\n",
        "        color='#FFC222') \n",
        "\n",
        "plt.bar([p + width*3 for p in pos], \n",
        "        s['Precision'], \n",
        "        # of width\n",
        "        width, \n",
        "        # with alpha 0.5\n",
        "        alpha=0.5, \n",
        "        # with color\n",
        "        color='#FFC260')\n",
        "\n",
        "# Set the y axis label\n",
        "ax.set_ylabel('Score')\n",
        "\n",
        "# Set the chart's title\n",
        "ax.set_title('Grid Search')\n",
        "\n",
        "# Set the position of the x ticks\n",
        "ax.set_xticks([p + 1.5 * width for p in pos])\n",
        "\n",
        "# Set the labels for the x ticks\n",
        "ax.set_xticklabels(s['model'])\n",
        "\n",
        "# Adding the legend and showing the plot\n",
        "plt.legend(['Accuracy', 'F1 score', 'Recall','Precision'], loc='lower right')\n",
        "plt.grid()\n",
        "plt.show()"
      ],
      "execution_count": null,
      "outputs": [
        {
          "output_type": "display_data",
          "data": {
            "image/png": "[encoded data removed]",
            "text/plain": [
              "<Figure size 720x360 with 1 Axes>"
            ]
          },
          "metadata": {
            "tags": [],
            "needs_background": "light"
          }
        }
      ]
    }
  ]
}