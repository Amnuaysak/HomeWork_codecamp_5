{
  "nbformat": 4,
  "nbformat_minor": 0,
  "metadata": {
    "colab": {
      "name": "Quiz8",
      "provenance": [],
      "collapsed_sections": []
    },
    "kernelspec": {
      "name": "python3",
      "display_name": "Python 3"
    }
  },
  "cells": [
    {
      "cell_type": "markdown",
      "metadata": {
        "id": "DYzPIjhVKUhK",
        "colab_type": "text"
      },
      "source": [
        "เขียน Map แบบ Multiple list โดยให้ B ยกกำลัง A"
      ]
    },
    {
      "cell_type": "code",
      "metadata": {
        "id": "AWUDLYBXJ5lO",
        "colab_type": "code",
        "colab": {}
      },
      "source": [
        "A=[1,2,3,4,5]\n",
        "B=[2,3,1,3,2]"
      ],
      "execution_count": 0,
      "outputs": []
    },
    {
      "cell_type": "code",
      "metadata": {
        "id": "3bCJKc9OKpkJ",
        "colab_type": "code",
        "colab": {
          "base_uri": "https://localhost:8080/",
          "height": 34
        },
        "outputId": "2e4f6609-ce90-4bc5-8f23-43250e5481d5"
      },
      "source": [
        "C=map(lambda A,B:B**A,A,B)\n",
        "print(list(C))"
      ],
      "execution_count": 3,
      "outputs": [
        {
          "output_type": "stream",
          "text": [
            "[2, 9, 1, 81, 32]\n"
          ],
          "name": "stdout"
        }
      ]
    },
    {
      "cell_type": "code",
      "metadata": {
        "id": "92l88kEtLTkr",
        "colab_type": "code",
        "colab": {}
      },
      "source": [
        "def yokSong(x,y):\n",
        "  return y**x"
      ],
      "execution_count": 0,
      "outputs": []
    },
    {
      "cell_type": "code",
      "metadata": {
        "id": "PBHPK_w2LrC3",
        "colab_type": "code",
        "colab": {
          "base_uri": "https://localhost:8080/",
          "height": 34
        },
        "outputId": "c1e9aff6-5eb6-4d4f-e2f7-bed52d4cce53"
      },
      "source": [
        "D=map(yokSong,A,B)\n",
        "print(list(D))"
      ],
      "execution_count": 10,
      "outputs": [
        {
          "output_type": "stream",
          "text": [
            "[2, 9, 1, 81, 32]\n"
          ],
          "name": "stdout"
        }
      ]
    },
    {
      "cell_type": "markdown",
      "metadata": {
        "id": "QRx13j94N7Fe",
        "colab_type": "text"
      },
      "source": [
        "ZIp คะแนนสอบชื่อ เลขที่ คะแนนสอบ"
      ]
    },
    {
      "cell_type": "code",
      "metadata": {
        "id": "caOqvrmKOJyI",
        "colab_type": "code",
        "colab": {
          "base_uri": "https://localhost:8080/",
          "height": 34
        },
        "outputId": "cf6f7268-dfa9-4659-89bd-5383fb8ae224"
      },
      "source": [
        "name=['A','B','C','D']\n",
        "id=[11,22,33,44]\n",
        "score=[75,66,34,80]\n",
        "\n",
        "E=list(zip(name,id,score))\n",
        "print(E)"
      ],
      "execution_count": 12,
      "outputs": [
        {
          "output_type": "stream",
          "text": [
            "[('A', 11, 75), ('B', 22, 66), ('C', 33, 34), ('D', 44, 80)]\n"
          ],
          "name": "stdout"
        }
      ]
    }
  ]
}