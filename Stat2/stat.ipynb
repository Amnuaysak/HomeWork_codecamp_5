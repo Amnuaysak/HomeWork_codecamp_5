{
  "nbformat": 4,
  "nbformat_minor": 0,
  "metadata": {
    "colab": {
      "name": "stat.ipynb",
      "provenance": [],
      "collapsed_sections": []
    },
    "kernelspec": {
      "name": "python3",
      "display_name": "Python 3"
    }
  },
  "cells": [
    {
      "cell_type": "code",
      "metadata": {
        "id": "4-PsChnyNYAQ",
        "colab_type": "code",
        "colab": {}
      },
      "source": [
        "import numpy as np\n",
        "import pandas as pd\n",
        "import matplotlib.pyplot as plt\n",
        "import scipy\n",
        "from scipy import stats,mean\n",
        "from scipy.stats import sem, t,variation\n",
        "import math"
      ],
      "execution_count": 0,
      "outputs": []
    },
    {
      "cell_type": "code",
      "metadata": {
        "id": "WWKEPW5HVbNo",
        "colab_type": "code",
        "colab": {}
      },
      "source": [
        "class Stat: #ใช้คำนวนค่าทางสถิติพื้นฐาน\n",
        "  def __init__(self,data):\n",
        "    self.data = data\n",
        "  def calMean(self):\n",
        "    print('ค่า mean คือ %.2f'%self.data.mean())\n",
        "    print('ค่า median คือ ',np.median(self.data))  \n",
        "    print('ค่า mode คือ ',stats.mode(self.data))\n",
        "    print('ค่า variance คือ %.2f'%np.var(self.data))\n",
        "    print('ค่า std คือ % .2f'%np.std(self.data))"
      ],
      "execution_count": 0,
      "outputs": []
    },
    {
      "cell_type": "markdown",
      "metadata": {
        "id": "9HFJyIQc4VCz",
        "colab_type": "text"
      },
      "source": [
        "**ข้อ 1 2 3  4 5 หาค่า mean median mode variance std ของชุดตัวเลข 10, 20, 50, 70, 90, 110, 15, 66, 20, 33**"
      ]
    },
    {
      "cell_type": "code",
      "metadata": {
        "id": "aW3KGyIlW037",
        "colab_type": "code",
        "outputId": "f4583ada-5845-4335-dfec-57c722a593b5",
        "colab": {
          "base_uri": "https://localhost:8080/",
          "height": 106
        }
      },
      "source": [
        "#ข้อ 1 2 3  4 5 หาค่า mean median mode variance std ของชุดตัวเลข 10, 20, 50, 70, 90, 110, 15, 66, 20, 33\n",
        "stat_1 = np.array([10, 20, 50, 70, 90, 110, 15, 66, 20, 33])\n",
        "\n",
        "s1 = Stat(stat_1)\n",
        "s1.calMean()"
      ],
      "execution_count": 0,
      "outputs": [
        {
          "output_type": "stream",
          "text": [
            "ค่า mean คือ 48.40\n",
            "ค่า median คือ  41.5\n",
            "ค่า mode คือ  ModeResult(mode=array([20]), count=array([2]))\n",
            "ค่า variance คือ 1074.44\n",
            "ค่า std คือ  32.78\n"
          ],
          "name": "stdout"
        }
      ]
    },
    {
      "cell_type": "markdown",
      "metadata": {
        "id": "PaoNjiKt4eb8",
        "colab_type": "text"
      },
      "source": [
        "**ข้อ 6 หาค่า mean median mode variance std ของชุดตัวเลข ชุด2: 33, 16, 73, 44, 67, 134, 99, 11, 13, 16```**\n",
        "\n"
      ]
    },
    {
      "cell_type": "code",
      "metadata": {
        "id": "Fn5ZDX9UacOx",
        "colab_type": "code",
        "outputId": "07c90e93-b93f-4f9e-f517-43d0dd0c3460",
        "colab": {
          "base_uri": "https://localhost:8080/",
          "height": 106
        }
      },
      "source": [
        "stat_2 = np.array([33, 16, 73, 44, 67, 134, 99, 11, 13, 16])\n",
        "\n",
        "s2 = Stat(stat_2)\n",
        "s2.calMean()"
      ],
      "execution_count": 0,
      "outputs": [
        {
          "output_type": "stream",
          "text": [
            "ค่า mean คือ 50.60\n",
            "ค่า median คือ  38.5\n",
            "ค่า mode คือ  ModeResult(mode=array([16]), count=array([2]))\n",
            "ค่า variance คือ 1579.84\n",
            "ค่า std คือ  39.75\n"
          ],
          "name": "stdout"
        }
      ]
    },
    {
      "cell_type": "markdown",
      "metadata": {
        "id": "CP9LBcTA4wUM",
        "colab_type": "text"
      },
      "source": [
        "**ข้อ 7 ค่า coeficient of variation ของข้อมูลสองชุด**"
      ]
    },
    {
      "cell_type": "code",
      "metadata": {
        "id": "8J4OGDDGj4mJ",
        "colab_type": "code",
        "outputId": "36c9061c-19ac-4806-c8da-5fdd318b3140",
        "colab": {
          "base_uri": "https://localhost:8080/",
          "height": 52
        }
      },
      "source": [
        "print('ค่า coeficient of variation ของข้อมูลชุดที่ 1 คือ % .2f'%variation(stat_1))\n",
        "print('ค่า coeficient of variation ของข้อมูลชุดที่ 2 คือ % .2f'%variation(stat_2))"
      ],
      "execution_count": 0,
      "outputs": [
        {
          "output_type": "stream",
          "text": [
            "ค่า coeficient of variation ของข้อมูลชุดที่ 1 คือ  0.68\n",
            "ค่า coeficient of variation ของข้อมูลชุดที่ 2 คือ  0.79\n"
          ],
          "name": "stdout"
        }
      ]
    },
    {
      "cell_type": "markdown",
      "metadata": {
        "id": "g1aj9LO07srz",
        "colab_type": "text"
      },
      "source": [
        "**ข้อ 8 ค่า covariance ของข้อมูล**\n",
        "\n",
        "\n",
        "\n"
      ]
    },
    {
      "cell_type": "code",
      "metadata": {
        "id": "u5m-ShqeraaX",
        "colab_type": "code",
        "outputId": "3f0f37e7-8b5f-4079-b623-eafe0a73e5af",
        "colab": {
          "base_uri": "https://localhost:8080/",
          "height": 35
        }
      },
      "source": [
        "print('ค่า covariance ของข้อมูลชุดที่ 1 กับ 2 คือ % .2f'%np.cov(stat_1,stat_2)[0][1])"
      ],
      "execution_count": 0,
      "outputs": [
        {
          "output_type": "stream",
          "text": [
            "ค่า covariance ของข้อมูลชุดที่ 1 กับ 2 คือ  739.84\n"
          ],
          "name": "stdout"
        }
      ]
    },
    {
      "cell_type": "code",
      "metadata": {
        "id": "CbhgdSGD08Pt",
        "colab_type": "code",
        "colab": {}
      },
      "source": [
        "print('ค่า corelation coefficient ของข้อมูลชุดที่ 1 กับ 2 คือ % .2f'%np.corrcoef(a)[0][1])"
      ],
      "execution_count": 0,
      "outputs": []
    },
    {
      "cell_type": "markdown",
      "metadata": {
        "id": "BCBSU6or8U20",
        "colab_type": "text"
      },
      "source": [
        "**ข้อ 9 จงหา Mean STD Standardize ข้อมูลชุดนั้น และพล็อตกราฟจาก Standardized Dataset**"
      ]
    },
    {
      "cell_type": "code",
      "metadata": {
        "id": "220zl1xyWOIg",
        "colab_type": "code",
        "outputId": "b476a52b-a34e-4844-b6ac-5e560d4d89ec",
        "colab": {
          "base_uri": "https://localhost:8080/",
          "height": 106
        }
      },
      "source": [
        "stat_3 = np.array([35.54,49.93,58.09,21.47,30.64,44.78,40.64,51.1,34.77,40.77,43.62,46.72,43.69,34.47,41.49,47.67,24.97,38.58,48.97,39.67,44.29,42.56,48.26,37.1,22.28,39.2,45.73,39.13,32.91,46.75])\n",
        "#สมมติว่าข้อมูลถูกกระจายอย่างปกติ (Normally distributed) จงหา Mean STD Standardize ข้อมูลชุดนั้น และพล็อตกราฟจาก Standardized Dataset\n",
        "\n",
        "s3 = Stat(stat_3)\n",
        "s3.calMean()"
      ],
      "execution_count": 0,
      "outputs": [
        {
          "output_type": "stream",
          "text": [
            "ค่า mean คือ 40.53\n",
            "ค่า median คือ  41.13\n",
            "ค่า mode คือ  ModeResult(mode=array([21.47]), count=array([1]))\n",
            "ค่า variance คือ 68.68\n",
            "ค่า std คือ  8.29\n"
          ],
          "name": "stdout"
        }
      ]
    },
    {
      "cell_type": "code",
      "metadata": {
        "id": "2OlKYjHhYYwM",
        "colab_type": "code",
        "outputId": "3f81144f-2088-4884-f6b1-2395a5a12fb1",
        "colab": {
          "base_uri": "https://localhost:8080/",
          "height": 124
        }
      },
      "source": [
        "stat_3 = (stat_3-stat_3.mean())/np.std(stat_3) #Standardization of normal distribution\n",
        "# ข้อมูลที่ถูก Standardization แล้ว\n",
        "stat_3"
      ],
      "execution_count": 0,
      "outputs": [
        {
          "output_type": "execute_result",
          "data": {
            "text/plain": [
              "array([-0.60167087,  1.13468394,  2.11930209, -2.2994132 , -1.19292442,\n",
              "        0.51326439,  0.01371547,  1.2758608 , -0.69458214,  0.02940179,\n",
              "        0.37329416,  0.74735253,  0.38174064, -0.73078134,  0.11627986,\n",
              "        0.86198332, -1.87708924, -0.23485234,  1.01884651, -0.1033286 ,\n",
              "        0.45413904,  0.24539033,  0.93317507, -0.41343505, -2.20167537,\n",
              "       -0.16004067,  0.62789518, -0.16848715, -0.91901717,  0.75097245])"
            ]
          },
          "metadata": {
            "tags": []
          },
          "execution_count": 48
        }
      ]
    },
    {
      "cell_type": "code",
      "metadata": {
        "id": "kqXh-tgyvSFV",
        "colab_type": "code",
        "outputId": "5f2d1d95-839d-49e4-b03b-232684c6f913",
        "colab": {
          "base_uri": "https://localhost:8080/",
          "height": 265
        }
      },
      "source": [
        "y1 = scipy.stats.norm.pdf(stat_3)\n",
        "\n",
        "trace = plt.scatter(stat_3,y1)"
      ],
      "execution_count": 0,
      "outputs": [
        {
          "output_type": "display_data",
          "data": {
            "image/png": "[encoded data removed]",
            "text/plain": [
              "<Figure size 432x288 with 1 Axes>"
            ]
          },
          "metadata": {
            "tags": [],
            "needs_background": "light"
          }
        }
      ]
    },
    {
      "cell_type": "code",
      "metadata": {
        "id": "sW1VqxSMJLrm",
        "colab_type": "code",
        "colab": {}
      },
      "source": [
        "class CI:\n",
        "  def __init__(self,data,std,confi):\n",
        "    self.data = data\n",
        "    self.std = std\n",
        "    self.confi = confi\n",
        "  \n",
        "  def calMean(self):\n",
        "    return self.data.mean()\n",
        "\n",
        "  def calSTD(self):\n",
        "    return np.std(self.data)\n",
        "\n",
        "  def calCIZ(self):\n",
        "    return self.confi*self.std/math.sqrt(len(self.data))\n",
        "\n",
        "  def calCIT(self):\n",
        "    return self.confi*self.calSTD()/math.sqrt(len(self.data))\n",
        "\n",
        "  def calInZ(self):\n",
        "    #print('ค่า confidence Interval คือ' ,self.calMean()-self.calCIZ() , self.calMean()+self.calCIZ())\n",
        "    return self.calMean()-self.calCIZ() , self.calMean()+self.calCIZ()\n",
        "\n",
        "  def calInT(self):\n",
        "    return self.calMean()-self.calCIT(),self.calMean()+self.calCIT()\n",
        "    #print('ค่า confidence Interval คือ',self.calMean()-self.calCIT(),self.calMean()+self.calCIT())"
      ],
      "execution_count": 0,
      "outputs": []
    },
    {
      "cell_type": "markdown",
      "metadata": {
        "id": "9wmrZ6Xv9Ijl",
        "colab_type": "text"
      },
      "source": [
        "**ข้อ** 10-13 สมมติว่าเป็นเงินเดือนของ Programmers ในไทยมีดังนี้ 42690.64,42325.34,64971.4,35967.86,53694.28,43309.04,36018.4,29007.55,47506.85,77279.74\n",
        "หา Mean และ STD ของข้อมูลชุดนั้น หา T-score สำหรับ 90% Confidence Interval ของข้อมูลชุดนั้น หา 90% กับ 95% Confidence Interval"
      ]
    },
    {
      "cell_type": "code",
      "metadata": {
        "id": "YrcMKAOe3_sx",
        "colab_type": "code",
        "outputId": "4ae4573f-84f8-4170-9c46-2c711751ba8f",
        "colab": {
          "base_uri": "https://localhost:8080/",
          "height": 52
        }
      },
      "source": [
        "#สมมติว่าเป็นเงินเดือนของ Programmers ในไทยมีดังนี้ 42690.64,42325.34,64971.4,35967.86,53694.28,43309.04,36018.4,29007.55,47506.85,77279.74\n",
        "#หา Mean และ STD ของข้อมูลชุดนั้น หา T-score สำหรับ 90% Confidence Interval ของข้อมูลชุดนั้น หา 90% กับ 95% Confidence Interval\n",
        "\n",
        "stat_4 = np.array([42690.64,42325.34,64971.4,35967.86,53694.28,43309.04,36018.4,29007.55,47506.85,77279.74])\n",
        "\n",
        "#t90% = t9,0.95 = 1.833\n",
        "#t95%=  t9,0.975 = 2.262\n",
        "\n",
        "c1 = CI(stat_4,0,1.833)\n",
        "#c2.calInZ()\n",
        "print('Confidence Interval 90% คือ',c1.calInT())\n",
        "\n",
        "c1 = CI(stat_4,0,2.262)\n",
        "print('Confidence Interval 95% คือ',c1.calInT())\n"
      ],
      "execution_count": 0,
      "outputs": [
        {
          "output_type": "stream",
          "text": [
            "Confidence Interval 90% คือ (39278.39201266835, 55275.82798733165)\n",
            "Confidence Interval 95% คือ (37406.351632654565, 57147.868367345436)\n"
          ],
          "name": "stdout"
        }
      ]
    },
    {
      "cell_type": "markdown",
      "metadata": {
        "id": "6hwqbICG9twE",
        "colab_type": "text"
      },
      "source": [
        "ข้อ 13-15 สมมติว่าเป็นเงินเดือนของหมอฟันในไทย 81469,87531.77,75745.76,84907.66,91575.27,91222.62,80216.58,93699.6,95481.35,95482.59\n",
        "สมมติว่าข้อมูลถูกกระจายอย่างปกติ (Normally distributed) ให้ Population STD = 7900 จงหา Mean ของข้อมูลชุดนั้น หา Z-score สำหรับ 90% Confidence Interval ของข้อมูลชุดนั้น หา 90% กับ 95% Confidence Interval"
      ]
    },
    {
      "cell_type": "code",
      "metadata": {
        "id": "pU1soXqK4r_D",
        "colab_type": "code",
        "outputId": "0ebd90e0-dbc6-4295-ea92-247f8e5d5649",
        "colab": {
          "base_uri": "https://localhost:8080/",
          "height": 52
        }
      },
      "source": [
        "#สมมติว่าเป็นเงินเดือนของหมอฟันในไทย 81469,87531.77,75745.76,84907.66,91575.27,91222.62,80216.58,93699.6,95481.35,95482.59\n",
        "#สมมติว่าข้อมูลถูกกระจายอย่างปกติ (Normally distributed) ให้ Population STD = 7900 จงหา Mean ของข้อมูลชุดนั้น หา Z-score สำหรับ 90% Confidence Interval ของข้อมูลชุดนั้น หา 90% กับ 95% Confidence Interval\n",
        "\n",
        "stat_5 = np.array([81469,87531.77,75745.76,84907.66,91575.27,91222.62,80216.58,93699.6,95481.35,95482.59])\n",
        "\n",
        "\n",
        "#Z95% = Z0.025 =Z0.975 = 1.96\n",
        "#Z90% = Z0.95 = 1.645\n",
        "\n",
        "c2 = CI(stat_5,7900,1.645)\n",
        "print('Confidence Interval 90% คือ',c2.calInZ())\n",
        "\n",
        "c2 = CI(stat_5,7900,1.96)\n",
        "print('Confidence Interval 95% คือ',c2.calInZ())"
      ],
      "execution_count": 0,
      "outputs": [
        {
          "output_type": "stream",
          "text": [
            "Confidence Interval 90% คือ (83623.68206672819, 91842.75793327182)\n",
            "Confidence Interval 95% คือ (82836.74927099528, 92629.69072900472)\n"
          ],
          "name": "stdout"
        }
      ]
    }
  ]
}