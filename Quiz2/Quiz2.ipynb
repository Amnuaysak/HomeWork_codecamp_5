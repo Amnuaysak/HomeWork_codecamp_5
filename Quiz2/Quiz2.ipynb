{
  "nbformat": 4,
  "nbformat_minor": 0,
  "metadata": {
    "colab": {
      "name": "Quiz2.ipynb",
      "provenance": [],
      "collapsed_sections": []
    },
    "kernelspec": {
      "name": "python3",
      "display_name": "Python 3"
    }
  },
  "cells": [
    {
      "cell_type": "markdown",
      "metadata": {
        "id": "2w9-vTgGJBn8",
        "colab_type": "text"
      },
      "source": [
        "Quiz 2 ข้อ 1"
      ]
    },
    {
      "cell_type": "code",
      "metadata": {
        "id": "mukdfW4-Hlh9",
        "colab_type": "code",
        "colab": {}
      },
      "source": [
        "harnSam = lambda a : a/3\n"
      ],
      "execution_count": 0,
      "outputs": []
    },
    {
      "cell_type": "code",
      "metadata": {
        "id": "Vpjpd97NItpr",
        "colab_type": "code",
        "outputId": "7d28ba6d-ea83-4b4e-d596-f86c5f932a02",
        "colab": {
          "base_uri": "https://localhost:8080/",
          "height": 34
        }
      },
      "source": [
        "harnSam(9)"
      ],
      "execution_count": 2,
      "outputs": [
        {
          "output_type": "execute_result",
          "data": {
            "text/plain": [
              "3.0"
            ]
          },
          "metadata": {
            "tags": []
          },
          "execution_count": 2
        }
      ]
    },
    {
      "cell_type": "markdown",
      "metadata": {
        "id": "LKDui-OuJORj",
        "colab_type": "text"
      },
      "source": [
        "Quiz 2 ข้อ 2"
      ]
    },
    {
      "cell_type": "code",
      "metadata": {
        "id": "_zR3OFgtJLUM",
        "colab_type": "code",
        "colab": {}
      },
      "source": [
        "def avg4(a,b,c,d):\n",
        "  print((a+b+c+d)/4)"
      ],
      "execution_count": 0,
      "outputs": []
    },
    {
      "cell_type": "code",
      "metadata": {
        "id": "3GyZWxl8JhP7",
        "colab_type": "code",
        "outputId": "73a5a887-4135-4c57-98f8-5a5efe132c1d",
        "colab": {
          "base_uri": "https://localhost:8080/",
          "height": 34
        }
      },
      "source": [
        "avg4(1,2,3,4)"
      ],
      "execution_count": 0,
      "outputs": [
        {
          "output_type": "stream",
          "text": [
            "2.5\n"
          ],
          "name": "stdout"
        }
      ]
    },
    {
      "cell_type": "markdown",
      "metadata": {
        "id": "zT2c6dh5JopH",
        "colab_type": "text"
      },
      "source": [
        "Quiz 2 ข้อ 3"
      ]
    },
    {
      "cell_type": "code",
      "metadata": {
        "id": "7HkgePElJsOh",
        "colab_type": "code",
        "colab": {}
      },
      "source": [
        "avg3 = lambda x,y,z : print ((x+y+z)/3)"
      ],
      "execution_count": 0,
      "outputs": []
    },
    {
      "cell_type": "code",
      "metadata": {
        "id": "Oom8P4HsJ7X7",
        "colab_type": "code",
        "outputId": "86841d4a-1f04-46ad-f722-d7a10c395388",
        "colab": {
          "base_uri": "https://localhost:8080/",
          "height": 34
        }
      },
      "source": [
        "avg3(1,2,3)"
      ],
      "execution_count": 0,
      "outputs": [
        {
          "output_type": "stream",
          "text": [
            "2.0\n"
          ],
          "name": "stdout"
        }
      ]
    }
  ]
}